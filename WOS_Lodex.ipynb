{
 "cells": [
  {
   "cell_type": "code",
   "execution_count": 1,
   "outputs": [],
   "source": [
    "import matplotlib.pyplot as plt\n",
    "import requests\n",
    "import json\n",
    "import pandas as pd\n",
    "import numpy as np\n",
    "from rich import print_json\n",
    "from IPython.display import display\n",
    "import seaborn\n",
    "import geopandas"
   ],
   "metadata": {
    "collapsed": false,
    "pycharm": {
     "name": "#%%\n"
    }
   }
  },
  {
   "cell_type": "code",
   "execution_count": 2,
   "outputs": [],
   "source": [
    "anneeMin=2017\n",
    "anneeMax=2020"
   ],
   "metadata": {
    "collapsed": false,
    "pycharm": {
     "name": "#%%\n"
    }
   }
  },
  {
   "cell_type": "code",
   "execution_count": 10,
   "outputs": [],
   "source": [
    "listeInstituts=[\"INC\",\"INEE\",\"INP\",\"INSB\",\"INSHS\",\"INSIS\",\"INSMI\",\"INSU\",\"INS2I\",\"IN2P3\"]\n",
    "dfInstituts = pd.DataFrame(0,columns=listeInstituts,index=listeInstituts)"
   ],
   "metadata": {
    "collapsed": false,
    "pycharm": {
     "name": "#%%\n"
    }
   }
  },
  {
   "cell_type": "code",
   "execution_count": 11,
   "outputs": [
    {
     "data": {
      "text/plain": "       INC  INEE  INP  INSB  INSHS  INSIS  INSMI  INSU  INS2I  IN2P3\nINC      0     0    0     0      0      0      0     0      0      0\nINEE     0     0    0     0      0      0      0     0      0      0\nINP      0     0    0     0      0      0      0     0      0      0\nINSB     0     0    0     0      0      0      0     0      0      0\nINSHS    0     0    0     0      0      0      0     0      0      0\nINSIS    0     0    0     0      0      0      0     0      0      0\nINSMI    0     0    0     0      0      0      0     0      0      0\nINSU     0     0    0     0      0      0      0     0      0      0\nINS2I    0     0    0     0      0      0      0     0      0      0\nIN2P3    0     0    0     0      0      0      0     0      0      0",
      "text/html": "<div>\n<style scoped>\n    .dataframe tbody tr th:only-of-type {\n        vertical-align: middle;\n    }\n\n    .dataframe tbody tr th {\n        vertical-align: top;\n    }\n\n    .dataframe thead th {\n        text-align: right;\n    }\n</style>\n<table border=\"1\" class=\"dataframe\">\n  <thead>\n    <tr style=\"text-align: right;\">\n      <th></th>\n      <th>INC</th>\n      <th>INEE</th>\n      <th>INP</th>\n      <th>INSB</th>\n      <th>INSHS</th>\n      <th>INSIS</th>\n      <th>INSMI</th>\n      <th>INSU</th>\n      <th>INS2I</th>\n      <th>IN2P3</th>\n    </tr>\n  </thead>\n  <tbody>\n    <tr>\n      <th>INC</th>\n      <td>0</td>\n      <td>0</td>\n      <td>0</td>\n      <td>0</td>\n      <td>0</td>\n      <td>0</td>\n      <td>0</td>\n      <td>0</td>\n      <td>0</td>\n      <td>0</td>\n    </tr>\n    <tr>\n      <th>INEE</th>\n      <td>0</td>\n      <td>0</td>\n      <td>0</td>\n      <td>0</td>\n      <td>0</td>\n      <td>0</td>\n      <td>0</td>\n      <td>0</td>\n      <td>0</td>\n      <td>0</td>\n    </tr>\n    <tr>\n      <th>INP</th>\n      <td>0</td>\n      <td>0</td>\n      <td>0</td>\n      <td>0</td>\n      <td>0</td>\n      <td>0</td>\n      <td>0</td>\n      <td>0</td>\n      <td>0</td>\n      <td>0</td>\n    </tr>\n    <tr>\n      <th>INSB</th>\n      <td>0</td>\n      <td>0</td>\n      <td>0</td>\n      <td>0</td>\n      <td>0</td>\n      <td>0</td>\n      <td>0</td>\n      <td>0</td>\n      <td>0</td>\n      <td>0</td>\n    </tr>\n    <tr>\n      <th>INSHS</th>\n      <td>0</td>\n      <td>0</td>\n      <td>0</td>\n      <td>0</td>\n      <td>0</td>\n      <td>0</td>\n      <td>0</td>\n      <td>0</td>\n      <td>0</td>\n      <td>0</td>\n    </tr>\n    <tr>\n      <th>INSIS</th>\n      <td>0</td>\n      <td>0</td>\n      <td>0</td>\n      <td>0</td>\n      <td>0</td>\n      <td>0</td>\n      <td>0</td>\n      <td>0</td>\n      <td>0</td>\n      <td>0</td>\n    </tr>\n    <tr>\n      <th>INSMI</th>\n      <td>0</td>\n      <td>0</td>\n      <td>0</td>\n      <td>0</td>\n      <td>0</td>\n      <td>0</td>\n      <td>0</td>\n      <td>0</td>\n      <td>0</td>\n      <td>0</td>\n    </tr>\n    <tr>\n      <th>INSU</th>\n      <td>0</td>\n      <td>0</td>\n      <td>0</td>\n      <td>0</td>\n      <td>0</td>\n      <td>0</td>\n      <td>0</td>\n      <td>0</td>\n      <td>0</td>\n      <td>0</td>\n    </tr>\n    <tr>\n      <th>INS2I</th>\n      <td>0</td>\n      <td>0</td>\n      <td>0</td>\n      <td>0</td>\n      <td>0</td>\n      <td>0</td>\n      <td>0</td>\n      <td>0</td>\n      <td>0</td>\n      <td>0</td>\n    </tr>\n    <tr>\n      <th>IN2P3</th>\n      <td>0</td>\n      <td>0</td>\n      <td>0</td>\n      <td>0</td>\n      <td>0</td>\n      <td>0</td>\n      <td>0</td>\n      <td>0</td>\n      <td>0</td>\n      <td>0</td>\n    </tr>\n  </tbody>\n</table>\n</div>"
     },
     "execution_count": 11,
     "metadata": {},
     "output_type": "execute_result"
    }
   ],
   "source": [
    "dfInstituts"
   ],
   "metadata": {
    "collapsed": false,
    "pycharm": {
     "name": "#%%\n"
    }
   }
  },
  {
   "cell_type": "code",
   "execution_count": 90,
   "outputs": [],
   "source": [
    "def analyseInstituts (nomFichier, nomColonne='SIG_INST__MultiInst'):\n",
    "    df = pd.read_csv(nomFichier, sep=\";\")\n",
    "    df[nomColonne] = df[nomColonne].str.replace(' ','')\n",
    "    dummies = pd.get_dummies(df[nomColonne])\n",
    "    sommeCombinaison = dummies.sum()\n",
    "    #sommeCombinaison.sort_values(ascending=False)\n",
    "    dfDummiesInst = df[nomColonne].str.get_dummies(sep=';')\n",
    "    sommeInstituts = dfDummiesInst.sum()\n",
    "    return sommeCombinaison, sommeInstituts"
   ],
   "metadata": {
    "collapsed": false,
    "pycharm": {
     "name": "#%%\n"
    }
   }
  },
  {
   "cell_type": "code",
   "execution_count": 91,
   "outputs": [
    {
     "name": "stdout",
     "output_type": "stream",
     "text": [
      "IN2P3;INC;INS2I;INSIS            3\n",
      "IN2P3;INEE;INS2I;INSIS           1\n",
      "IN2P3;INP;INS2I;INSB             2\n",
      "IN2P3;INP;INS2I;INSIS;INSU       3\n",
      "IN2P3;INP;INS2I;INSU             3\n",
      "IN2P3;INS2I                      6\n",
      "IN2P3;INS2I;INSB                 2\n",
      "IN2P3;INS2I;INSIS                4\n",
      "IN2P3;INS2I;INSU                11\n",
      "INC;INEE;INS2I                   1\n",
      "INC;INP;INS2I                    1\n",
      "INC;INP;INS2I;INSIS              6\n",
      "INC;INS2I                       24\n",
      "INC;INS2I;INSB                   4\n",
      "INC;INS2I;INSB;INSIS             7\n",
      "INC;INS2I;INSIS                 36\n",
      "INEE;INS2I                      27\n",
      "INEE;INS2I;INSB                 20\n",
      "INEE;INS2I;INSB;INSHS            1\n",
      "INEE;INS2I;INSB;INSIS            1\n",
      "INEE;INS2I;INSB;INSU             2\n",
      "INEE;INS2I;INSIS                 6\n",
      "INEE;INS2I;INSIS;INSU            1\n",
      "INEE;INS2I;INSMI                 2\n",
      "INP;INS2I                       28\n",
      "INP;INS2I;INSB                   2\n",
      "INP;INS2I;INSB;INSIS             3\n",
      "INP;INS2I;INSIS                 38\n",
      "INP;INS2I;INSMI                  3\n",
      "INP;INS2I;INSU                   3\n",
      "INS2I                         2924\n",
      "INS2I;INSB                     124\n",
      "INS2I;INSB;INSHS                 8\n",
      "INS2I;INSB;INSIS                75\n",
      "INS2I;INSB;INSMI                 5\n",
      "INS2I;INSB;INSU                  1\n",
      "INS2I;INSHS                     18\n",
      "INS2I;INSHS;INSIS                3\n",
      "INS2I;INSHS;INSMI                1\n",
      "INS2I;INSHS;INSMI;INSU           1\n",
      "INS2I;INSIS                    723\n",
      "INS2I;INSIS;INSMI               18\n",
      "INS2I;INSIS;INSMI;INSU           1\n",
      "INS2I;INSIS;INSU                 8\n",
      "INS2I;INSMI                    100\n",
      "INS2I;INSU                      19\n",
      "dtype: int64\n",
      "IN2P3      35\n",
      "INC        82\n",
      "INEE       62\n",
      "INP        92\n",
      "INS2I    4280\n",
      "INSB      257\n",
      "INSHS      32\n",
      "INSIS     937\n",
      "INSMI     131\n",
      "INSU       53\n",
      "dtype: int64\n"
     ]
    }
   ],
   "source": [
    "a, b = analyseInstituts(\"WOS/Corpus WoS INS2I 2017.csv\")\n",
    "print(a)\n",
    "print(b)"
   ],
   "metadata": {
    "collapsed": false,
    "pycharm": {
     "name": "#%%\n"
    }
   }
  },
  {
   "cell_type": "code",
   "execution_count": 87,
   "outputs": [
    {
     "name": "stdout",
     "output_type": "stream",
     "text": [
      "IN2P3;INC;INS2I;INSB;INSIS;INSU       2\n",
      "IN2P3;INP;INS2I;INSIS;INSU            1\n",
      "IN2P3;INP;INS2I;INSU                  1\n",
      "IN2P3;INS2I                           5\n",
      "IN2P3;INS2I;INSB;INSIS                7\n",
      "IN2P3;INS2I;INSB;INSIS;INSU           1\n",
      "IN2P3;INS2I;INSU                      6\n",
      "INC;INEE;INS2I;INSB                   6\n",
      "INC;INP;INS2I;INSB                    1\n",
      "INC;INP;INS2I;INSB;INSIS;INSU         5\n",
      "INC;INP;INS2I;INSIS                   1\n",
      "INC;INS2I                            14\n",
      "INC;INS2I;INSB                        6\n",
      "INC;INS2I;INSB;INSIS                 10\n",
      "INC;INS2I;INSB;INSIS;INSU            10\n",
      "INC;INS2I;INSIS                      13\n",
      "INEE;INP;INS2I;INSB                   1\n",
      "INEE;INS2I                           28\n",
      "INEE;INS2I;INSB                      88\n",
      "INEE;INS2I;INSB;INSHS                 1\n",
      "INEE;INS2I;INSB;INSHS;INSIS           1\n",
      "INEE;INS2I;INSB;INSIS                13\n",
      "INEE;INS2I;INSB;INSIS;INSMI           3\n",
      "INEE;INS2I;INSB;INSMI                 2\n",
      "INEE;INS2I;INSB;INSU                  5\n",
      "INEE;INS2I;INSHS                      3\n",
      "INEE;INS2I;INSIS                      2\n",
      "INEE;INS2I;INSU                       2\n",
      "INP;INS2I                            39\n",
      "INP;INS2I;INSB                        2\n",
      "INP;INS2I;INSB;INSIS                  9\n",
      "INP;INS2I;INSB;INSIS;INSU            11\n",
      "INP;INS2I;INSHS                       1\n",
      "INP;INS2I;INSIS                      22\n",
      "INP;INS2I;INSMI                       2\n",
      "INP;INS2I;INSU                        4\n",
      "INS2I                              2529\n",
      "INS2I;INSB                           75\n",
      "INS2I;INSB;INSHS                      6\n",
      "INS2I;INSB;INSHS;INSIS                2\n",
      "INS2I;INSB;INSHS;INSIS;INSU           1\n",
      "INS2I;INSB;INSIS                    269\n",
      "INS2I;INSB;INSIS;INSMI                7\n",
      "INS2I;INSB;INSIS;INSMI;INSU           4\n",
      "INS2I;INSB;INSIS;INSU               226\n",
      "INS2I;INSB;INSMI                      3\n",
      "INS2I;INSHS                          19\n",
      "INS2I;INSHS;INSMI;INSU                1\n",
      "INS2I;INSHS;INSU                      1\n",
      "INS2I;INSIS                         291\n",
      "INS2I;INSIS;INSMI                     6\n",
      "INS2I;INSIS;INSU                      6\n",
      "INS2I;INSMI                          78\n",
      "INS2I;INSMI;INSU                      2\n",
      "INS2I;INSU                           29\n",
      "dtype: int64\n",
      "IN2P3      23\n",
      "INC        68\n",
      "INEE      155\n",
      "INP       100\n",
      "INS2I    3883\n",
      "INSB      777\n",
      "INSHS      36\n",
      "INSIS     923\n",
      "INSMI     108\n",
      "INSU      318\n",
      "dtype: int64\n"
     ]
    }
   ],
   "source": [
    "a, b = analyseInstituts(\"WOS/Corpus WoS INS2I 2018.csv\", 'CNRS - Institut')\n",
    "print(a)\n",
    "print(b)"
   ],
   "metadata": {
    "collapsed": false,
    "pycharm": {
     "name": "#%%\n"
    }
   }
  },
  {
   "cell_type": "code",
   "execution_count": 88,
   "outputs": [
    {
     "name": "stdout",
     "output_type": "stream",
     "text": [
      "IN2P3;INC;INP;INS2I;INSU        1\n",
      "IN2P3;INC;INS2I;INSIS           1\n",
      "IN2P3;INEE;INS2I                1\n",
      "IN2P3;INEE;INS2I;INSB;INSIS     1\n",
      "IN2P3;INP;INS2I                 2\n",
      "                               ..\n",
      "INS2I;INSIS;INSMI              14\n",
      "INS2I;INSIS;INSU                4\n",
      "INS2I;INSMI                    66\n",
      "INS2I;INSMI;INSU                1\n",
      "INS2I;INSU                     31\n",
      "Length: 63, dtype: int64\n",
      "IN2P3      25\n",
      "INC        85\n",
      "INEE      188\n",
      "INP        97\n",
      "INS2I    4024\n",
      "INSB      856\n",
      "INSHS      25\n",
      "INSIS    1002\n",
      "INSMI     104\n",
      "INSU      368\n",
      "dtype: int64\n"
     ]
    }
   ],
   "source": [
    "a, b = analyseInstituts(\"WOS/Corpus WoS INS2I 2019.csv\")\n",
    "print(a)\n",
    "print(b)"
   ],
   "metadata": {
    "collapsed": false,
    "pycharm": {
     "name": "#%%\n"
    }
   }
  },
  {
   "cell_type": "code",
   "execution_count": 89,
   "outputs": [
    {
     "name": "stdout",
     "output_type": "stream",
     "text": [
      "IN2P3;INC;INEE;INS2I;INSB             1\n",
      "IN2P3;INC;INS2I;INSIS                 1\n",
      "IN2P3;INEE;INP;INS2I;INSIS;INSU       1\n",
      "IN2P3;INP;INS2I;INSIS                 2\n",
      "IN2P3;INS2I                           5\n",
      "IN2P3;INS2I;INSHS                     1\n",
      "IN2P3;INS2I;INSIS                    14\n",
      "IN2P3;INS2I;INSU                      5\n",
      "INC;INEE;INS2I                        1\n",
      "INC;INEE;INS2I;INSB                   8\n",
      "INC;INEE;INS2I;INSB;INSIS             1\n",
      "INC;INP;INS2I                         3\n",
      "INC;INP;INS2I;INSB;INSIS              1\n",
      "INC;INP;INS2I;INSIS                   4\n",
      "INC;INS2I                            28\n",
      "INC;INS2I;INSB                        2\n",
      "INC;INS2I;INSB;INSIS                  6\n",
      "INC;INS2I;INSIS                      41\n",
      "INC;INS2I;INSU                        1\n",
      "INEE;INP;INS2I;INSB                   1\n",
      "INEE;INS2I                           26\n",
      "INEE;INS2I;INSB                     115\n",
      "INEE;INS2I;INSB;INSIS                 4\n",
      "INEE;INS2I;INSB;INSMI                 3\n",
      "INEE;INS2I;INSB;INSMI;INSU            1\n",
      "INEE;INS2I;INSB;INSU                 11\n",
      "INEE;INS2I;INSIS                     10\n",
      "INEE;INS2I;INSMI                      1\n",
      "INEE;INS2I;INSU                       7\n",
      "INP;INS2I                            25\n",
      "INP;INS2I;INSB                        3\n",
      "INP;INS2I;INSB;INSHS;INSIS            1\n",
      "INP;INS2I;INSB;INSIS                  3\n",
      "INP;INS2I;INSHS                       1\n",
      "INP;INS2I;INSIS                      35\n",
      "INP;INS2I;INSMI                       2\n",
      "INP;INS2I;INSU                        2\n",
      "INS2I                              2393\n",
      "INS2I;INSB                           69\n",
      "INS2I;INSB;INSHS                     10\n",
      "INS2I;INSB;INSIS                     81\n",
      "INS2I;INSB;INSIS;INSMI                1\n",
      "INS2I;INSB;INSMI                      4\n",
      "INS2I;INSHS                          23\n",
      "INS2I;INSHS;INSIS                     3\n",
      "INS2I;INSHS;INSMI                     2\n",
      "INS2I;INSHS;INSU                      1\n",
      "INS2I;INSIS                         706\n",
      "INS2I;INSIS;INSMI                    16\n",
      "INS2I;INSIS;INSMI;INSU                1\n",
      "INS2I;INSIS;INSU                     12\n",
      "INS2I;INSMI                         107\n",
      "INS2I;INSU                           34\n",
      "dtype: int64\n",
      "IN2P3      30\n",
      "INC        98\n",
      "INEE      191\n",
      "INP        84\n",
      "INS2I    3840\n",
      "INSB      326\n",
      "INSHS      42\n",
      "INSIS     944\n",
      "INSMI     138\n",
      "INSU       76\n",
      "dtype: int64\n"
     ]
    }
   ],
   "source": [
    "a, b = analyseInstituts(\"WOS/Corpus WoS INS2I 2020.csv\")\n",
    "print(a)\n",
    "print(b)"
   ],
   "metadata": {
    "collapsed": false,
    "pycharm": {
     "name": "#%%\n"
    }
   }
  },
  {
   "cell_type": "code",
   "execution_count": 5,
   "outputs": [],
   "source": [
    "#nomFichier = \"WOS/WOSINS2I20172020.csv\"\n",
    "nomFichier = \"WOS/Corpus WoS INS2I \"+str(anneeMin)+\".csv\"\n",
    "df = pd.read_csv(nomFichier, sep=\";\")"
   ],
   "metadata": {
    "collapsed": false,
    "pycharm": {
     "name": "#%%\n"
    }
   }
  },
  {
   "cell_type": "code",
   "execution_count": 33,
   "outputs": [
    {
     "data": {
      "text/plain": "                     UT INIST_Identifiant            INIST_UTs  \\\n0   WOS:000382426700008      INIST_101762  WOS:000382426700008   \n1   WOS:000384038500002      INIST_070748  WOS:000384038500002   \n2   WOS:000384038500008      INIST_070747  WOS:000384038500008   \n3   WOS:000384527800011      INIST_053525  WOS:000384527800011   \n4   WOS:000384672600017      INIST_043128  WOS:000384672600017   \n5   WOS:000384672600018      INIST_043125  WOS:000384672600018   \n6   WOS:000384857500021      INIST_076567  WOS:000384857500021   \n7   WOS:000385318300032      INIST_069679  WOS:000385318300032   \n8   WOS:000385339200011      INIST_028270  WOS:000385339200011   \n9   WOS:000385477000011      INIST_070720  WOS:000385477000011   \n10  WOS:000385599100015      INIST_067529  WOS:000385599100015   \n11  WOS:000385601000003      INIST_076560  WOS:000385601000003   \n12  WOS:000385899400017      INIST_064938  WOS:000385899400017   \n13  WOS:000386231200102      INIST_071729  WOS:000386231200102   \n14  WOS:000386326300026      INIST_098883  WOS:000386326300026   \n\n   BSO_Identifiant                          INIST_DI  \\\n0       BSO_099851                               NaN   \n1       BSO_022990        10.1016/j.jcss.2016.02.004   \n2       BSO_022795        10.1016/j.jcss.2016.04.007   \n3       BSO_000627     10.1080/00207721.2016.1160454   \n4       BSO_000621                10.1111/itor.12275   \n5       BSO_001390                10.1111/itor.12307   \n6       BSO_010946        10.1016/j.ejor.2016.06.038   \n7       BSO_011986  10.1016/j.jmatprotec.2016.08.036   \n8       BSO_010424         10.1016/j.ejc.2016.08.005   \n9       BSO_017477        10.1016/j.jcta.2016.08.001   \n10      BSO_013439      10.1016/j.matcom.2015.11.001   \n11      BSO_023184        10.1016/j.ejor.2016.07.013   \n12      BSO_008901      10.1016/j.patcog.2016.07.041   \n13      BSO_008946     10.1016/j.jallcom.2016.09.075   \n14      BSO_002574                               NaN   \n\n                             BSO_doi                             DOI_C  \\\n0       10.1007/978-3-319-11520-7_15      10.1007/978-3-319-11520-7_15   \n1         10.1016/j.jcss.2016.02.004        10.1016/j.jcss.2016.02.004   \n2         10.1016/j.jcss.2016.04.007        10.1016/j.jcss.2016.04.007   \n3      10.1080/00207721.2016.1160454     10.1080/00207721.2016.1160454   \n4                 10.1111/itor.12275                10.1111/itor.12275   \n5                 10.1111/itor.12307                10.1111/itor.12307   \n6         10.1016/j.ejor.2016.06.038        10.1016/j.ejor.2016.06.038   \n7   10.1016/j.jmatprotec.2016.08.036  10.1016/j.jmatprotec.2016.08.036   \n8          10.1016/j.ejc.2016.08.005         10.1016/j.ejc.2016.08.005   \n9         10.1016/j.jcta.2016.08.001        10.1016/j.jcta.2016.08.001   \n10      10.1016/j.matcom.2015.11.001      10.1016/j.matcom.2015.11.001   \n11        10.1016/j.ejor.2016.07.013        10.1016/j.ejor.2016.07.013   \n12      10.1016/j.patcog.2016.07.041      10.1016/j.patcog.2016.07.041   \n13     10.1016/j.jallcom.2016.09.075     10.1016/j.jallcom.2016.09.075   \n14        10.1142/9789813149137_0026        10.1142/9789813149137_0026   \n\n                Comparaison     BSO_is_oa BSO_source_is_oa  ...  \\\n0   3 - WoS / BSO - ErronÃ©  OA - Inconnu     OA - Inconnu  ...   \n1        1 - WoS / BSO - OK      OA - Oui         OA - Non  ...   \n2        1 - WoS / BSO - OK      OA - Oui         OA - Non  ...   \n3        1 - WoS / BSO - OK      OA - Oui         OA - Non  ...   \n4        1 - WoS / BSO - OK      OA - Oui         OA - Non  ...   \n5        1 - WoS / BSO - OK      OA - Non         OA - Non  ...   \n6        1 - WoS / BSO - OK      OA - Non         OA - Non  ...   \n7        1 - WoS / BSO - OK      OA - Oui         OA - Non  ...   \n8        1 - WoS / BSO - OK      OA - Oui         OA - Non  ...   \n9        1 - WoS / BSO - OK      OA - Oui         OA - Non  ...   \n10       1 - WoS / BSO - OK      OA - Non         OA - Non  ...   \n11       1 - WoS / BSO - OK      OA - Oui         OA - Non  ...   \n12       1 - WoS / BSO - OK      OA - Oui         OA - Non  ...   \n13       1 - WoS / BSO - OK      OA - Oui         OA - Non  ...   \n14       1 - WoS / BSO - OK      OA - Oui         OA - Non  ...   \n\n                                           SAPPS_JNAL  \\\n0                        JOURNAL OF CELLULAR AUTOMATA   \n1             JOURNAL OF COMPUTER AND SYSTEM SCIENCES   \n2             JOURNAL OF COMPUTER AND SYSTEM SCIENCES   \n3            INTERNATIONAL JOURNAL OF SYSTEMS SCIENCE   \n4   INTERNATIONAL TRANSACTIONS IN OPERATIONAL RESE...   \n5   INTERNATIONAL TRANSACTIONS IN OPERATIONAL RESE...   \n6            EUROPEAN JOURNAL OF OPERATIONAL RESEARCH   \n7          JOURNAL OF MATERIALS PROCESSING TECHNOLOGY   \n8                   EUROPEAN JOURNAL OF COMBINATORICS   \n9            JOURNAL OF COMBINATORIAL THEORY SERIES A   \n10            MATHEMATICS AND COMPUTERS IN SIMULATION   \n11           EUROPEAN JOURNAL OF OPERATIONAL RESEARCH   \n12                                PATTERN RECOGNITION   \n13                    JOURNAL OF ALLOYS AND COMPOUNDS   \n14                   ADVANCES IN COOPERATIVE ROBOTICS   \n\n                                                   SO           NotoriÃ©tÃ©  \\\n0                        JOURNAL OF CELLULAR AUTOMATA         1 - MÃ©diocre   \n1             JOURNAL OF COMPUTER AND SYSTEM SCIENCES          3 - Correcte   \n2             JOURNAL OF COMPUTER AND SYSTEM SCIENCES          3 - Correcte   \n3            INTERNATIONAL JOURNAL OF SYSTEMS SCIENCE        4 - Excellente   \n4   INTERNATIONAL TRANSACTIONS IN OPERATIONAL RESE...        4 - Excellente   \n5   INTERNATIONAL TRANSACTIONS IN OPERATIONAL RESE...        4 - Excellente   \n6            EUROPEAN JOURNAL OF OPERATIONAL RESEARCH        4 - Excellente   \n7          JOURNAL OF MATERIALS PROCESSING TECHNOLOGY        4 - Excellente   \n8                   EUROPEAN JOURNAL OF COMBINATORICS          3 - Correcte   \n9            JOURNAL OF COMBINATORIAL THEORY SERIES A          3 - Correcte   \n10            MATHEMATICS AND COMPUTERS IN SIMULATION        4 - Excellente   \n11           EUROPEAN JOURNAL OF OPERATIONAL RESEARCH        4 - Excellente   \n12                                PATTERN RECOGNITION        4 - Excellente   \n13                    JOURNAL OF ALLOYS AND COMPOUNDS    5 - Exceptionnelle   \n14                   ADVANCES IN COOPERATIVE ROBOTICS  0 - Sans notoriÃ©tÃ©   \n\n   CNRS SIG_INST_MonoInst SIG_INST__MultiInst  \\\n0   Oui             INS2I               INS2I   \n1   Oui             INS2I               INS2I   \n2   Oui             INS2I               INS2I   \n3   Oui             INS2I               INS2I   \n4   Oui             INS2I               INS2I   \n5   Oui             INS2I               INS2I   \n6   Oui             INS2I               INS2I   \n7   Oui             INS2I               INS2I   \n8   Oui             INS2I               INS2I   \n9   Oui             INS2I               INS2I   \n10  Oui      INS2I; INSIS        INS2I; INSIS   \n11  Oui             INS2I               INS2I   \n12  Oui             INS2I               INS2I   \n13  Oui      INS2I; INSIS        INS2I; INSIS   \n14  Oui             INS2I               INS2I   \n\n                                               WoS_TI  \\\n0   Finitization of Infinite Field-based Multi-gen...   \n1   A polytope-based approach to measure the impac...   \n2          Optimal constructions for active diagnosis   \n3    Fault-tolerant continuous flow systems modelling   \n4          Characterizing N plus -perfect line graphs   \n5                 On star and biclique edge-colorings   \n6   Easy and optimal queries to reduce set uncerta...   \n7   Dynamic recrystallization behaviour of spheroi...   \n8                 First order convergence of matroids   \n9     A bijection for rooted maps on general surfaces   \n10  Regression methods for improved lifespan model...   \n11  Modeling elements and solving techniques for t...   \n12  Motion segment decomposition of RGB-D sequence...   \n13  Substitution effect of Me = Al, Bi, Cr and Mn ...   \n14  COMPARISON OF REGISTRATION METHODS FOR MOBILE ...   \n\n                                            BSO_Title            TypeDoc  \\\n0   Experimental Finitization of Infinite Field-Ba...            Article   \n1   A polytope-based approach to measure the impac...            Article   \n2          Optimal constructions for active diagnosis            Article   \n3    Fault-tolerant continuous flow systems modelling            Article   \n4               Characterizing N+-perfect line graphs            Article   \n5                 On star and biclique edge-colorings            Article   \n6   Easy and optimal queries to reduce set uncerta...            Article   \n7   Dynamic recrystallization behaviour of spheroi...            Article   \n8                 First order convergence of matroids            Article   \n9     A bijection for rooted maps on general surfaces            Article   \n10  Regression methods for improved lifespan model...            Article   \n11  Modeling elements and solving techniques for t...            Article   \n12  Motion segment decomposition of RGB-D sequence...            Article   \n13  Substitution effect of Me = Al, Bi, Cr and Mn ...            Article   \n14  COMPARISON OF REGISTRATION METHODS FOR MOBILE ...  Proceedings Paper   \n\n   Type de revue  \n0            NaN  \n1            NaN  \n2            NaN  \n3            NaN  \n4            NaN  \n5            NaN  \n6            NaN  \n7            NaN  \n8            NaN  \n9            NaN  \n10           NaN  \n11           NaN  \n12           NaN  \n13       Hybride  \n14           NaN  \n\n[15 rows x 24 columns]",
      "text/html": "<div>\n<style scoped>\n    .dataframe tbody tr th:only-of-type {\n        vertical-align: middle;\n    }\n\n    .dataframe tbody tr th {\n        vertical-align: top;\n    }\n\n    .dataframe thead th {\n        text-align: right;\n    }\n</style>\n<table border=\"1\" class=\"dataframe\">\n  <thead>\n    <tr style=\"text-align: right;\">\n      <th></th>\n      <th>UT</th>\n      <th>INIST_Identifiant</th>\n      <th>INIST_UTs</th>\n      <th>BSO_Identifiant</th>\n      <th>INIST_DI</th>\n      <th>BSO_doi</th>\n      <th>DOI_C</th>\n      <th>Comparaison</th>\n      <th>BSO_is_oa</th>\n      <th>BSO_source_is_oa</th>\n      <th>...</th>\n      <th>SAPPS_JNAL</th>\n      <th>SO</th>\n      <th>NotoriÃ©tÃ©</th>\n      <th>CNRS</th>\n      <th>SIG_INST_MonoInst</th>\n      <th>SIG_INST__MultiInst</th>\n      <th>WoS_TI</th>\n      <th>BSO_Title</th>\n      <th>TypeDoc</th>\n      <th>Type de revue</th>\n    </tr>\n  </thead>\n  <tbody>\n    <tr>\n      <th>0</th>\n      <td>WOS:000382426700008</td>\n      <td>INIST_101762</td>\n      <td>WOS:000382426700008</td>\n      <td>BSO_099851</td>\n      <td>NaN</td>\n      <td>10.1007/978-3-319-11520-7_15</td>\n      <td>10.1007/978-3-319-11520-7_15</td>\n      <td>3 - WoS / BSO - ErronÃ©</td>\n      <td>OA - Inconnu</td>\n      <td>OA - Inconnu</td>\n      <td>...</td>\n      <td>JOURNAL OF CELLULAR AUTOMATA</td>\n      <td>JOURNAL OF CELLULAR AUTOMATA</td>\n      <td>1 - MÃ©diocre</td>\n      <td>Oui</td>\n      <td>INS2I</td>\n      <td>INS2I</td>\n      <td>Finitization of Infinite Field-based Multi-gen...</td>\n      <td>Experimental Finitization of Infinite Field-Ba...</td>\n      <td>Article</td>\n      <td>NaN</td>\n    </tr>\n    <tr>\n      <th>1</th>\n      <td>WOS:000384038500002</td>\n      <td>INIST_070748</td>\n      <td>WOS:000384038500002</td>\n      <td>BSO_022990</td>\n      <td>10.1016/j.jcss.2016.02.004</td>\n      <td>10.1016/j.jcss.2016.02.004</td>\n      <td>10.1016/j.jcss.2016.02.004</td>\n      <td>1 - WoS / BSO - OK</td>\n      <td>OA - Oui</td>\n      <td>OA - Non</td>\n      <td>...</td>\n      <td>JOURNAL OF COMPUTER AND SYSTEM SCIENCES</td>\n      <td>JOURNAL OF COMPUTER AND SYSTEM SCIENCES</td>\n      <td>3 - Correcte</td>\n      <td>Oui</td>\n      <td>INS2I</td>\n      <td>INS2I</td>\n      <td>A polytope-based approach to measure the impac...</td>\n      <td>A polytope-based approach to measure the impac...</td>\n      <td>Article</td>\n      <td>NaN</td>\n    </tr>\n    <tr>\n      <th>2</th>\n      <td>WOS:000384038500008</td>\n      <td>INIST_070747</td>\n      <td>WOS:000384038500008</td>\n      <td>BSO_022795</td>\n      <td>10.1016/j.jcss.2016.04.007</td>\n      <td>10.1016/j.jcss.2016.04.007</td>\n      <td>10.1016/j.jcss.2016.04.007</td>\n      <td>1 - WoS / BSO - OK</td>\n      <td>OA - Oui</td>\n      <td>OA - Non</td>\n      <td>...</td>\n      <td>JOURNAL OF COMPUTER AND SYSTEM SCIENCES</td>\n      <td>JOURNAL OF COMPUTER AND SYSTEM SCIENCES</td>\n      <td>3 - Correcte</td>\n      <td>Oui</td>\n      <td>INS2I</td>\n      <td>INS2I</td>\n      <td>Optimal constructions for active diagnosis</td>\n      <td>Optimal constructions for active diagnosis</td>\n      <td>Article</td>\n      <td>NaN</td>\n    </tr>\n    <tr>\n      <th>3</th>\n      <td>WOS:000384527800011</td>\n      <td>INIST_053525</td>\n      <td>WOS:000384527800011</td>\n      <td>BSO_000627</td>\n      <td>10.1080/00207721.2016.1160454</td>\n      <td>10.1080/00207721.2016.1160454</td>\n      <td>10.1080/00207721.2016.1160454</td>\n      <td>1 - WoS / BSO - OK</td>\n      <td>OA - Oui</td>\n      <td>OA - Non</td>\n      <td>...</td>\n      <td>INTERNATIONAL JOURNAL OF SYSTEMS SCIENCE</td>\n      <td>INTERNATIONAL JOURNAL OF SYSTEMS SCIENCE</td>\n      <td>4 - Excellente</td>\n      <td>Oui</td>\n      <td>INS2I</td>\n      <td>INS2I</td>\n      <td>Fault-tolerant continuous flow systems modelling</td>\n      <td>Fault-tolerant continuous flow systems modelling</td>\n      <td>Article</td>\n      <td>NaN</td>\n    </tr>\n    <tr>\n      <th>4</th>\n      <td>WOS:000384672600017</td>\n      <td>INIST_043128</td>\n      <td>WOS:000384672600017</td>\n      <td>BSO_000621</td>\n      <td>10.1111/itor.12275</td>\n      <td>10.1111/itor.12275</td>\n      <td>10.1111/itor.12275</td>\n      <td>1 - WoS / BSO - OK</td>\n      <td>OA - Oui</td>\n      <td>OA - Non</td>\n      <td>...</td>\n      <td>INTERNATIONAL TRANSACTIONS IN OPERATIONAL RESE...</td>\n      <td>INTERNATIONAL TRANSACTIONS IN OPERATIONAL RESE...</td>\n      <td>4 - Excellente</td>\n      <td>Oui</td>\n      <td>INS2I</td>\n      <td>INS2I</td>\n      <td>Characterizing N plus -perfect line graphs</td>\n      <td>Characterizing N+-perfect line graphs</td>\n      <td>Article</td>\n      <td>NaN</td>\n    </tr>\n    <tr>\n      <th>5</th>\n      <td>WOS:000384672600018</td>\n      <td>INIST_043125</td>\n      <td>WOS:000384672600018</td>\n      <td>BSO_001390</td>\n      <td>10.1111/itor.12307</td>\n      <td>10.1111/itor.12307</td>\n      <td>10.1111/itor.12307</td>\n      <td>1 - WoS / BSO - OK</td>\n      <td>OA - Non</td>\n      <td>OA - Non</td>\n      <td>...</td>\n      <td>INTERNATIONAL TRANSACTIONS IN OPERATIONAL RESE...</td>\n      <td>INTERNATIONAL TRANSACTIONS IN OPERATIONAL RESE...</td>\n      <td>4 - Excellente</td>\n      <td>Oui</td>\n      <td>INS2I</td>\n      <td>INS2I</td>\n      <td>On star and biclique edge-colorings</td>\n      <td>On star and biclique edge-colorings</td>\n      <td>Article</td>\n      <td>NaN</td>\n    </tr>\n    <tr>\n      <th>6</th>\n      <td>WOS:000384857500021</td>\n      <td>INIST_076567</td>\n      <td>WOS:000384857500021</td>\n      <td>BSO_010946</td>\n      <td>10.1016/j.ejor.2016.06.038</td>\n      <td>10.1016/j.ejor.2016.06.038</td>\n      <td>10.1016/j.ejor.2016.06.038</td>\n      <td>1 - WoS / BSO - OK</td>\n      <td>OA - Non</td>\n      <td>OA - Non</td>\n      <td>...</td>\n      <td>EUROPEAN JOURNAL OF OPERATIONAL RESEARCH</td>\n      <td>EUROPEAN JOURNAL OF OPERATIONAL RESEARCH</td>\n      <td>4 - Excellente</td>\n      <td>Oui</td>\n      <td>INS2I</td>\n      <td>INS2I</td>\n      <td>Easy and optimal queries to reduce set uncerta...</td>\n      <td>Easy and optimal queries to reduce set uncerta...</td>\n      <td>Article</td>\n      <td>NaN</td>\n    </tr>\n    <tr>\n      <th>7</th>\n      <td>WOS:000385318300032</td>\n      <td>INIST_069679</td>\n      <td>WOS:000385318300032</td>\n      <td>BSO_011986</td>\n      <td>10.1016/j.jmatprotec.2016.08.036</td>\n      <td>10.1016/j.jmatprotec.2016.08.036</td>\n      <td>10.1016/j.jmatprotec.2016.08.036</td>\n      <td>1 - WoS / BSO - OK</td>\n      <td>OA - Oui</td>\n      <td>OA - Non</td>\n      <td>...</td>\n      <td>JOURNAL OF MATERIALS PROCESSING TECHNOLOGY</td>\n      <td>JOURNAL OF MATERIALS PROCESSING TECHNOLOGY</td>\n      <td>4 - Excellente</td>\n      <td>Oui</td>\n      <td>INS2I</td>\n      <td>INS2I</td>\n      <td>Dynamic recrystallization behaviour of spheroi...</td>\n      <td>Dynamic recrystallization behaviour of spheroi...</td>\n      <td>Article</td>\n      <td>NaN</td>\n    </tr>\n    <tr>\n      <th>8</th>\n      <td>WOS:000385339200011</td>\n      <td>INIST_028270</td>\n      <td>WOS:000385339200011</td>\n      <td>BSO_010424</td>\n      <td>10.1016/j.ejc.2016.08.005</td>\n      <td>10.1016/j.ejc.2016.08.005</td>\n      <td>10.1016/j.ejc.2016.08.005</td>\n      <td>1 - WoS / BSO - OK</td>\n      <td>OA - Oui</td>\n      <td>OA - Non</td>\n      <td>...</td>\n      <td>EUROPEAN JOURNAL OF COMBINATORICS</td>\n      <td>EUROPEAN JOURNAL OF COMBINATORICS</td>\n      <td>3 - Correcte</td>\n      <td>Oui</td>\n      <td>INS2I</td>\n      <td>INS2I</td>\n      <td>First order convergence of matroids</td>\n      <td>First order convergence of matroids</td>\n      <td>Article</td>\n      <td>NaN</td>\n    </tr>\n    <tr>\n      <th>9</th>\n      <td>WOS:000385477000011</td>\n      <td>INIST_070720</td>\n      <td>WOS:000385477000011</td>\n      <td>BSO_017477</td>\n      <td>10.1016/j.jcta.2016.08.001</td>\n      <td>10.1016/j.jcta.2016.08.001</td>\n      <td>10.1016/j.jcta.2016.08.001</td>\n      <td>1 - WoS / BSO - OK</td>\n      <td>OA - Oui</td>\n      <td>OA - Non</td>\n      <td>...</td>\n      <td>JOURNAL OF COMBINATORIAL THEORY SERIES A</td>\n      <td>JOURNAL OF COMBINATORIAL THEORY SERIES A</td>\n      <td>3 - Correcte</td>\n      <td>Oui</td>\n      <td>INS2I</td>\n      <td>INS2I</td>\n      <td>A bijection for rooted maps on general surfaces</td>\n      <td>A bijection for rooted maps on general surfaces</td>\n      <td>Article</td>\n      <td>NaN</td>\n    </tr>\n    <tr>\n      <th>10</th>\n      <td>WOS:000385599100015</td>\n      <td>INIST_067529</td>\n      <td>WOS:000385599100015</td>\n      <td>BSO_013439</td>\n      <td>10.1016/j.matcom.2015.11.001</td>\n      <td>10.1016/j.matcom.2015.11.001</td>\n      <td>10.1016/j.matcom.2015.11.001</td>\n      <td>1 - WoS / BSO - OK</td>\n      <td>OA - Non</td>\n      <td>OA - Non</td>\n      <td>...</td>\n      <td>MATHEMATICS AND COMPUTERS IN SIMULATION</td>\n      <td>MATHEMATICS AND COMPUTERS IN SIMULATION</td>\n      <td>4 - Excellente</td>\n      <td>Oui</td>\n      <td>INS2I; INSIS</td>\n      <td>INS2I; INSIS</td>\n      <td>Regression methods for improved lifespan model...</td>\n      <td>Regression methods for improved lifespan model...</td>\n      <td>Article</td>\n      <td>NaN</td>\n    </tr>\n    <tr>\n      <th>11</th>\n      <td>WOS:000385601000003</td>\n      <td>INIST_076560</td>\n      <td>WOS:000385601000003</td>\n      <td>BSO_023184</td>\n      <td>10.1016/j.ejor.2016.07.013</td>\n      <td>10.1016/j.ejor.2016.07.013</td>\n      <td>10.1016/j.ejor.2016.07.013</td>\n      <td>1 - WoS / BSO - OK</td>\n      <td>OA - Oui</td>\n      <td>OA - Non</td>\n      <td>...</td>\n      <td>EUROPEAN JOURNAL OF OPERATIONAL RESEARCH</td>\n      <td>EUROPEAN JOURNAL OF OPERATIONAL RESEARCH</td>\n      <td>4 - Excellente</td>\n      <td>Oui</td>\n      <td>INS2I</td>\n      <td>INS2I</td>\n      <td>Modeling elements and solving techniques for t...</td>\n      <td>Modeling elements and solving techniques for t...</td>\n      <td>Article</td>\n      <td>NaN</td>\n    </tr>\n    <tr>\n      <th>12</th>\n      <td>WOS:000385899400017</td>\n      <td>INIST_064938</td>\n      <td>WOS:000385899400017</td>\n      <td>BSO_008901</td>\n      <td>10.1016/j.patcog.2016.07.041</td>\n      <td>10.1016/j.patcog.2016.07.041</td>\n      <td>10.1016/j.patcog.2016.07.041</td>\n      <td>1 - WoS / BSO - OK</td>\n      <td>OA - Oui</td>\n      <td>OA - Non</td>\n      <td>...</td>\n      <td>PATTERN RECOGNITION</td>\n      <td>PATTERN RECOGNITION</td>\n      <td>4 - Excellente</td>\n      <td>Oui</td>\n      <td>INS2I</td>\n      <td>INS2I</td>\n      <td>Motion segment decomposition of RGB-D sequence...</td>\n      <td>Motion segment decomposition of RGB-D sequence...</td>\n      <td>Article</td>\n      <td>NaN</td>\n    </tr>\n    <tr>\n      <th>13</th>\n      <td>WOS:000386231200102</td>\n      <td>INIST_071729</td>\n      <td>WOS:000386231200102</td>\n      <td>BSO_008946</td>\n      <td>10.1016/j.jallcom.2016.09.075</td>\n      <td>10.1016/j.jallcom.2016.09.075</td>\n      <td>10.1016/j.jallcom.2016.09.075</td>\n      <td>1 - WoS / BSO - OK</td>\n      <td>OA - Oui</td>\n      <td>OA - Non</td>\n      <td>...</td>\n      <td>JOURNAL OF ALLOYS AND COMPOUNDS</td>\n      <td>JOURNAL OF ALLOYS AND COMPOUNDS</td>\n      <td>5 - Exceptionnelle</td>\n      <td>Oui</td>\n      <td>INS2I; INSIS</td>\n      <td>INS2I; INSIS</td>\n      <td>Substitution effect of Me = Al, Bi, Cr and Mn ...</td>\n      <td>Substitution effect of Me = Al, Bi, Cr and Mn ...</td>\n      <td>Article</td>\n      <td>Hybride</td>\n    </tr>\n    <tr>\n      <th>14</th>\n      <td>WOS:000386326300026</td>\n      <td>INIST_098883</td>\n      <td>WOS:000386326300026</td>\n      <td>BSO_002574</td>\n      <td>NaN</td>\n      <td>10.1142/9789813149137_0026</td>\n      <td>10.1142/9789813149137_0026</td>\n      <td>1 - WoS / BSO - OK</td>\n      <td>OA - Oui</td>\n      <td>OA - Non</td>\n      <td>...</td>\n      <td>ADVANCES IN COOPERATIVE ROBOTICS</td>\n      <td>ADVANCES IN COOPERATIVE ROBOTICS</td>\n      <td>0 - Sans notoriÃ©tÃ©</td>\n      <td>Oui</td>\n      <td>INS2I</td>\n      <td>INS2I</td>\n      <td>COMPARISON OF REGISTRATION METHODS FOR MOBILE ...</td>\n      <td>COMPARISON OF REGISTRATION METHODS FOR MOBILE ...</td>\n      <td>Proceedings Paper</td>\n      <td>NaN</td>\n    </tr>\n  </tbody>\n</table>\n<p>15 rows × 24 columns</p>\n</div>"
     },
     "execution_count": 33,
     "metadata": {},
     "output_type": "execute_result"
    }
   ],
   "source": [
    "df.head(15)"
   ],
   "metadata": {
    "collapsed": false,
    "pycharm": {
     "name": "#%%\n"
    }
   }
  },
  {
   "cell_type": "code",
   "execution_count": 37,
   "outputs": [
    {
     "name": "stdout",
     "output_type": "stream",
     "text": [
      "<class 'pandas.core.frame.DataFrame'>\n",
      "RangeIndex: 4280 entries, 0 to 4279\n",
      "Data columns (total 24 columns):\n",
      " #   Column               Non-Null Count  Dtype \n",
      "---  ------               --------------  ----- \n",
      " 0   UT                   4280 non-null   object\n",
      " 1   INIST_Identifiant    4270 non-null   object\n",
      " 2   INIST_UTs            4270 non-null   object\n",
      " 3   BSO_Identifiant      4265 non-null   object\n",
      " 4   INIST_DI             3821 non-null   object\n",
      " 5   BSO_doi              4167 non-null   object\n",
      " 6   DOI_C                4167 non-null   object\n",
      " 7   Comparaison          4280 non-null   object\n",
      " 8   BSO_is_oa            4280 non-null   object\n",
      " 9   BSO_source_is_oa     4280 non-null   object\n",
      " 10  BSO_oa_host_type     4280 non-null   object\n",
      " 11  BSO_publisher        4280 non-null   object\n",
      " 12  Editeur              4280 non-null   object\n",
      " 13  ISSN                 4117 non-null   object\n",
      " 14  SAPPS_JNAL           4280 non-null   object\n",
      " 15  SO                   4280 non-null   object\n",
      " 16  NotoriÃ©tÃ©          4280 non-null   object\n",
      " 17  CNRS                 4280 non-null   object\n",
      " 18  SIG_INST_MonoInst    4280 non-null   object\n",
      " 19  SIG_INST__MultiInst  4280 non-null   object\n",
      " 20  WoS_TI               4278 non-null   object\n",
      " 21  BSO_Title            4128 non-null   object\n",
      " 22  TypeDoc              4280 non-null   object\n",
      " 23  Type de revue        180 non-null    object\n",
      "dtypes: object(24)\n",
      "memory usage: 802.6+ KB\n"
     ]
    }
   ],
   "source": [
    "df.info()"
   ],
   "metadata": {
    "collapsed": false,
    "pycharm": {
     "name": "#%%\n"
    }
   }
  },
  {
   "cell_type": "code",
   "execution_count": 52,
   "outputs": [],
   "source": [
    "#suppression des espaces séparant les noms des instituts dans la colonne SIG_INST__MultiInst\n",
    "df['SIG_INST__MultiInst'] = df['SIG_INST__MultiInst'].str.replace(' ','')"
   ],
   "metadata": {
    "collapsed": false,
    "pycharm": {
     "name": "#%%\n"
    }
   }
  },
  {
   "cell_type": "code",
   "execution_count": 62,
   "outputs": [],
   "source": [
    "dummies = pd.get_dummies(df['SIG_INST__MultiInst'])"
   ],
   "metadata": {
    "collapsed": false,
    "pycharm": {
     "name": "#%%\n"
    }
   }
  },
  {
   "cell_type": "code",
   "execution_count": 63,
   "outputs": [
    {
     "data": {
      "text/plain": "      IN2P3;INC;INS2I;INSIS  IN2P3;INEE;INS2I;INSIS  IN2P3;INP;INS2I;INSB  \\\n0                         0                       0                     0   \n1                         0                       0                     0   \n2                         0                       0                     0   \n3                         0                       0                     0   \n4                         0                       0                     0   \n...                     ...                     ...                   ...   \n4275                      0                       0                     0   \n4276                      0                       0                     0   \n4277                      0                       0                     0   \n4278                      0                       0                     0   \n4279                      0                       0                     0   \n\n      IN2P3;INP;INS2I;INSIS;INSU  IN2P3;INP;INS2I;INSU  IN2P3;INS2I  \\\n0                              0                     0            0   \n1                              0                     0            0   \n2                              0                     0            0   \n3                              0                     0            0   \n4                              0                     0            0   \n...                          ...                   ...          ...   \n4275                           0                     0            0   \n4276                           0                     0            0   \n4277                           0                     0            0   \n4278                           0                     0            0   \n4279                           0                     0            0   \n\n      IN2P3;INS2I;INSB  IN2P3;INS2I;INSIS  IN2P3;INS2I;INSU  INC;INEE;INS2I  \\\n0                    0                  0                 0               0   \n1                    0                  0                 0               0   \n2                    0                  0                 0               0   \n3                    0                  0                 0               0   \n4                    0                  0                 0               0   \n...                ...                ...               ...             ...   \n4275                 0                  0                 0               0   \n4276                 0                  0                 0               0   \n4277                 0                  0                 0               0   \n4278                 0                  0                 0               0   \n4279                 0                  0                 0               0   \n\n      ...  INS2I;INSHS  INS2I;INSHS;INSIS  INS2I;INSHS;INSMI  \\\n0     ...            0                  0                  0   \n1     ...            0                  0                  0   \n2     ...            0                  0                  0   \n3     ...            0                  0                  0   \n4     ...            0                  0                  0   \n...   ...          ...                ...                ...   \n4275  ...            0                  0                  0   \n4276  ...            0                  0                  0   \n4277  ...            0                  0                  0   \n4278  ...            0                  0                  0   \n4279  ...            0                  0                  0   \n\n      INS2I;INSHS;INSMI;INSU  INS2I;INSIS  INS2I;INSIS;INSMI  \\\n0                          0            0                  0   \n1                          0            0                  0   \n2                          0            0                  0   \n3                          0            0                  0   \n4                          0            0                  0   \n...                      ...          ...                ...   \n4275                       0            0                  0   \n4276                       0            0                  0   \n4277                       0            0                  0   \n4278                       0            0                  0   \n4279                       0            0                  0   \n\n      INS2I;INSIS;INSMI;INSU  INS2I;INSIS;INSU  INS2I;INSMI  INS2I;INSU  \n0                          0                 0            0           0  \n1                          0                 0            0           0  \n2                          0                 0            0           0  \n3                          0                 0            0           0  \n4                          0                 0            0           0  \n...                      ...               ...          ...         ...  \n4275                       0                 0            0           0  \n4276                       0                 0            0           0  \n4277                       0                 0            0           0  \n4278                       0                 0            0           0  \n4279                       0                 0            0           0  \n\n[4280 rows x 46 columns]",
      "text/html": "<div>\n<style scoped>\n    .dataframe tbody tr th:only-of-type {\n        vertical-align: middle;\n    }\n\n    .dataframe tbody tr th {\n        vertical-align: top;\n    }\n\n    .dataframe thead th {\n        text-align: right;\n    }\n</style>\n<table border=\"1\" class=\"dataframe\">\n  <thead>\n    <tr style=\"text-align: right;\">\n      <th></th>\n      <th>IN2P3;INC;INS2I;INSIS</th>\n      <th>IN2P3;INEE;INS2I;INSIS</th>\n      <th>IN2P3;INP;INS2I;INSB</th>\n      <th>IN2P3;INP;INS2I;INSIS;INSU</th>\n      <th>IN2P3;INP;INS2I;INSU</th>\n      <th>IN2P3;INS2I</th>\n      <th>IN2P3;INS2I;INSB</th>\n      <th>IN2P3;INS2I;INSIS</th>\n      <th>IN2P3;INS2I;INSU</th>\n      <th>INC;INEE;INS2I</th>\n      <th>...</th>\n      <th>INS2I;INSHS</th>\n      <th>INS2I;INSHS;INSIS</th>\n      <th>INS2I;INSHS;INSMI</th>\n      <th>INS2I;INSHS;INSMI;INSU</th>\n      <th>INS2I;INSIS</th>\n      <th>INS2I;INSIS;INSMI</th>\n      <th>INS2I;INSIS;INSMI;INSU</th>\n      <th>INS2I;INSIS;INSU</th>\n      <th>INS2I;INSMI</th>\n      <th>INS2I;INSU</th>\n    </tr>\n  </thead>\n  <tbody>\n    <tr>\n      <th>0</th>\n      <td>0</td>\n      <td>0</td>\n      <td>0</td>\n      <td>0</td>\n      <td>0</td>\n      <td>0</td>\n      <td>0</td>\n      <td>0</td>\n      <td>0</td>\n      <td>0</td>\n      <td>...</td>\n      <td>0</td>\n      <td>0</td>\n      <td>0</td>\n      <td>0</td>\n      <td>0</td>\n      <td>0</td>\n      <td>0</td>\n      <td>0</td>\n      <td>0</td>\n      <td>0</td>\n    </tr>\n    <tr>\n      <th>1</th>\n      <td>0</td>\n      <td>0</td>\n      <td>0</td>\n      <td>0</td>\n      <td>0</td>\n      <td>0</td>\n      <td>0</td>\n      <td>0</td>\n      <td>0</td>\n      <td>0</td>\n      <td>...</td>\n      <td>0</td>\n      <td>0</td>\n      <td>0</td>\n      <td>0</td>\n      <td>0</td>\n      <td>0</td>\n      <td>0</td>\n      <td>0</td>\n      <td>0</td>\n      <td>0</td>\n    </tr>\n    <tr>\n      <th>2</th>\n      <td>0</td>\n      <td>0</td>\n      <td>0</td>\n      <td>0</td>\n      <td>0</td>\n      <td>0</td>\n      <td>0</td>\n      <td>0</td>\n      <td>0</td>\n      <td>0</td>\n      <td>...</td>\n      <td>0</td>\n      <td>0</td>\n      <td>0</td>\n      <td>0</td>\n      <td>0</td>\n      <td>0</td>\n      <td>0</td>\n      <td>0</td>\n      <td>0</td>\n      <td>0</td>\n    </tr>\n    <tr>\n      <th>3</th>\n      <td>0</td>\n      <td>0</td>\n      <td>0</td>\n      <td>0</td>\n      <td>0</td>\n      <td>0</td>\n      <td>0</td>\n      <td>0</td>\n      <td>0</td>\n      <td>0</td>\n      <td>...</td>\n      <td>0</td>\n      <td>0</td>\n      <td>0</td>\n      <td>0</td>\n      <td>0</td>\n      <td>0</td>\n      <td>0</td>\n      <td>0</td>\n      <td>0</td>\n      <td>0</td>\n    </tr>\n    <tr>\n      <th>4</th>\n      <td>0</td>\n      <td>0</td>\n      <td>0</td>\n      <td>0</td>\n      <td>0</td>\n      <td>0</td>\n      <td>0</td>\n      <td>0</td>\n      <td>0</td>\n      <td>0</td>\n      <td>...</td>\n      <td>0</td>\n      <td>0</td>\n      <td>0</td>\n      <td>0</td>\n      <td>0</td>\n      <td>0</td>\n      <td>0</td>\n      <td>0</td>\n      <td>0</td>\n      <td>0</td>\n    </tr>\n    <tr>\n      <th>...</th>\n      <td>...</td>\n      <td>...</td>\n      <td>...</td>\n      <td>...</td>\n      <td>...</td>\n      <td>...</td>\n      <td>...</td>\n      <td>...</td>\n      <td>...</td>\n      <td>...</td>\n      <td>...</td>\n      <td>...</td>\n      <td>...</td>\n      <td>...</td>\n      <td>...</td>\n      <td>...</td>\n      <td>...</td>\n      <td>...</td>\n      <td>...</td>\n      <td>...</td>\n      <td>...</td>\n    </tr>\n    <tr>\n      <th>4275</th>\n      <td>0</td>\n      <td>0</td>\n      <td>0</td>\n      <td>0</td>\n      <td>0</td>\n      <td>0</td>\n      <td>0</td>\n      <td>0</td>\n      <td>0</td>\n      <td>0</td>\n      <td>...</td>\n      <td>0</td>\n      <td>0</td>\n      <td>0</td>\n      <td>0</td>\n      <td>0</td>\n      <td>0</td>\n      <td>0</td>\n      <td>0</td>\n      <td>0</td>\n      <td>0</td>\n    </tr>\n    <tr>\n      <th>4276</th>\n      <td>0</td>\n      <td>0</td>\n      <td>0</td>\n      <td>0</td>\n      <td>0</td>\n      <td>0</td>\n      <td>0</td>\n      <td>0</td>\n      <td>0</td>\n      <td>0</td>\n      <td>...</td>\n      <td>0</td>\n      <td>0</td>\n      <td>0</td>\n      <td>0</td>\n      <td>0</td>\n      <td>0</td>\n      <td>0</td>\n      <td>0</td>\n      <td>0</td>\n      <td>0</td>\n    </tr>\n    <tr>\n      <th>4277</th>\n      <td>0</td>\n      <td>0</td>\n      <td>0</td>\n      <td>0</td>\n      <td>0</td>\n      <td>0</td>\n      <td>0</td>\n      <td>0</td>\n      <td>0</td>\n      <td>0</td>\n      <td>...</td>\n      <td>0</td>\n      <td>0</td>\n      <td>0</td>\n      <td>0</td>\n      <td>0</td>\n      <td>0</td>\n      <td>0</td>\n      <td>0</td>\n      <td>0</td>\n      <td>0</td>\n    </tr>\n    <tr>\n      <th>4278</th>\n      <td>0</td>\n      <td>0</td>\n      <td>0</td>\n      <td>0</td>\n      <td>0</td>\n      <td>0</td>\n      <td>0</td>\n      <td>0</td>\n      <td>0</td>\n      <td>0</td>\n      <td>...</td>\n      <td>0</td>\n      <td>0</td>\n      <td>0</td>\n      <td>0</td>\n      <td>0</td>\n      <td>0</td>\n      <td>0</td>\n      <td>0</td>\n      <td>0</td>\n      <td>0</td>\n    </tr>\n    <tr>\n      <th>4279</th>\n      <td>0</td>\n      <td>0</td>\n      <td>0</td>\n      <td>0</td>\n      <td>0</td>\n      <td>0</td>\n      <td>0</td>\n      <td>0</td>\n      <td>0</td>\n      <td>0</td>\n      <td>...</td>\n      <td>0</td>\n      <td>0</td>\n      <td>0</td>\n      <td>0</td>\n      <td>0</td>\n      <td>0</td>\n      <td>0</td>\n      <td>0</td>\n      <td>0</td>\n      <td>0</td>\n    </tr>\n  </tbody>\n</table>\n<p>4280 rows × 46 columns</p>\n</div>"
     },
     "execution_count": 63,
     "metadata": {},
     "output_type": "execute_result"
    }
   ],
   "source": [
    "dummies"
   ],
   "metadata": {
    "collapsed": false,
    "pycharm": {
     "name": "#%%\n"
    }
   }
  },
  {
   "cell_type": "code",
   "execution_count": 70,
   "outputs": [],
   "source": [
    "somme = dummies.sum()"
   ],
   "metadata": {
    "collapsed": false,
    "pycharm": {
     "name": "#%%\n"
    }
   }
  },
  {
   "cell_type": "code",
   "execution_count": 72,
   "outputs": [
    {
     "data": {
      "text/plain": "INS2I                         2924\nINS2I;INSIS                    723\nINS2I;INSB                     124\nINS2I;INSMI                    100\nINS2I;INSB;INSIS                75\nINP;INS2I;INSIS                 38\nINC;INS2I;INSIS                 36\nINP;INS2I                       28\nINEE;INS2I                      27\nINC;INS2I                       24\nINEE;INS2I;INSB                 20\nINS2I;INSU                      19\nINS2I;INSHS                     18\nINS2I;INSIS;INSMI               18\nIN2P3;INS2I;INSU                11\nINS2I;INSB;INSHS                 8\nINS2I;INSIS;INSU                 8\nINC;INS2I;INSB;INSIS             7\nINC;INP;INS2I;INSIS              6\nIN2P3;INS2I                      6\nINEE;INS2I;INSIS                 6\nINS2I;INSB;INSMI                 5\nINC;INS2I;INSB                   4\nIN2P3;INS2I;INSIS                4\nINS2I;INSHS;INSIS                3\nINP;INS2I;INSU                   3\nINP;INS2I;INSMI                  3\nIN2P3;INC;INS2I;INSIS            3\nINP;INS2I;INSB;INSIS             3\nIN2P3;INP;INS2I;INSIS;INSU       3\nIN2P3;INP;INS2I;INSU             3\nINP;INS2I;INSB                   2\nIN2P3;INP;INS2I;INSB             2\nIN2P3;INS2I;INSB                 2\nINEE;INS2I;INSMI                 2\nINEE;INS2I;INSB;INSU             2\nINS2I;INSB;INSU                  1\nINC;INP;INS2I                    1\nINEE;INS2I;INSB;INSHS            1\nINS2I;INSHS;INSMI                1\nINS2I;INSHS;INSMI;INSU           1\nINEE;INS2I;INSB;INSIS            1\nINS2I;INSIS;INSMI;INSU           1\nINEE;INS2I;INSIS;INSU            1\nIN2P3;INEE;INS2I;INSIS           1\nINC;INEE;INS2I                   1\ndtype: int64"
     },
     "execution_count": 72,
     "metadata": {},
     "output_type": "execute_result"
    }
   ],
   "source": [
    "somme.sort_values(ascending=False)"
   ],
   "metadata": {
    "collapsed": false,
    "pycharm": {
     "name": "#%%\n"
    }
   }
  },
  {
   "cell_type": "code",
   "execution_count": 54,
   "outputs": [],
   "source": [
    "dfDummiesInst = df['SIG_INST__MultiInst'].str.get_dummies(sep=';')"
   ],
   "metadata": {
    "collapsed": false,
    "pycharm": {
     "name": "#%%\n"
    }
   }
  },
  {
   "cell_type": "code",
   "execution_count": 55,
   "outputs": [
    {
     "data": {
      "text/plain": "      IN2P3  INC  INEE  INP  INS2I  INSB  INSHS  INSIS  INSMI  INSU\n0         0    0     0    0      1     0      0      0      0     0\n1         0    0     0    0      1     0      0      0      0     0\n2         0    0     0    0      1     0      0      0      0     0\n3         0    0     0    0      1     0      0      0      0     0\n4         0    0     0    0      1     0      0      0      0     0\n...     ...  ...   ...  ...    ...   ...    ...    ...    ...   ...\n4275      0    0     0    0      1     0      0      0      0     0\n4276      0    0     0    0      1     0      0      0      0     0\n4277      0    0     0    0      1     0      0      0      0     0\n4278      0    0     0    0      1     0      0      0      0     0\n4279      0    0     0    0      1     1      0      1      0     0\n\n[4280 rows x 10 columns]",
      "text/html": "<div>\n<style scoped>\n    .dataframe tbody tr th:only-of-type {\n        vertical-align: middle;\n    }\n\n    .dataframe tbody tr th {\n        vertical-align: top;\n    }\n\n    .dataframe thead th {\n        text-align: right;\n    }\n</style>\n<table border=\"1\" class=\"dataframe\">\n  <thead>\n    <tr style=\"text-align: right;\">\n      <th></th>\n      <th>IN2P3</th>\n      <th>INC</th>\n      <th>INEE</th>\n      <th>INP</th>\n      <th>INS2I</th>\n      <th>INSB</th>\n      <th>INSHS</th>\n      <th>INSIS</th>\n      <th>INSMI</th>\n      <th>INSU</th>\n    </tr>\n  </thead>\n  <tbody>\n    <tr>\n      <th>0</th>\n      <td>0</td>\n      <td>0</td>\n      <td>0</td>\n      <td>0</td>\n      <td>1</td>\n      <td>0</td>\n      <td>0</td>\n      <td>0</td>\n      <td>0</td>\n      <td>0</td>\n    </tr>\n    <tr>\n      <th>1</th>\n      <td>0</td>\n      <td>0</td>\n      <td>0</td>\n      <td>0</td>\n      <td>1</td>\n      <td>0</td>\n      <td>0</td>\n      <td>0</td>\n      <td>0</td>\n      <td>0</td>\n    </tr>\n    <tr>\n      <th>2</th>\n      <td>0</td>\n      <td>0</td>\n      <td>0</td>\n      <td>0</td>\n      <td>1</td>\n      <td>0</td>\n      <td>0</td>\n      <td>0</td>\n      <td>0</td>\n      <td>0</td>\n    </tr>\n    <tr>\n      <th>3</th>\n      <td>0</td>\n      <td>0</td>\n      <td>0</td>\n      <td>0</td>\n      <td>1</td>\n      <td>0</td>\n      <td>0</td>\n      <td>0</td>\n      <td>0</td>\n      <td>0</td>\n    </tr>\n    <tr>\n      <th>4</th>\n      <td>0</td>\n      <td>0</td>\n      <td>0</td>\n      <td>0</td>\n      <td>1</td>\n      <td>0</td>\n      <td>0</td>\n      <td>0</td>\n      <td>0</td>\n      <td>0</td>\n    </tr>\n    <tr>\n      <th>...</th>\n      <td>...</td>\n      <td>...</td>\n      <td>...</td>\n      <td>...</td>\n      <td>...</td>\n      <td>...</td>\n      <td>...</td>\n      <td>...</td>\n      <td>...</td>\n      <td>...</td>\n    </tr>\n    <tr>\n      <th>4275</th>\n      <td>0</td>\n      <td>0</td>\n      <td>0</td>\n      <td>0</td>\n      <td>1</td>\n      <td>0</td>\n      <td>0</td>\n      <td>0</td>\n      <td>0</td>\n      <td>0</td>\n    </tr>\n    <tr>\n      <th>4276</th>\n      <td>0</td>\n      <td>0</td>\n      <td>0</td>\n      <td>0</td>\n      <td>1</td>\n      <td>0</td>\n      <td>0</td>\n      <td>0</td>\n      <td>0</td>\n      <td>0</td>\n    </tr>\n    <tr>\n      <th>4277</th>\n      <td>0</td>\n      <td>0</td>\n      <td>0</td>\n      <td>0</td>\n      <td>1</td>\n      <td>0</td>\n      <td>0</td>\n      <td>0</td>\n      <td>0</td>\n      <td>0</td>\n    </tr>\n    <tr>\n      <th>4278</th>\n      <td>0</td>\n      <td>0</td>\n      <td>0</td>\n      <td>0</td>\n      <td>1</td>\n      <td>0</td>\n      <td>0</td>\n      <td>0</td>\n      <td>0</td>\n      <td>0</td>\n    </tr>\n    <tr>\n      <th>4279</th>\n      <td>0</td>\n      <td>0</td>\n      <td>0</td>\n      <td>0</td>\n      <td>1</td>\n      <td>1</td>\n      <td>0</td>\n      <td>1</td>\n      <td>0</td>\n      <td>0</td>\n    </tr>\n  </tbody>\n</table>\n<p>4280 rows × 10 columns</p>\n</div>"
     },
     "execution_count": 55,
     "metadata": {},
     "output_type": "execute_result"
    }
   ],
   "source": [
    "dfDummiesInst"
   ],
   "metadata": {
    "collapsed": false,
    "pycharm": {
     "name": "#%%\n"
    }
   }
  },
  {
   "cell_type": "code",
   "execution_count": 56,
   "outputs": [
    {
     "data": {
      "text/plain": "IN2P3      35\nINC        82\nINEE       62\nINP        92\nINS2I    4280\nINSB      257\nINSHS      32\nINSIS     937\nINSMI     131\nINSU       53\ndtype: int64"
     },
     "execution_count": 56,
     "metadata": {},
     "output_type": "execute_result"
    }
   ],
   "source": [
    "dfDummiesInst.sum()"
   ],
   "metadata": {
    "collapsed": false,
    "pycharm": {
     "name": "#%%\n"
    }
   }
  },
  {
   "cell_type": "code",
   "execution_count": null,
   "outputs": [],
   "source": [],
   "metadata": {
    "collapsed": false,
    "pycharm": {
     "name": "#%%\n"
    }
   }
  }
 ],
 "metadata": {
  "kernelspec": {
   "display_name": "Python 3",
   "language": "python",
   "name": "python3"
  },
  "language_info": {
   "codemirror_mode": {
    "name": "ipython",
    "version": 2
   },
   "file_extension": ".py",
   "mimetype": "text/x-python",
   "name": "python",
   "nbconvert_exporter": "python",
   "pygments_lexer": "ipython2",
   "version": "2.7.6"
  }
 },
 "nbformat": 4,
 "nbformat_minor": 0
}