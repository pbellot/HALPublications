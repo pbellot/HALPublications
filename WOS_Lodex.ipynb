{
 "cells": [
  {
   "cell_type": "code",
   "execution_count": 1,
   "outputs": [],
   "source": [
    "import matplotlib.pyplot as plt\n",
    "import requests\n",
    "import json\n",
    "import pandas as pd\n",
    "import numpy as np\n",
    "from rich import print_json\n",
    "from IPython.display import display\n",
    "import seaborn\n",
    "import geopandas"
   ],
   "metadata": {
    "collapsed": false,
    "pycharm": {
     "name": "#%%\n"
    }
   }
  },
  {
   "cell_type": "code",
   "execution_count": 2,
   "outputs": [],
   "source": [
    "anneeMin=2017\n",
    "anneeMax=2020"
   ],
   "metadata": {
    "collapsed": false,
    "pycharm": {
     "name": "#%%\n"
    }
   }
  },
  {
   "cell_type": "code",
   "execution_count": 8,
   "outputs": [],
   "source": [
    "listeInstituts=[\"INC\",\"INEE\",\"INP\",\"INSB\",\"INSHS\",\"INSIS\",\"INSMI\",\"INSU\",\"INS2I\",\"IN2P3\"]\n",
    "dfInstituts = pd.DataFrame(columns=listeInstituts,index=listeInstituts)"
   ],
   "metadata": {
    "collapsed": false,
    "pycharm": {
     "name": "#%%\n"
    }
   }
  },
  {
   "cell_type": "code",
   "execution_count": 9,
   "outputs": [
    {
     "data": {
      "text/plain": "       INC INEE  INP INSB INSHS INSIS INSMI INSU INS2I IN2P3\nINC    NaN  NaN  NaN  NaN   NaN   NaN   NaN  NaN   NaN   NaN\nINEE   NaN  NaN  NaN  NaN   NaN   NaN   NaN  NaN   NaN   NaN\nINP    NaN  NaN  NaN  NaN   NaN   NaN   NaN  NaN   NaN   NaN\nINSB   NaN  NaN  NaN  NaN   NaN   NaN   NaN  NaN   NaN   NaN\nINSHS  NaN  NaN  NaN  NaN   NaN   NaN   NaN  NaN   NaN   NaN\nINSIS  NaN  NaN  NaN  NaN   NaN   NaN   NaN  NaN   NaN   NaN\nINSMI  NaN  NaN  NaN  NaN   NaN   NaN   NaN  NaN   NaN   NaN\nINSU   NaN  NaN  NaN  NaN   NaN   NaN   NaN  NaN   NaN   NaN\nINS2I  NaN  NaN  NaN  NaN   NaN   NaN   NaN  NaN   NaN   NaN\nIN2P3  NaN  NaN  NaN  NaN   NaN   NaN   NaN  NaN   NaN   NaN",
      "text/html": "<div>\n<style scoped>\n    .dataframe tbody tr th:only-of-type {\n        vertical-align: middle;\n    }\n\n    .dataframe tbody tr th {\n        vertical-align: top;\n    }\n\n    .dataframe thead th {\n        text-align: right;\n    }\n</style>\n<table border=\"1\" class=\"dataframe\">\n  <thead>\n    <tr style=\"text-align: right;\">\n      <th></th>\n      <th>INC</th>\n      <th>INEE</th>\n      <th>INP</th>\n      <th>INSB</th>\n      <th>INSHS</th>\n      <th>INSIS</th>\n      <th>INSMI</th>\n      <th>INSU</th>\n      <th>INS2I</th>\n      <th>IN2P3</th>\n    </tr>\n  </thead>\n  <tbody>\n    <tr>\n      <th>INC</th>\n      <td>NaN</td>\n      <td>NaN</td>\n      <td>NaN</td>\n      <td>NaN</td>\n      <td>NaN</td>\n      <td>NaN</td>\n      <td>NaN</td>\n      <td>NaN</td>\n      <td>NaN</td>\n      <td>NaN</td>\n    </tr>\n    <tr>\n      <th>INEE</th>\n      <td>NaN</td>\n      <td>NaN</td>\n      <td>NaN</td>\n      <td>NaN</td>\n      <td>NaN</td>\n      <td>NaN</td>\n      <td>NaN</td>\n      <td>NaN</td>\n      <td>NaN</td>\n      <td>NaN</td>\n    </tr>\n    <tr>\n      <th>INP</th>\n      <td>NaN</td>\n      <td>NaN</td>\n      <td>NaN</td>\n      <td>NaN</td>\n      <td>NaN</td>\n      <td>NaN</td>\n      <td>NaN</td>\n      <td>NaN</td>\n      <td>NaN</td>\n      <td>NaN</td>\n    </tr>\n    <tr>\n      <th>INSB</th>\n      <td>NaN</td>\n      <td>NaN</td>\n      <td>NaN</td>\n      <td>NaN</td>\n      <td>NaN</td>\n      <td>NaN</td>\n      <td>NaN</td>\n      <td>NaN</td>\n      <td>NaN</td>\n      <td>NaN</td>\n    </tr>\n    <tr>\n      <th>INSHS</th>\n      <td>NaN</td>\n      <td>NaN</td>\n      <td>NaN</td>\n      <td>NaN</td>\n      <td>NaN</td>\n      <td>NaN</td>\n      <td>NaN</td>\n      <td>NaN</td>\n      <td>NaN</td>\n      <td>NaN</td>\n    </tr>\n    <tr>\n      <th>INSIS</th>\n      <td>NaN</td>\n      <td>NaN</td>\n      <td>NaN</td>\n      <td>NaN</td>\n      <td>NaN</td>\n      <td>NaN</td>\n      <td>NaN</td>\n      <td>NaN</td>\n      <td>NaN</td>\n      <td>NaN</td>\n    </tr>\n    <tr>\n      <th>INSMI</th>\n      <td>NaN</td>\n      <td>NaN</td>\n      <td>NaN</td>\n      <td>NaN</td>\n      <td>NaN</td>\n      <td>NaN</td>\n      <td>NaN</td>\n      <td>NaN</td>\n      <td>NaN</td>\n      <td>NaN</td>\n    </tr>\n    <tr>\n      <th>INSU</th>\n      <td>NaN</td>\n      <td>NaN</td>\n      <td>NaN</td>\n      <td>NaN</td>\n      <td>NaN</td>\n      <td>NaN</td>\n      <td>NaN</td>\n      <td>NaN</td>\n      <td>NaN</td>\n      <td>NaN</td>\n    </tr>\n    <tr>\n      <th>INS2I</th>\n      <td>NaN</td>\n      <td>NaN</td>\n      <td>NaN</td>\n      <td>NaN</td>\n      <td>NaN</td>\n      <td>NaN</td>\n      <td>NaN</td>\n      <td>NaN</td>\n      <td>NaN</td>\n      <td>NaN</td>\n    </tr>\n    <tr>\n      <th>IN2P3</th>\n      <td>NaN</td>\n      <td>NaN</td>\n      <td>NaN</td>\n      <td>NaN</td>\n      <td>NaN</td>\n      <td>NaN</td>\n      <td>NaN</td>\n      <td>NaN</td>\n      <td>NaN</td>\n      <td>NaN</td>\n    </tr>\n  </tbody>\n</table>\n</div>"
     },
     "execution_count": 9,
     "metadata": {},
     "output_type": "execute_result"
    }
   ],
   "source": [
    "dfInstituts"
   ],
   "metadata": {
    "collapsed": false,
    "pycharm": {
     "name": "#%%\n"
    }
   }
  },
  {
   "cell_type": "code",
   "execution_count": 5,
   "outputs": [],
   "source": [
    "#nomFichier = \"WOS/WOSINS2I20172020.csv\"\n",
    "nomFichier = \"WOS/Corpus WoS INS2I \"+str(anneeMin)+\".csv\"\n",
    "df = pd.read_csv(nomFichier, sep=\";\")"
   ],
   "metadata": {
    "collapsed": false,
    "pycharm": {
     "name": "#%%\n"
    }
   }
  },
  {
   "cell_type": "code",
   "execution_count": 6,
   "outputs": [
    {
     "data": {
      "text/plain": "                       UT INIST_Identifiant            INIST_UTs  \\\n0     WOS:000382426700008      INIST_101762  WOS:000382426700008   \n1     WOS:000384038500002      INIST_070748  WOS:000384038500002   \n2     WOS:000384038500008      INIST_070747  WOS:000384038500008   \n3     WOS:000384527800011      INIST_053525  WOS:000384527800011   \n4     WOS:000384672600017      INIST_043128  WOS:000384672600017   \n...                   ...               ...                  ...   \n4275  WOS:000419172100001      INIST_091222  WOS:000419172100001   \n4276  WOS:000419172100003      INIST_091217  WOS:000419172100003   \n4277  WOS:000419172100008      INIST_091216  WOS:000419172100008   \n4278  WOS:000419175600010      INIST_026982  WOS:000419175600010   \n4279  WOS:000419185700007      INIST_003491  WOS:000419185700007   \n\n     BSO_Identifiant                       INIST_DI  \\\n0         BSO_099851                            NaN   \n1         BSO_022990     10.1016/j.jcss.2016.02.004   \n2         BSO_022795     10.1016/j.jcss.2016.04.007   \n3         BSO_000627  10.1080/00207721.2016.1160454   \n4         BSO_000621             10.1111/itor.12275   \n...              ...                            ...   \n4275      BSO_016331    10.1007/978-3-319-56620-7_1   \n4276      BSO_009587    10.1007/978-3-319-56620-7_3   \n4277      BSO_009435    10.1007/978-3-319-56620-7_8   \n4278      BSO_011509   10.1016/j.piutam.2017.08.011   \n4279      BSO_081103              10.3390/mi8120347   \n\n                            BSO_doi                          DOI_C  \\\n0      10.1007/978-3-319-11520-7_15   10.1007/978-3-319-11520-7_15   \n1        10.1016/j.jcss.2016.02.004     10.1016/j.jcss.2016.02.004   \n2        10.1016/j.jcss.2016.04.007     10.1016/j.jcss.2016.04.007   \n3     10.1080/00207721.2016.1160454  10.1080/00207721.2016.1160454   \n4                10.1111/itor.12275             10.1111/itor.12275   \n...                             ...                            ...   \n4275    10.1007/978-3-319-56620-7_1    10.1007/978-3-319-56620-7_1   \n4276    10.1007/978-3-319-56620-7_3    10.1007/978-3-319-56620-7_3   \n4277    10.1007/978-3-319-56620-7_8    10.1007/978-3-319-56620-7_8   \n4278   10.1016/j.piutam.2017.08.011   10.1016/j.piutam.2017.08.011   \n4279              10.3390/mi8120347              10.3390/mi8120347   \n\n                  Comparaison     BSO_is_oa BSO_source_is_oa  ...  \\\n0     3 - WoS / BSO - ErronÃ©  OA - Inconnu     OA - Inconnu  ...   \n1          1 - WoS / BSO - OK      OA - Oui         OA - Non  ...   \n2          1 - WoS / BSO - OK      OA - Oui         OA - Non  ...   \n3          1 - WoS / BSO - OK      OA - Oui         OA - Non  ...   \n4          1 - WoS / BSO - OK      OA - Oui         OA - Non  ...   \n...                       ...           ...              ...  ...   \n4275       1 - WoS / BSO - OK      OA - Non         OA - Non  ...   \n4276       1 - WoS / BSO - OK      OA - Oui         OA - Non  ...   \n4277       1 - WoS / BSO - OK      OA - Oui         OA - Non  ...   \n4278       1 - WoS / BSO - OK      OA - Oui         OA - Non  ...   \n4279       1 - WoS / BSO - OK      OA - Oui         OA - Oui  ...   \n\n                                             SAPPS_JNAL  \\\n0                          JOURNAL OF CELLULAR AUTOMATA   \n1               JOURNAL OF COMPUTER AND SYSTEM SCIENCES   \n2               JOURNAL OF COMPUTER AND SYSTEM SCIENCES   \n3              INTERNATIONAL JOURNAL OF SYSTEMS SCIENCE   \n4     INTERNATIONAL TRANSACTIONS IN OPERATIONAL RESE...   \n...                                                 ...   \n4275      ADVANCES IN CRYPTOLOGY - EUROCRYPT 2017, PT I   \n4276      ADVANCES IN CRYPTOLOGY - EUROCRYPT 2017, PT I   \n4277      ADVANCES IN CRYPTOLOGY - EUROCRYPT 2017, PT I   \n4278  IUTAM SYMPOSIUM ON NONLINEAR AND DELAYED DYNAM...   \n4279                                      MICROMACHINES   \n\n                                                     SO           NotoriÃ©tÃ©  \\\n0                          JOURNAL OF CELLULAR AUTOMATA         1 - MÃ©diocre   \n1               JOURNAL OF COMPUTER AND SYSTEM SCIENCES          3 - Correcte   \n2               JOURNAL OF COMPUTER AND SYSTEM SCIENCES          3 - Correcte   \n3              INTERNATIONAL JOURNAL OF SYSTEMS SCIENCE        4 - Excellente   \n4     INTERNATIONAL TRANSACTIONS IN OPERATIONAL RESE...        4 - Excellente   \n...                                                 ...                   ...   \n4275      ADVANCES IN CRYPTOLOGY - EUROCRYPT 2017, PT I  0 - Sans notoriÃ©tÃ©   \n4276      ADVANCES IN CRYPTOLOGY - EUROCRYPT 2017, PT I  0 - Sans notoriÃ©tÃ©   \n4277      ADVANCES IN CRYPTOLOGY - EUROCRYPT 2017, PT I  0 - Sans notoriÃ©tÃ©   \n4278  IUTAM SYMPOSIUM ON NONLINEAR AND DELAYED DYNAM...  0 - Sans notoriÃ©tÃ©   \n4279                                      MICROMACHINES          3 - Correcte   \n\n     CNRS SIG_INST_MonoInst SIG_INST__MultiInst  \\\n0     Oui             INS2I               INS2I   \n1     Oui             INS2I               INS2I   \n2     Oui             INS2I               INS2I   \n3     Oui             INS2I               INS2I   \n4     Oui             INS2I               INS2I   \n...   ...               ...                 ...   \n4275  Oui             INS2I               INS2I   \n4276  Oui             INS2I               INS2I   \n4277  Oui             INS2I               INS2I   \n4278  Oui             INS2I               INS2I   \n4279  Oui       INS2I; INSB  INS2I; INSB; INSIS   \n\n                                                 WoS_TI  \\\n0     Finitization of Infinite Field-based Multi-gen...   \n1     A polytope-based approach to measure the impac...   \n2            Optimal constructions for active diagnosis   \n3      Fault-tolerant continuous flow systems modelling   \n4            Characterizing N plus -perfect line graphs   \n...                                                 ...   \n4275  Revisiting Lattice Attacks on Overstretched NT...   \n4276  Computing Generator in Cyclotomic Integer Ring...   \n4277  A Kilobit Hidden SNFS Discrete Logarithm Compu...   \n4278  On the Coalescence of Spectral Values and its ...   \n4279  Methods of Micropatterning and Manipulation of...   \n\n                                              BSO_Title           TypeDoc  \\\n0     Experimental Finitization of Infinite Field-Ba...           Article   \n1     A polytope-based approach to measure the impac...           Article   \n2            Optimal constructions for active diagnosis           Article   \n3      Fault-tolerant continuous flow systems modelling           Article   \n4                 Characterizing N+-perfect line graphs           Article   \n...                                                 ...               ...   \n4275  Revisiting Lattice Attacks on Overstretched NT...  Meeting Abstract   \n4276    Computing Generator in Cyclotomic Integer Rings  Meeting Abstract   \n4277  A Kilobit Hidden SNFS Discrete Logarithm Compu...  Meeting Abstract   \n4278  On the Coalescence of Spectral Values and its ...  Meeting Abstract   \n4279  Methods of Micropatterning and Manipulation of...            Review   \n\n     Type de revue  \n0              NaN  \n1              NaN  \n2              NaN  \n3              NaN  \n4              NaN  \n...            ...  \n4275           NaN  \n4276           NaN  \n4277           NaN  \n4278           NaN  \n4279           NaN  \n\n[4280 rows x 24 columns]",
      "text/html": "<div>\n<style scoped>\n    .dataframe tbody tr th:only-of-type {\n        vertical-align: middle;\n    }\n\n    .dataframe tbody tr th {\n        vertical-align: top;\n    }\n\n    .dataframe thead th {\n        text-align: right;\n    }\n</style>\n<table border=\"1\" class=\"dataframe\">\n  <thead>\n    <tr style=\"text-align: right;\">\n      <th></th>\n      <th>UT</th>\n      <th>INIST_Identifiant</th>\n      <th>INIST_UTs</th>\n      <th>BSO_Identifiant</th>\n      <th>INIST_DI</th>\n      <th>BSO_doi</th>\n      <th>DOI_C</th>\n      <th>Comparaison</th>\n      <th>BSO_is_oa</th>\n      <th>BSO_source_is_oa</th>\n      <th>...</th>\n      <th>SAPPS_JNAL</th>\n      <th>SO</th>\n      <th>NotoriÃ©tÃ©</th>\n      <th>CNRS</th>\n      <th>SIG_INST_MonoInst</th>\n      <th>SIG_INST__MultiInst</th>\n      <th>WoS_TI</th>\n      <th>BSO_Title</th>\n      <th>TypeDoc</th>\n      <th>Type de revue</th>\n    </tr>\n  </thead>\n  <tbody>\n    <tr>\n      <th>0</th>\n      <td>WOS:000382426700008</td>\n      <td>INIST_101762</td>\n      <td>WOS:000382426700008</td>\n      <td>BSO_099851</td>\n      <td>NaN</td>\n      <td>10.1007/978-3-319-11520-7_15</td>\n      <td>10.1007/978-3-319-11520-7_15</td>\n      <td>3 - WoS / BSO - ErronÃ©</td>\n      <td>OA - Inconnu</td>\n      <td>OA - Inconnu</td>\n      <td>...</td>\n      <td>JOURNAL OF CELLULAR AUTOMATA</td>\n      <td>JOURNAL OF CELLULAR AUTOMATA</td>\n      <td>1 - MÃ©diocre</td>\n      <td>Oui</td>\n      <td>INS2I</td>\n      <td>INS2I</td>\n      <td>Finitization of Infinite Field-based Multi-gen...</td>\n      <td>Experimental Finitization of Infinite Field-Ba...</td>\n      <td>Article</td>\n      <td>NaN</td>\n    </tr>\n    <tr>\n      <th>1</th>\n      <td>WOS:000384038500002</td>\n      <td>INIST_070748</td>\n      <td>WOS:000384038500002</td>\n      <td>BSO_022990</td>\n      <td>10.1016/j.jcss.2016.02.004</td>\n      <td>10.1016/j.jcss.2016.02.004</td>\n      <td>10.1016/j.jcss.2016.02.004</td>\n      <td>1 - WoS / BSO - OK</td>\n      <td>OA - Oui</td>\n      <td>OA - Non</td>\n      <td>...</td>\n      <td>JOURNAL OF COMPUTER AND SYSTEM SCIENCES</td>\n      <td>JOURNAL OF COMPUTER AND SYSTEM SCIENCES</td>\n      <td>3 - Correcte</td>\n      <td>Oui</td>\n      <td>INS2I</td>\n      <td>INS2I</td>\n      <td>A polytope-based approach to measure the impac...</td>\n      <td>A polytope-based approach to measure the impac...</td>\n      <td>Article</td>\n      <td>NaN</td>\n    </tr>\n    <tr>\n      <th>2</th>\n      <td>WOS:000384038500008</td>\n      <td>INIST_070747</td>\n      <td>WOS:000384038500008</td>\n      <td>BSO_022795</td>\n      <td>10.1016/j.jcss.2016.04.007</td>\n      <td>10.1016/j.jcss.2016.04.007</td>\n      <td>10.1016/j.jcss.2016.04.007</td>\n      <td>1 - WoS / BSO - OK</td>\n      <td>OA - Oui</td>\n      <td>OA - Non</td>\n      <td>...</td>\n      <td>JOURNAL OF COMPUTER AND SYSTEM SCIENCES</td>\n      <td>JOURNAL OF COMPUTER AND SYSTEM SCIENCES</td>\n      <td>3 - Correcte</td>\n      <td>Oui</td>\n      <td>INS2I</td>\n      <td>INS2I</td>\n      <td>Optimal constructions for active diagnosis</td>\n      <td>Optimal constructions for active diagnosis</td>\n      <td>Article</td>\n      <td>NaN</td>\n    </tr>\n    <tr>\n      <th>3</th>\n      <td>WOS:000384527800011</td>\n      <td>INIST_053525</td>\n      <td>WOS:000384527800011</td>\n      <td>BSO_000627</td>\n      <td>10.1080/00207721.2016.1160454</td>\n      <td>10.1080/00207721.2016.1160454</td>\n      <td>10.1080/00207721.2016.1160454</td>\n      <td>1 - WoS / BSO - OK</td>\n      <td>OA - Oui</td>\n      <td>OA - Non</td>\n      <td>...</td>\n      <td>INTERNATIONAL JOURNAL OF SYSTEMS SCIENCE</td>\n      <td>INTERNATIONAL JOURNAL OF SYSTEMS SCIENCE</td>\n      <td>4 - Excellente</td>\n      <td>Oui</td>\n      <td>INS2I</td>\n      <td>INS2I</td>\n      <td>Fault-tolerant continuous flow systems modelling</td>\n      <td>Fault-tolerant continuous flow systems modelling</td>\n      <td>Article</td>\n      <td>NaN</td>\n    </tr>\n    <tr>\n      <th>4</th>\n      <td>WOS:000384672600017</td>\n      <td>INIST_043128</td>\n      <td>WOS:000384672600017</td>\n      <td>BSO_000621</td>\n      <td>10.1111/itor.12275</td>\n      <td>10.1111/itor.12275</td>\n      <td>10.1111/itor.12275</td>\n      <td>1 - WoS / BSO - OK</td>\n      <td>OA - Oui</td>\n      <td>OA - Non</td>\n      <td>...</td>\n      <td>INTERNATIONAL TRANSACTIONS IN OPERATIONAL RESE...</td>\n      <td>INTERNATIONAL TRANSACTIONS IN OPERATIONAL RESE...</td>\n      <td>4 - Excellente</td>\n      <td>Oui</td>\n      <td>INS2I</td>\n      <td>INS2I</td>\n      <td>Characterizing N plus -perfect line graphs</td>\n      <td>Characterizing N+-perfect line graphs</td>\n      <td>Article</td>\n      <td>NaN</td>\n    </tr>\n    <tr>\n      <th>...</th>\n      <td>...</td>\n      <td>...</td>\n      <td>...</td>\n      <td>...</td>\n      <td>...</td>\n      <td>...</td>\n      <td>...</td>\n      <td>...</td>\n      <td>...</td>\n      <td>...</td>\n      <td>...</td>\n      <td>...</td>\n      <td>...</td>\n      <td>...</td>\n      <td>...</td>\n      <td>...</td>\n      <td>...</td>\n      <td>...</td>\n      <td>...</td>\n      <td>...</td>\n      <td>...</td>\n    </tr>\n    <tr>\n      <th>4275</th>\n      <td>WOS:000419172100001</td>\n      <td>INIST_091222</td>\n      <td>WOS:000419172100001</td>\n      <td>BSO_016331</td>\n      <td>10.1007/978-3-319-56620-7_1</td>\n      <td>10.1007/978-3-319-56620-7_1</td>\n      <td>10.1007/978-3-319-56620-7_1</td>\n      <td>1 - WoS / BSO - OK</td>\n      <td>OA - Non</td>\n      <td>OA - Non</td>\n      <td>...</td>\n      <td>ADVANCES IN CRYPTOLOGY - EUROCRYPT 2017, PT I</td>\n      <td>ADVANCES IN CRYPTOLOGY - EUROCRYPT 2017, PT I</td>\n      <td>0 - Sans notoriÃ©tÃ©</td>\n      <td>Oui</td>\n      <td>INS2I</td>\n      <td>INS2I</td>\n      <td>Revisiting Lattice Attacks on Overstretched NT...</td>\n      <td>Revisiting Lattice Attacks on Overstretched NT...</td>\n      <td>Meeting Abstract</td>\n      <td>NaN</td>\n    </tr>\n    <tr>\n      <th>4276</th>\n      <td>WOS:000419172100003</td>\n      <td>INIST_091217</td>\n      <td>WOS:000419172100003</td>\n      <td>BSO_009587</td>\n      <td>10.1007/978-3-319-56620-7_3</td>\n      <td>10.1007/978-3-319-56620-7_3</td>\n      <td>10.1007/978-3-319-56620-7_3</td>\n      <td>1 - WoS / BSO - OK</td>\n      <td>OA - Oui</td>\n      <td>OA - Non</td>\n      <td>...</td>\n      <td>ADVANCES IN CRYPTOLOGY - EUROCRYPT 2017, PT I</td>\n      <td>ADVANCES IN CRYPTOLOGY - EUROCRYPT 2017, PT I</td>\n      <td>0 - Sans notoriÃ©tÃ©</td>\n      <td>Oui</td>\n      <td>INS2I</td>\n      <td>INS2I</td>\n      <td>Computing Generator in Cyclotomic Integer Ring...</td>\n      <td>Computing Generator in Cyclotomic Integer Rings</td>\n      <td>Meeting Abstract</td>\n      <td>NaN</td>\n    </tr>\n    <tr>\n      <th>4277</th>\n      <td>WOS:000419172100008</td>\n      <td>INIST_091216</td>\n      <td>WOS:000419172100008</td>\n      <td>BSO_009435</td>\n      <td>10.1007/978-3-319-56620-7_8</td>\n      <td>10.1007/978-3-319-56620-7_8</td>\n      <td>10.1007/978-3-319-56620-7_8</td>\n      <td>1 - WoS / BSO - OK</td>\n      <td>OA - Oui</td>\n      <td>OA - Non</td>\n      <td>...</td>\n      <td>ADVANCES IN CRYPTOLOGY - EUROCRYPT 2017, PT I</td>\n      <td>ADVANCES IN CRYPTOLOGY - EUROCRYPT 2017, PT I</td>\n      <td>0 - Sans notoriÃ©tÃ©</td>\n      <td>Oui</td>\n      <td>INS2I</td>\n      <td>INS2I</td>\n      <td>A Kilobit Hidden SNFS Discrete Logarithm Compu...</td>\n      <td>A Kilobit Hidden SNFS Discrete Logarithm Compu...</td>\n      <td>Meeting Abstract</td>\n      <td>NaN</td>\n    </tr>\n    <tr>\n      <th>4278</th>\n      <td>WOS:000419175600010</td>\n      <td>INIST_026982</td>\n      <td>WOS:000419175600010</td>\n      <td>BSO_011509</td>\n      <td>10.1016/j.piutam.2017.08.011</td>\n      <td>10.1016/j.piutam.2017.08.011</td>\n      <td>10.1016/j.piutam.2017.08.011</td>\n      <td>1 - WoS / BSO - OK</td>\n      <td>OA - Oui</td>\n      <td>OA - Non</td>\n      <td>...</td>\n      <td>IUTAM SYMPOSIUM ON NONLINEAR AND DELAYED DYNAM...</td>\n      <td>IUTAM SYMPOSIUM ON NONLINEAR AND DELAYED DYNAM...</td>\n      <td>0 - Sans notoriÃ©tÃ©</td>\n      <td>Oui</td>\n      <td>INS2I</td>\n      <td>INS2I</td>\n      <td>On the Coalescence of Spectral Values and its ...</td>\n      <td>On the Coalescence of Spectral Values and its ...</td>\n      <td>Meeting Abstract</td>\n      <td>NaN</td>\n    </tr>\n    <tr>\n      <th>4279</th>\n      <td>WOS:000419185700007</td>\n      <td>INIST_003491</td>\n      <td>WOS:000419185700007</td>\n      <td>BSO_081103</td>\n      <td>10.3390/mi8120347</td>\n      <td>10.3390/mi8120347</td>\n      <td>10.3390/mi8120347</td>\n      <td>1 - WoS / BSO - OK</td>\n      <td>OA - Oui</td>\n      <td>OA - Oui</td>\n      <td>...</td>\n      <td>MICROMACHINES</td>\n      <td>MICROMACHINES</td>\n      <td>3 - Correcte</td>\n      <td>Oui</td>\n      <td>INS2I; INSB</td>\n      <td>INS2I; INSB; INSIS</td>\n      <td>Methods of Micropatterning and Manipulation of...</td>\n      <td>Methods of Micropatterning and Manipulation of...</td>\n      <td>Review</td>\n      <td>NaN</td>\n    </tr>\n  </tbody>\n</table>\n<p>4280 rows × 24 columns</p>\n</div>"
     },
     "execution_count": 6,
     "metadata": {},
     "output_type": "execute_result"
    }
   ],
   "source": [
    "df"
   ],
   "metadata": {
    "collapsed": false,
    "pycharm": {
     "name": "#%%\n"
    }
   }
  },
  {
   "cell_type": "code",
   "execution_count": null,
   "outputs": [],
   "source": [],
   "metadata": {
    "collapsed": false,
    "pycharm": {
     "name": "#%%\n"
    }
   }
  }
 ],
 "metadata": {
  "kernelspec": {
   "display_name": "Python 3",
   "language": "python",
   "name": "python3"
  },
  "language_info": {
   "codemirror_mode": {
    "name": "ipython",
    "version": 2
   },
   "file_extension": ".py",
   "mimetype": "text/x-python",
   "name": "python",
   "nbconvert_exporter": "python",
   "pygments_lexer": "ipython2",
   "version": "2.7.6"
  }
 },
 "nbformat": 4,
 "nbformat_minor": 0
}