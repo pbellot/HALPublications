{
 "cells": [
  {
   "cell_type": "code",
   "execution_count": 3,
   "metadata": {
    "collapsed": true,
    "pycharm": {
     "name": "#%%\n"
    }
   },
   "outputs": [],
   "source": [
    "from pybliometrics.scopus import ScopusSearch\n",
    "import pandas as pd"
   ]
  },
  {
   "cell_type": "code",
   "execution_count": 4,
   "outputs": [
    {
     "name": "stdout",
     "output_type": "stream",
     "text": [
      "Creating config file at /Users/Patrice/.pybliometrics/config.ini with default paths...\n",
      "Configuration file successfully created at /Users/Patrice/.pybliometrics/config.ini\n",
      "For details see https://pybliometrics.rtfd.io/en/stable/configuration.html.\n"
     ]
    },
    {
     "data": {
      "text/plain": "<configparser.ConfigParser at 0x7fe4b9638a30>"
     },
     "execution_count": 4,
     "metadata": {},
     "output_type": "execute_result"
    }
   ],
   "source": [
    "import pybliometrics\n",
    "pybliometrics.scopus.utils.create_config()"
   ],
   "metadata": {
    "collapsed": false,
    "pycharm": {
     "name": "#%%\n"
    }
   }
  },
  {
   "cell_type": "code",
   "execution_count": 5,
   "outputs": [
    {
     "name": "stdout",
     "output_type": "stream",
     "text": [
      "keys :  1e634063406e6b444b503e8eedf16350, 5a6abf59175949d8c948473454822a57\n"
     ]
    }
   ],
   "source": [
    "from pybliometrics.scopus.utils import config\n",
    "\n",
    "print(\"keys : \", config['Authentication']['APIKey'])  # Show keys"
   ],
   "metadata": {
    "collapsed": false,
    "pycharm": {
     "name": "#%%\n"
    }
   }
  },
  {
   "cell_type": "code",
   "execution_count": 36,
   "outputs": [
    {
     "name": "stdout",
     "output_type": "stream",
     "text": [
      "38\n"
     ]
    }
   ],
   "source": [
    "# liste laboratoires INS2I\n",
    "lab = (\"CMP\", \"CRAN\", \"CREATIS\", \"CRIL\",\"CRISTAL\",\"DI ENS\",\"ETIS\",\"GIPSA-Lab\",\"GREYC\",\"G-SCOP\",\"HEUDIASYC\",\"I3S\",\"ICUBE\",\"IDRIS\",\"IRIF\",\"IRISA\",\"IRIT\",\"L2S\",\"LAAS\",\"LABRI\",\"LAB-STICC\",\"LAMIH\",\"LAMSADE\",\"LIG\",\"LIGM\",\"LIMOS\",\"LIP\",\"LIP6\",\"LIPN\",\"LIRIS\",\"LIRMM\",\"LIS\",\"LISN\",\"LIX\",\"LORIA\",\"LS2N\",\"LSV\",\"STMS\",\"TIMA\",\"TIMC IMAG\",\"VERIMAG\")\n",
    "print(len(lab))"
   ],
   "metadata": {
    "collapsed": false,
    "pycharm": {
     "name": "#%%\n"
    }
   }
  },
  {
   "cell_type": "code",
   "execution_count": 13,
   "outputs": [
    {
     "name": "stdout",
     "output_type": "stream",
     "text": [
      "3\n"
     ]
    }
   ],
   "source": [
    "# liste laboratoires INS2I\n",
    "lab = (\"LIS\",\"LIF\",\"LSIS\")\n",
    "print(len(lab))"
   ],
   "metadata": {
    "collapsed": false,
    "pycharm": {
     "name": "#%%\n"
    }
   }
  },
  {
   "cell_type": "code",
   "execution_count": 37,
   "outputs": [
    {
     "name": "stdout",
     "output_type": "stream",
     "text": [
      "42\n"
     ]
    },
    {
     "data": {
      "text/plain": "(('CMP', 60202650),\n ('CRAN', 60073336),\n ('CREATIS', 60062760),\n ('CRIL', 60122762),\n ('CRISTAL', 60122064),\n ('DI ENS', 60105786),\n ('ETIS', 60126116),\n ('GIPSA-Lab', 60104170),\n ('GREYC', 60122535),\n ('G-SCOP', 60108255),\n ('HEUDIASYC', 60160765),\n ('I3S', 60110719),\n ('ICUBE', 60208831),\n ('IDRIS', 60106146),\n ('IRIF', 60123660),\n ('IRISA', 60027031),\n ('IRIT', 60030491),\n ('L2S', 60007136),\n ('LAAS', 60005830),\n ('LABRI', 60106845),\n ('LAB-STICC', 60105670),\n ('LAMIH', 60193405),\n ('LAMSADE', 60105740),\n ('LIG', 60108044),\n ('LIGM', 60105097),\n ('LIMOS', 60121963),\n ('LIP', 60111070),\n ('LIP6', 60112307),\n ('LIPN', 60101355),\n ('LIRIS', 60108341),\n ('LIRMM', 60007853),\n ('LIS', 60210090),\n ('LIMSI', 60032709),\n ('LRI', 60106208),\n ('LIX', 60028952),\n ('LORIA', 60028850),\n ('LS2N', 60110511),\n ('LSV', 60105997),\n ('STMS', 60158039),\n ('TIMA', 60003462),\n ('TIMC IMAG', 60108275),\n ('VERIMAG', 60030409))"
     },
     "execution_count": 37,
     "metadata": {},
     "output_type": "execute_result"
    }
   ],
   "source": [
    "# liste laboratoires INS2I avec affiliation ID\n",
    "labID = ((\"CMP\",60202650),(\"CRAN\", 60073336),(\"CREATIS\", 60062760),(\"CRIL\", 60122762),(\"CRISTAL\",60122064),(\"DI ENS\", 60105786),(\"ETIS\",60126116),(\"GIPSA-Lab\",60104170),(\"GREYC\",60122535),(\"G-SCOP\",60108255),(\"HEUDIASYC\",60160765),(\"I3S\",60110719),(\"ICUBE\",60208831),(\"IDRIS\",60106146),(\"IRIF\",60123660),(\"IRISA\",60027031),(\"IRIT\",60030491),(\"L2S\",60007136),(\"LAAS\",60005830),(\"LABRI\",60106845),(\"LAB-STICC\",60105670),(\"LAMIH\",60193405),(\"LAMSADE\",60105740),(\"LIG\",60108044),(\"LIGM\",60105097),(\"LIMOS\",60121963),(\"LIP\",60111070),(\"LIP6\",60112307),(\"LIPN\",60101355),(\"LIRIS\",60108341),(\"LIRMM\",60007853),(\"LIS\",60210090),(\"LIMSI\",60032709),(\"LRI\",60106208),(\"LIX\",60028952),(\"LORIA\",60028850),(\"LS2N\",60110511),(\"LSV\",60105997),(\"STMS\",60158039),(\"TIMA\",60003462),(\"TIMC IMAG\",60108275),(\"VERIMAG\",60030409))\n",
    "print(len(labID))\n",
    "labID"
   ],
   "metadata": {
    "collapsed": false,
    "pycharm": {
     "name": "#%%\n"
    }
   }
  },
  {
   "cell_type": "code",
   "execution_count": 14,
   "outputs": [
    {
     "name": "stdout",
     "output_type": "stream",
     "text": [
      "Downloading results for query \"AFFILORG(\"LIS\") AND PUBYEAR > 2015 AND PUBYEAR < 2021\":\n"
     ]
    },
    {
     "name": "stderr",
     "output_type": "stream",
     "text": [
      "\n",
      "  0%|          | 0/44 [00:00<?, ?it/s]\u001B[A\n",
      "  5%|▍         | 2/44 [00:00<00:19,  2.20it/s]\u001B[A\n",
      "  7%|▋         | 3/44 [00:01<00:25,  1.61it/s]\u001B[A\n",
      "  9%|▉         | 4/44 [00:02<00:29,  1.35it/s]\u001B[A\n",
      " 11%|█▏        | 5/44 [00:03<00:30,  1.27it/s]\u001B[A\n",
      " 14%|█▎        | 6/44 [00:04<00:32,  1.16it/s]\u001B[A\n",
      " 16%|█▌        | 7/44 [00:05<00:33,  1.11it/s]\u001B[A\n",
      " 18%|█▊        | 8/44 [00:06<00:32,  1.12it/s]\u001B[A\n",
      " 20%|██        | 9/44 [00:07<00:30,  1.16it/s]\u001B[A\n",
      " 23%|██▎       | 10/44 [00:08<00:30,  1.11it/s]\u001B[A\n",
      " 25%|██▌       | 11/44 [00:09<00:29,  1.10it/s]\u001B[A\n",
      " 27%|██▋       | 12/44 [00:10<00:29,  1.09it/s]\u001B[A\n",
      " 30%|██▉       | 13/44 [00:11<00:30,  1.03it/s]\u001B[A\n",
      " 32%|███▏      | 14/44 [00:12<00:28,  1.05it/s]\u001B[A\n",
      " 34%|███▍      | 15/44 [00:13<00:30,  1.04s/it]\u001B[A\n",
      " 36%|███▋      | 16/44 [00:14<00:28,  1.01s/it]\u001B[A\n",
      " 39%|███▊      | 17/44 [00:15<00:26,  1.02it/s]\u001B[A\n",
      " 41%|████      | 18/44 [00:16<00:28,  1.09s/it]\u001B[A\n",
      " 43%|████▎     | 19/44 [00:17<00:28,  1.12s/it]\u001B[A\n",
      " 45%|████▌     | 20/44 [00:18<00:26,  1.09s/it]\u001B[A\n",
      " 48%|████▊     | 21/44 [00:19<00:24,  1.07s/it]\u001B[A\n",
      " 50%|█████     | 22/44 [00:20<00:22,  1.00s/it]\u001B[A\n",
      " 52%|█████▏    | 23/44 [00:21<00:19,  1.07it/s]\u001B[A\n",
      " 55%|█████▍    | 24/44 [00:22<00:18,  1.07it/s]\u001B[A\n",
      " 57%|█████▋    | 25/44 [00:23<00:17,  1.06it/s]\u001B[A\n",
      " 59%|█████▉    | 26/44 [00:24<00:17,  1.04it/s]\u001B[A\n",
      " 61%|██████▏   | 27/44 [00:25<00:16,  1.04it/s]\u001B[A\n",
      " 64%|██████▎   | 28/44 [00:26<00:16,  1.01s/it]\u001B[A\n",
      " 66%|██████▌   | 29/44 [00:27<00:14,  1.02it/s]\u001B[A\n",
      " 68%|██████▊   | 30/44 [00:28<00:13,  1.00it/s]\u001B[A\n",
      " 70%|███████   | 31/44 [00:30<00:15,  1.21s/it]\u001B[A\n",
      " 73%|███████▎  | 32/44 [00:31<00:14,  1.20s/it]\u001B[A\n",
      " 75%|███████▌  | 33/44 [00:32<00:12,  1.09s/it]\u001B[A\n",
      " 77%|███████▋  | 34/44 [00:32<00:10,  1.04s/it]\u001B[A\n",
      " 80%|███████▉  | 35/44 [00:33<00:09,  1.01s/it]\u001B[A\n",
      " 82%|████████▏ | 36/44 [00:34<00:07,  1.04it/s]\u001B[A\n",
      " 84%|████████▍ | 37/44 [00:35<00:06,  1.08it/s]\u001B[A\n",
      " 86%|████████▋ | 38/44 [00:36<00:05,  1.08it/s]\u001B[A\n",
      " 89%|████████▊ | 39/44 [00:37<00:04,  1.05it/s]\u001B[A\n",
      " 91%|█████████ | 40/44 [00:38<00:03,  1.04it/s]\u001B[A\n",
      " 93%|█████████▎| 41/44 [00:39<00:02,  1.08it/s]\u001B[A\n",
      " 95%|█████████▌| 42/44 [00:40<00:01,  1.11it/s]\u001B[A\n",
      " 98%|█████████▊| 43/44 [00:41<00:00,  1.10it/s]\u001B[A\n",
      "100%|██████████| 44/44 [00:41<00:00,  1.06it/s]\u001B[A\n"
     ]
    },
    {
     "name": "stdout",
     "output_type": "stream",
     "text": [
      "LIS : Total :  1052\n",
      "subtypeDescription\n",
      "Article             584\n",
      "Book                  3\n",
      "Book Chapter         38\n",
      "Conference Paper    380\n",
      "Editorial            17\n",
      "Erratum               3\n",
      "Letter                6\n",
      "Note                  7\n",
      "Review               14\n",
      "Name: eid, dtype: int64\n",
      "Downloading results for query \"AFFILORG(\"LIF\") AND PUBYEAR > 2015 AND PUBYEAR < 2021\":\n"
     ]
    },
    {
     "name": "stderr",
     "output_type": "stream",
     "text": [
      "\n",
      "  0%|          | 0/10 [00:00<?, ?it/s]\u001B[A\n",
      " 20%|██        | 2/10 [00:00<00:03,  2.34it/s]\u001B[A\n",
      " 30%|███       | 3/10 [00:01<00:04,  1.72it/s]\u001B[A\n",
      " 40%|████      | 4/10 [00:02<00:04,  1.44it/s]\u001B[A\n",
      " 50%|█████     | 5/10 [00:03<00:03,  1.36it/s]\u001B[A\n",
      " 60%|██████    | 6/10 [00:04<00:03,  1.06it/s]\u001B[A\n",
      " 70%|███████   | 7/10 [00:05<00:02,  1.05it/s]\u001B[A\n",
      " 80%|████████  | 8/10 [00:06<00:02,  1.03s/it]\u001B[A\n",
      " 90%|█████████ | 9/10 [00:07<00:00,  1.02it/s]\u001B[A\n",
      "100%|██████████| 10/10 [00:08<00:00,  1.21it/s]\u001B[A\n"
     ]
    },
    {
     "name": "stdout",
     "output_type": "stream",
     "text": [
      "LIF : Total :  214\n",
      "subtypeDescription\n",
      "Article             103\n",
      "Book                  1\n",
      "Book Chapter          7\n",
      "Conference Paper     98\n",
      "Editorial             1\n",
      "Letter                2\n",
      "Review                2\n",
      "Name: eid, dtype: int64\n",
      "Downloading results for query \"AFFILORG(\"LSIS\") AND PUBYEAR > 2015 AND PUBYEAR < 2021\":\n"
     ]
    },
    {
     "name": "stderr",
     "output_type": "stream",
     "text": [
      "\n",
      "  0%|          | 0/26 [00:00<?, ?it/s]\u001B[A\n",
      "  8%|▊         | 2/26 [00:00<00:11,  2.12it/s]\u001B[A\n",
      " 12%|█▏        | 3/26 [00:01<00:15,  1.44it/s]\u001B[A\n",
      " 15%|█▌        | 4/26 [00:02<00:16,  1.30it/s]\u001B[A\n",
      " 19%|█▉        | 5/26 [00:04<00:22,  1.08s/it]\u001B[A\n",
      " 23%|██▎       | 6/26 [00:05<00:21,  1.07s/it]\u001B[A\n",
      " 27%|██▋       | 7/26 [00:06<00:19,  1.03s/it]\u001B[A\n",
      " 31%|███       | 8/26 [00:07<00:18,  1.05s/it]\u001B[A\n",
      " 35%|███▍      | 9/26 [00:08<00:18,  1.09s/it]\u001B[A\n",
      " 38%|███▊      | 10/26 [00:09<00:17,  1.09s/it]\u001B[A\n",
      " 42%|████▏     | 11/26 [00:10<00:15,  1.06s/it]\u001B[A\n",
      " 46%|████▌     | 12/26 [00:12<00:15,  1.10s/it]\u001B[A\n",
      " 50%|█████     | 13/26 [00:13<00:13,  1.06s/it]\u001B[A\n",
      " 54%|█████▍    | 14/26 [00:14<00:13,  1.09s/it]\u001B[A\n",
      " 58%|█████▊    | 15/26 [00:15<00:11,  1.02s/it]\u001B[A\n",
      " 62%|██████▏   | 16/26 [00:15<00:09,  1.05it/s]\u001B[A\n",
      " 65%|██████▌   | 17/26 [00:17<00:09,  1.07s/it]\u001B[A\n",
      " 69%|██████▉   | 18/26 [00:18<00:08,  1.04s/it]\u001B[A\n",
      " 73%|███████▎  | 19/26 [00:19<00:07,  1.10s/it]\u001B[A\n",
      " 77%|███████▋  | 20/26 [00:20<00:06,  1.06s/it]\u001B[A\n",
      " 81%|████████  | 21/26 [00:21<00:05,  1.02s/it]\u001B[A\n",
      " 85%|████████▍ | 22/26 [00:22<00:03,  1.03it/s]\u001B[A\n",
      " 88%|████████▊ | 23/26 [00:23<00:03,  1.07s/it]\u001B[A\n",
      " 92%|█████████▏| 24/26 [00:24<00:02,  1.04s/it]\u001B[A\n",
      " 96%|█████████▌| 25/26 [00:25<00:00,  1.01it/s]\u001B[A\n",
      "100%|██████████| 26/26 [00:27<00:00,  1.05s/it]\u001B[A"
     ]
    },
    {
     "name": "stdout",
     "output_type": "stream",
     "text": [
      "LSIS : Total :  608\n",
      "subtypeDescription\n",
      "Article             233\n",
      "Book                  1\n",
      "Book Chapter         17\n",
      "Conference Paper    344\n",
      "Editorial             4\n",
      "Erratum               2\n",
      "Review                6\n",
      "Name: eid, dtype: int64\n",
      "Total labo =  1874\n"
     ]
    },
    {
     "name": "stderr",
     "output_type": "stream",
     "text": [
      "\n"
     ]
    }
   ],
   "source": [
    "#Interrogation par AFFILORG\n",
    "total = 0\n",
    "for i in range(len(lab)):\n",
    "    query='AFFILORG(\"'+lab[i]+'\") AND PUBYEAR > 2015 AND PUBYEAR < 2021'\n",
    "    li = ScopusSearch(query, verbose=True, download=True, subscriber=False)\n",
    "    print(lab[i], \": Total : \", li.get_results_size())\n",
    "    total += li.get_results_size()\n",
    "    #print(li.results)\n",
    "    df = pd.DataFrame(pd.DataFrame(li.results))\n",
    "    print(df.groupby('subtypeDescription')['eid'].nunique())\n",
    "print (\"Total labo = \", total)"
   ],
   "metadata": {
    "collapsed": false,
    "pycharm": {
     "name": "#%%\n"
    }
   }
  },
  {
   "cell_type": "markdown",
   "source": [
    "## Récupération des listes de publications de chaque laboratoire\n",
    "L'interrogation se fait selon l'identifiant d'affiliation (AF-ID).\n",
    "Pour chaque laboratoire un fichier .csv est créé"
   ],
   "metadata": {
    "collapsed": false,
    "pycharm": {
     "name": "#%% md\n"
    }
   }
  },
  {
   "cell_type": "code",
   "execution_count": 43,
   "outputs": [
    {
     "name": "stdout",
     "output_type": "stream",
     "text": [
      "('CMP', 60202650)\n",
      "CMP : Total :  47\n",
      "subtypeDescription\n",
      "Article             35\n",
      "Book Chapter         1\n",
      "Conference Paper    10\n",
      "Review               1\n",
      "Name: eid, dtype: int64\n",
      "('CRAN', 60073336)\n",
      "CRAN : Total :  1303\n",
      "subtypeDescription\n",
      "Article             607\n",
      "Book                  2\n",
      "Book Chapter         49\n",
      "Conference Paper    548\n",
      "Editorial            22\n",
      "Erratum               6\n",
      "Letter                7\n",
      "Note                  4\n",
      "Review               52\n",
      "Short Survey          6\n",
      "Name: eid, dtype: int64\n",
      "('CREATIS', 60062760)\n",
      "CREATIS : Total :  869\n",
      "subtypeDescription\n",
      "Article             524\n",
      "Book Chapter          7\n",
      "Conference Paper    273\n",
      "Editorial             8\n",
      "Erratum               3\n",
      "Letter               14\n",
      "Note                  3\n",
      "Retracted             3\n",
      "Review               24\n",
      "Short Survey         10\n",
      "Name: eid, dtype: int64\n",
      "('CRIL', 60122762)\n",
      "Downloading results for query \"AF-ID(60122762) AND PUBYEAR > 2015 AND PUBYEAR < 2021\":\n"
     ]
    },
    {
     "name": "stderr",
     "output_type": "stream",
     "text": [
      "100%|██████████| 14/14 [00:10<00:00,  1.28it/s]\n"
     ]
    },
    {
     "name": "stdout",
     "output_type": "stream",
     "text": [
      "CRIL : Total :  322\n",
      "subtypeDescription\n",
      "Article              51\n",
      "Book                  1\n",
      "Book Chapter          2\n",
      "Conference Paper    260\n",
      "Editorial             6\n",
      "Review                2\n",
      "Name: eid, dtype: int64\n",
      "('CRISTAL', 60122064)\n",
      "Downloading results for query \"AF-ID(60122064) AND PUBYEAR > 2015 AND PUBYEAR < 2021\":\n"
     ]
    },
    {
     "name": "stderr",
     "output_type": "stream",
     "text": [
      "100%|██████████| 65/65 [01:05<00:00,  1.01s/it]\n"
     ]
    },
    {
     "name": "stdout",
     "output_type": "stream",
     "text": [
      "CRISTAL : Total :  1583\n",
      "subtypeDescription\n",
      "Article             630\n",
      "Book Chapter         41\n",
      "Conference Paper    863\n",
      "Data Paper            1\n",
      "Editorial            17\n",
      "Erratum               3\n",
      "Letter                2\n",
      "Note                  4\n",
      "Retracted             1\n",
      "Review               12\n",
      "Short Survey          9\n",
      "Name: eid, dtype: int64\n",
      "('DI ENS', 60105786)\n",
      "Downloading results for query \"AF-ID(60105786) AND PUBYEAR > 2015 AND PUBYEAR < 2021\":\n"
     ]
    },
    {
     "name": "stderr",
     "output_type": "stream",
     "text": [
      "100%|██████████| 11/11 [00:09<00:00,  1.13it/s]\n"
     ]
    },
    {
     "name": "stdout",
     "output_type": "stream",
     "text": [
      "DI ENS : Total :  242\n",
      "subtypeDescription\n",
      "Article              82\n",
      "Book Chapter          1\n",
      "Conference Paper    151\n",
      "Editorial             4\n",
      "Erratum               3\n",
      "Review                1\n",
      "Name: eid, dtype: int64\n",
      "('ETIS', 60126116)\n",
      "Downloading results for query \"AF-ID(60126116) AND PUBYEAR > 2015 AND PUBYEAR < 2021\":\n"
     ]
    },
    {
     "name": "stderr",
     "output_type": "stream",
     "text": [
      "100%|██████████| 19/19 [00:17<00:00,  1.07it/s]\n"
     ]
    },
    {
     "name": "stdout",
     "output_type": "stream",
     "text": [
      "ETIS : Total :  432\n",
      "subtypeDescription\n",
      "Article             152\n",
      "Book Chapter          4\n",
      "Conference Paper    267\n",
      "Editorial             3\n",
      "Erratum               1\n",
      "Note                  1\n",
      "Review                4\n",
      "Name: eid, dtype: int64\n",
      "('GIPSA-Lab', 60104170)\n",
      "Downloading results for query \"AF-ID(60104170) AND PUBYEAR > 2015 AND PUBYEAR < 2021\":\n"
     ]
    },
    {
     "name": "stderr",
     "output_type": "stream",
     "text": [
      "100%|██████████| 69/69 [01:03<00:00,  1.08it/s]\n"
     ]
    },
    {
     "name": "stdout",
     "output_type": "stream",
     "text": [
      "GIPSA-Lab : Total :  1692\n",
      "subtypeDescription\n",
      "Article             764\n",
      "Book                  1\n",
      "Book Chapter         64\n",
      "Conference Paper    822\n",
      "Editorial            13\n",
      "Erratum               2\n",
      "Letter                2\n",
      "Note                  3\n",
      "Review               18\n",
      "Short Survey          3\n",
      "Name: eid, dtype: int64\n",
      "('GREYC', 60122535)\n",
      "Downloading results for query \"AF-ID(60122535) AND PUBYEAR > 2015 AND PUBYEAR < 2021\":\n"
     ]
    },
    {
     "name": "stderr",
     "output_type": "stream",
     "text": [
      "100%|██████████| 23/23 [00:20<00:00,  1.14it/s]\n"
     ]
    },
    {
     "name": "stdout",
     "output_type": "stream",
     "text": [
      "GREYC : Total :  546\n",
      "subtypeDescription\n",
      "Article             229\n",
      "Book Chapter          8\n",
      "Conference Paper    297\n",
      "Editorial             8\n",
      "Erratum               1\n",
      "Note                  1\n",
      "Review                1\n",
      "Name: eid, dtype: int64\n",
      "('G-SCOP', 60108255)\n",
      "Downloading results for query \"AF-ID(60108255) AND PUBYEAR > 2015 AND PUBYEAR < 2021\":\n"
     ]
    },
    {
     "name": "stderr",
     "output_type": "stream",
     "text": [
      "100%|██████████| 22/22 [00:18<00:00,  1.19it/s]\n"
     ]
    },
    {
     "name": "stdout",
     "output_type": "stream",
     "text": [
      "G-SCOP : Total :  516\n",
      "subtypeDescription\n",
      "Article             252\n",
      "Book Chapter          8\n",
      "Conference Paper    245\n",
      "Editorial             1\n",
      "Erratum               4\n",
      "Review                6\n",
      "Name: eid, dtype: int64\n",
      "('HEUDIASYC', 60160765)\n",
      "Downloading results for query \"AF-ID(60160765) AND PUBYEAR > 2015 AND PUBYEAR < 2021\":\n"
     ]
    },
    {
     "name": "stderr",
     "output_type": "stream",
     "text": [
      "100%|██████████| 28/28 [00:22<00:00,  1.23it/s]\n"
     ]
    },
    {
     "name": "stdout",
     "output_type": "stream",
     "text": [
      "HEUDIASYC : Total :  652\n",
      "subtypeDescription\n",
      "Article             251\n",
      "Book                  1\n",
      "Book Chapter         13\n",
      "Conference Paper    371\n",
      "Editorial             6\n",
      "Review               10\n",
      "Name: eid, dtype: int64\n",
      "('I3S', 60110719)\n",
      "Downloading results for query \"AF-ID(60110719) AND PUBYEAR > 2015 AND PUBYEAR < 2021\":\n"
     ]
    },
    {
     "name": "stderr",
     "output_type": "stream",
     "text": [
      "100%|██████████| 37/37 [00:33<00:00,  1.10it/s]\n"
     ]
    },
    {
     "name": "stdout",
     "output_type": "stream",
     "text": [
      "I3S : Total :  878\n",
      "subtypeDescription\n",
      "Article             292\n",
      "Book                  2\n",
      "Book Chapter         12\n",
      "Conference Paper    540\n",
      "Editorial            25\n",
      "Erratum               3\n",
      "Review                4\n",
      "Name: eid, dtype: int64\n",
      "('ICUBE', 60208831)\n",
      "Downloading results for query \"AF-ID(60208831) AND PUBYEAR > 2015 AND PUBYEAR < 2021\":\n"
     ]
    },
    {
     "name": "stderr",
     "output_type": "stream",
     "text": [
      "100%|██████████| 56/56 [00:55<00:00,  1.01it/s]\n"
     ]
    },
    {
     "name": "stdout",
     "output_type": "stream",
     "text": [
      "ICUBE : Total :  1357\n",
      "subtypeDescription\n",
      "Article             834\n",
      "Book                  1\n",
      "Book Chapter         18\n",
      "Conference Paper    412\n",
      "Editorial            12\n",
      "Erratum               6\n",
      "Letter               10\n",
      "Note                  6\n",
      "Review               42\n",
      "Short Survey         16\n",
      "Name: eid, dtype: int64\n",
      "('IDRIS', 60106146)\n",
      "Downloading results for query \"AF-ID(60106146) AND PUBYEAR > 2015 AND PUBYEAR < 2021\":\n"
     ]
    },
    {
     "name": "stderr",
     "output_type": "stream",
     "text": [
      "100%|██████████| 2/2 [00:00<00:00,  3.78it/s]\n"
     ]
    },
    {
     "name": "stdout",
     "output_type": "stream",
     "text": [
      "IDRIS : Total :  8\n",
      "subtypeDescription\n",
      "Article             5\n",
      "Conference Paper    2\n",
      "Review              1\n",
      "Name: eid, dtype: int64\n",
      "('IRIF', 60123660)\n",
      "Downloading results for query \"AF-ID(60123660) AND PUBYEAR > 2015 AND PUBYEAR < 2021\":\n"
     ]
    },
    {
     "name": "stderr",
     "output_type": "stream",
     "text": [
      "100%|██████████| 32/32 [00:26<00:00,  1.19it/s]\n"
     ]
    },
    {
     "name": "stdout",
     "output_type": "stream",
     "text": [
      "IRIF : Total :  768\n",
      "subtypeDescription\n",
      "Article             356\n",
      "Book Chapter          9\n",
      "Conference Paper    391\n",
      "Editorial             6\n",
      "Note                  1\n",
      "Review                5\n",
      "Name: eid, dtype: int64\n",
      "('IRISA', 60027031)\n",
      "Downloading results for query \"AF-ID(60027031) AND PUBYEAR > 2015 AND PUBYEAR < 2021\":\n"
     ]
    },
    {
     "name": "stderr",
     "output_type": "stream",
     "text": [
      "100%|██████████| 103/103 [01:38<00:00,  1.05it/s]\n"
     ]
    },
    {
     "name": "stdout",
     "output_type": "stream",
     "text": [
      "IRISA : Total :  2533\n",
      "subtypeDescription\n",
      "Article              779\n",
      "Book                   3\n",
      "Book Chapter          63\n",
      "Conference Paper    1581\n",
      "Data Paper             2\n",
      "Editorial             78\n",
      "Erratum                3\n",
      "Letter                 1\n",
      "Note                   2\n",
      "Review                19\n",
      "Short Survey           1\n",
      "Name: eid, dtype: int64\n",
      "('IRIT', 60030491)\n",
      "Downloading results for query \"AF-ID(60030491) AND PUBYEAR > 2015 AND PUBYEAR < 2021\":\n"
     ]
    },
    {
     "name": "stderr",
     "output_type": "stream",
     "text": [
      "100%|██████████| 100/100 [01:32<00:00,  1.08it/s]\n"
     ]
    },
    {
     "name": "stdout",
     "output_type": "stream",
     "text": [
      "IRIT : Total :  2458\n",
      "subtypeDescription\n",
      "Article              724\n",
      "Book                   1\n",
      "Book Chapter          49\n",
      "Conference Paper    1599\n",
      "Editorial             50\n",
      "Erratum                2\n",
      "Letter                 2\n",
      "Review                28\n",
      "Short Survey           3\n",
      "Name: eid, dtype: int64\n",
      "('L2S', 60007136)\n",
      "Downloading results for query \"AF-ID(60007136) AND PUBYEAR > 2015 AND PUBYEAR < 2021\":\n"
     ]
    },
    {
     "name": "stderr",
     "output_type": "stream",
     "text": [
      "100%|██████████| 76/76 [01:08<00:00,  1.12it/s]\n"
     ]
    },
    {
     "name": "stdout",
     "output_type": "stream",
     "text": [
      "L2S : Total :  1853\n",
      "subtypeDescription\n",
      "Article             797\n",
      "Book Chapter         27\n",
      "Conference Paper    996\n",
      "Data Paper            2\n",
      "Editorial            16\n",
      "Erratum               1\n",
      "Review               14\n",
      "Name: eid, dtype: int64\n",
      "('LAAS', 60005830)\n",
      "Downloading results for query \"AF-ID(60005830) AND PUBYEAR > 2015 AND PUBYEAR < 2021\":\n"
     ]
    },
    {
     "name": "stderr",
     "output_type": "stream",
     "text": [
      " 21%|██▏       | 3/14 [17:20<1:03:33, 346.67s/it]\n",
      "100%|██████████| 94/94 [01:24<00:00,  1.12it/s]\n"
     ]
    },
    {
     "name": "stdout",
     "output_type": "stream",
     "text": [
      "LAAS : Total :  2313\n",
      "subtypeDescription\n",
      "Article             1012\n",
      "Book                   3\n",
      "Book Chapter          58\n",
      "Conference Paper    1145\n",
      "Editorial             57\n",
      "Erratum                2\n",
      "Review                34\n",
      "Short Survey           1\n",
      "Name: eid, dtype: int64\n",
      "('LABRI', 60106845)\n",
      "Downloading results for query \"AF-ID(60106845) AND PUBYEAR > 2015 AND PUBYEAR < 2021\":\n"
     ]
    },
    {
     "name": "stderr",
     "output_type": "stream",
     "text": [
      "100%|██████████| 52/52 [00:48<00:00,  1.06it/s]\n"
     ]
    },
    {
     "name": "stdout",
     "output_type": "stream",
     "text": [
      "LABRI : Total :  1257\n",
      "subtypeDescription\n",
      "Article             512\n",
      "Book                  3\n",
      "Book Chapter         41\n",
      "Conference Paper    658\n",
      "Editorial            17\n",
      "Erratum               3\n",
      "Letter                3\n",
      "Note                  1\n",
      "Review               18\n",
      "Name: eid, dtype: int64\n",
      "('LAB-STICC', 60105670)\n",
      "Downloading results for query \"AF-ID(60105670) AND PUBYEAR > 2015 AND PUBYEAR < 2021\":\n"
     ]
    },
    {
     "name": "stderr",
     "output_type": "stream",
     "text": [
      "100%|██████████| 71/71 [01:05<00:00,  1.09it/s]\n"
     ]
    },
    {
     "name": "stdout",
     "output_type": "stream",
     "text": [
      "LAB-STICC : Total :  1735\n",
      "subtypeDescription\n",
      "Article              665\n",
      "Book                   1\n",
      "Book Chapter          20\n",
      "Conference Paper    1008\n",
      "Data Paper             3\n",
      "Editorial             13\n",
      "Erratum                3\n",
      "Letter                 2\n",
      "Note                   3\n",
      "Review                16\n",
      "Name: eid, dtype: int64\n",
      "('LAMIH', 60193405)\n",
      "Downloading results for query \"AF-ID(60193405) AND PUBYEAR > 2015 AND PUBYEAR < 2021\":\n"
     ]
    },
    {
     "name": "stderr",
     "output_type": "stream",
     "text": [
      "100%|██████████| 47/47 [00:41<00:00,  1.13it/s]\n"
     ]
    },
    {
     "name": "stdout",
     "output_type": "stream",
     "text": [
      "LAMIH : Total :  1137\n",
      "subtypeDescription\n",
      "Article             585\n",
      "Book Chapter         36\n",
      "Conference Paper    462\n",
      "Editorial            21\n",
      "Erratum               2\n",
      "Letter                6\n",
      "Note                  2\n",
      "Review               20\n",
      "Short Survey          2\n",
      "Name: eid, dtype: int64\n",
      "('LAMSADE', 60105740)\n",
      "Downloading results for query \"AF-ID(60105740) AND PUBYEAR > 2015 AND PUBYEAR < 2021\":\n"
     ]
    },
    {
     "name": "stderr",
     "output_type": "stream",
     "text": [
      "100%|██████████| 25/25 [00:20<00:00,  1.20it/s]\n"
     ]
    },
    {
     "name": "stdout",
     "output_type": "stream",
     "text": [
      "LAMSADE : Total :  576\n",
      "subtypeDescription\n",
      "Article             262\n",
      "Book                  2\n",
      "Book Chapter         16\n",
      "Conference Paper    272\n",
      "Editorial            14\n",
      "Note                  4\n",
      "Review                5\n",
      "Short Survey          1\n",
      "Name: eid, dtype: int64\n",
      "('LIG', 60108044)\n",
      "Downloading results for query \"AF-ID(60108044) AND PUBYEAR > 2015 AND PUBYEAR < 2021\":\n"
     ]
    },
    {
     "name": "stderr",
     "output_type": "stream",
     "text": [
      "100%|██████████| 51/51 [01:01<00:00,  1.21s/it]\n"
     ]
    },
    {
     "name": "stdout",
     "output_type": "stream",
     "text": [
      "LIG : Total :  1239\n",
      "subtypeDescription\n",
      "Article             303\n",
      "Book Chapter         23\n",
      "Conference Paper    876\n",
      "Editorial            26\n",
      "Erratum               1\n",
      "Review               10\n",
      "Name: eid, dtype: int64\n",
      "('LIGM', 60105097)\n",
      "Downloading results for query \"AF-ID(60105097) AND PUBYEAR > 2015 AND PUBYEAR < 2021\":\n"
     ]
    },
    {
     "name": "stderr",
     "output_type": "stream",
     "text": [
      "100%|██████████| 33/33 [00:29<00:00,  1.13it/s]\n"
     ]
    },
    {
     "name": "stdout",
     "output_type": "stream",
     "text": [
      "LIGM : Total :  778\n",
      "subtypeDescription\n",
      "Article             312\n",
      "Book                  1\n",
      "Book Chapter         18\n",
      "Conference Paper    434\n",
      "Editorial             9\n",
      "Review                3\n",
      "Name: eid, dtype: int64\n",
      "('LIMOS', 60121963)\n",
      "Downloading results for query \"AF-ID(60121963) AND PUBYEAR > 2015 AND PUBYEAR < 2021\":\n"
     ]
    },
    {
     "name": "stderr",
     "output_type": "stream",
     "text": [
      "100%|██████████| 25/25 [00:20<00:00,  1.24it/s]\n"
     ]
    },
    {
     "name": "stdout",
     "output_type": "stream",
     "text": [
      "LIMOS : Total :  576\n",
      "subtypeDescription\n",
      "Article             265\n",
      "Book                  1\n",
      "Book Chapter         13\n",
      "Conference Paper    284\n",
      "Editorial             4\n",
      "Review                9\n",
      "Name: eid, dtype: int64\n",
      "('LIP', 60111070)\n",
      "Downloading results for query \"AF-ID(60111070) AND PUBYEAR > 2015 AND PUBYEAR < 2021\":\n"
     ]
    },
    {
     "name": "stderr",
     "output_type": "stream",
     "text": [
      "100%|██████████| 6/6 [00:04<00:00,  1.35it/s]\n"
     ]
    },
    {
     "name": "stdout",
     "output_type": "stream",
     "text": [
      "LIP : Total :  111\n",
      "subtypeDescription\n",
      "Article             31\n",
      "Book Chapter         1\n",
      "Conference Paper    75\n",
      "Review               3\n",
      "Short Survey         1\n",
      "Name: eid, dtype: int64\n",
      "('LIP6', 60112307)\n",
      "Downloading results for query \"AF-ID(60112307) AND PUBYEAR > 2015 AND PUBYEAR < 2021\":\n"
     ]
    },
    {
     "name": "stderr",
     "output_type": "stream",
     "text": [
      "100%|██████████| 79/79 [01:14<00:00,  1.07it/s]\n"
     ]
    },
    {
     "name": "stdout",
     "output_type": "stream",
     "text": [
      "LIP6 : Total :  1931\n",
      "subtypeDescription\n",
      "Article              624\n",
      "Book Chapter          45\n",
      "Conference Paper    1201\n",
      "Editorial             40\n",
      "Erratum                4\n",
      "Note                   5\n",
      "Review                10\n",
      "Short Survey           1\n",
      "Name: eid, dtype: int64\n",
      "('LIPN', 60101355)\n",
      "Downloading results for query \"AF-ID(60101355) AND PUBYEAR > 2015 AND PUBYEAR < 2021\":\n"
     ]
    },
    {
     "name": "stderr",
     "output_type": "stream",
     "text": [
      "100%|██████████| 6/6 [00:03<00:00,  1.65it/s]\n"
     ]
    },
    {
     "name": "stdout",
     "output_type": "stream",
     "text": [
      "LIPN : Total :  115\n",
      "subtypeDescription\n",
      "Article             53\n",
      "Book Chapter         1\n",
      "Conference Paper    57\n",
      "Editorial            2\n",
      "Review               2\n",
      "Name: eid, dtype: int64\n",
      "('LIRIS', 60108341)\n",
      "Downloading results for query \"AF-ID(60108341) AND PUBYEAR > 2015 AND PUBYEAR < 2021\":\n"
     ]
    },
    {
     "name": "stderr",
     "output_type": "stream",
     "text": [
      "100%|██████████| 44/44 [00:42<00:00,  1.02it/s]\n"
     ]
    },
    {
     "name": "stdout",
     "output_type": "stream",
     "text": [
      "LIRIS : Total :  1073\n",
      "subtypeDescription\n",
      "Article             377\n",
      "Book Chapter         19\n",
      "Conference Paper    631\n",
      "Editorial            26\n",
      "Erratum               4\n",
      "Review               14\n",
      "Name: eid, dtype: int64\n",
      "('LIRMM', 60007853)\n",
      "Downloading results for query \"AF-ID(60007853) AND PUBYEAR > 2015 AND PUBYEAR < 2021\":\n"
     ]
    },
    {
     "name": "stderr",
     "output_type": "stream",
     "text": [
      "100%|██████████| 79/79 [01:15<00:00,  1.04it/s]\n"
     ]
    },
    {
     "name": "stdout",
     "output_type": "stream",
     "text": [
      "LIRMM : Total :  1932\n",
      "subtypeDescription\n",
      "Article             811\n",
      "Book                  4\n",
      "Book Chapter         52\n",
      "Conference Paper    989\n",
      "Data Paper            1\n",
      "Editorial            46\n",
      "Erratum               2\n",
      "Letter                6\n",
      "Note                  1\n",
      "Review               17\n",
      "Short Survey          2\n",
      "Name: eid, dtype: int64\n",
      "('LIS', 60210090)\n",
      "Downloading results for query \"AF-ID(60210090) AND PUBYEAR > 2015 AND PUBYEAR < 2021\":\n"
     ]
    },
    {
     "name": "stderr",
     "output_type": "stream",
     "text": [
      "100%|██████████| 55/55 [00:54<00:00,  1.00it/s]\n"
     ]
    },
    {
     "name": "stdout",
     "output_type": "stream",
     "text": [
      "LIS : Total :  1327\n",
      "subtypeDescription\n",
      "Article             547\n",
      "Book                  2\n",
      "Book Chapter         37\n",
      "Conference Paper    722\n",
      "Editorial             5\n",
      "Erratum               3\n",
      "Letter                2\n",
      "Review                8\n",
      "Name: eid, dtype: int64\n",
      "('LIMSI', 60032709)\n",
      "Downloading results for query \"AF-ID(60032709) AND PUBYEAR > 2015 AND PUBYEAR < 2021\":\n"
     ]
    },
    {
     "name": "stderr",
     "output_type": "stream",
     "text": [
      "100%|██████████| 34/34 [00:29<00:00,  1.16it/s]\n"
     ]
    },
    {
     "name": "stdout",
     "output_type": "stream",
     "text": [
      "LIMSI : Total :  812\n",
      "subtypeDescription\n",
      "Article             347\n",
      "Book                  1\n",
      "Book Chapter         22\n",
      "Conference Paper    407\n",
      "Editorial            16\n",
      "Letter                4\n",
      "Review               13\n",
      "Short Survey          2\n",
      "Name: eid, dtype: int64\n",
      "('LRI', 60106208)\n",
      "Downloading results for query \"AF-ID(60106208) AND PUBYEAR > 2015 AND PUBYEAR < 2021\":\n"
     ]
    },
    {
     "name": "stderr",
     "output_type": "stream",
     "text": [
      "100%|██████████| 37/37 [00:32<00:00,  1.14it/s]\n"
     ]
    },
    {
     "name": "stdout",
     "output_type": "stream",
     "text": [
      "LRI : Total :  883\n",
      "subtypeDescription\n",
      "Article             336\n",
      "Book                  2\n",
      "Book Chapter         11\n",
      "Conference Paper    515\n",
      "Editorial             7\n",
      "Erratum               1\n",
      "Review               10\n",
      "Name: eid, dtype: int64\n",
      "('LIX', 60028952)\n",
      "Downloading results for query \"AF-ID(60028952) AND PUBYEAR > 2015 AND PUBYEAR < 2021\":\n"
     ]
    },
    {
     "name": "stderr",
     "output_type": "stream",
     "text": [
      "100%|██████████| 31/31 [00:25<00:00,  1.21it/s]\n"
     ]
    },
    {
     "name": "stdout",
     "output_type": "stream",
     "text": [
      "LIX : Total :  748\n",
      "subtypeDescription\n",
      "Article             324\n",
      "Book                  1\n",
      "Book Chapter         38\n",
      "Conference Paper    363\n",
      "Editorial            13\n",
      "Erratum               2\n",
      "Note                  1\n",
      "Review                6\n",
      "Name: eid, dtype: int64\n",
      "('LORIA', 60028850)\n",
      "Downloading results for query \"AF-ID(60028850) AND PUBYEAR > 2015 AND PUBYEAR < 2021\":\n"
     ]
    },
    {
     "name": "stderr",
     "output_type": "stream",
     "text": [
      "100%|██████████| 61/61 [01:00<00:00,  1.01it/s]\n"
     ]
    },
    {
     "name": "stdout",
     "output_type": "stream",
     "text": [
      "LORIA : Total :  1488\n",
      "subtypeDescription\n",
      "Article             472\n",
      "Book                  3\n",
      "Book Chapter         51\n",
      "Conference Paper    897\n",
      "Data Paper            1\n",
      "Editorial            43\n",
      "Erratum               2\n",
      "Letter                1\n",
      "Note                  1\n",
      "Review               16\n",
      "Short Survey          1\n",
      "Name: eid, dtype: int64\n",
      "('LS2N', 60110511)\n",
      "Downloading results for query \"AF-ID(60110511) AND PUBYEAR > 2015 AND PUBYEAR < 2021\":\n"
     ]
    },
    {
     "name": "stderr",
     "output_type": "stream",
     "text": [
      "100%|██████████| 80/80 [01:11<00:00,  1.12it/s]\n"
     ]
    },
    {
     "name": "stdout",
     "output_type": "stream",
     "text": [
      "LS2N : Total :  1975\n",
      "subtypeDescription\n",
      "Article              781\n",
      "Book                   1\n",
      "Book Chapter          71\n",
      "Conference Paper    1063\n",
      "Editorial             29\n",
      "Erratum                2\n",
      "Letter                 1\n",
      "Retracted              1\n",
      "Review                25\n",
      "Short Survey           1\n",
      "Name: eid, dtype: int64\n",
      "('LSV', 60105997)\n",
      "Downloading results for query \"AF-ID(60105997) AND PUBYEAR > 2015 AND PUBYEAR < 2021\":\n"
     ]
    },
    {
     "name": "stderr",
     "output_type": "stream",
     "text": [
      "100%|██████████| 17/17 [00:14<00:00,  1.16it/s]\n"
     ]
    },
    {
     "name": "stdout",
     "output_type": "stream",
     "text": [
      "LSV : Total :  378\n",
      "subtypeDescription\n",
      "Article             119\n",
      "Book Chapter         12\n",
      "Conference Paper    236\n",
      "Editorial             7\n",
      "Erratum               2\n",
      "Review                1\n",
      "Name: eid, dtype: int64\n",
      "('STMS', 60158039)\n",
      "Downloading results for query \"AF-ID(60158039) AND PUBYEAR > 2015 AND PUBYEAR < 2021\":\n"
     ]
    },
    {
     "name": "stderr",
     "output_type": "stream",
     "text": [
      "100%|██████████| 10/10 [00:08<00:00,  1.21it/s]\n"
     ]
    },
    {
     "name": "stdout",
     "output_type": "stream",
     "text": [
      "STMS : Total :  223\n",
      "subtypeDescription\n",
      "Article              94\n",
      "Book Chapter          4\n",
      "Conference Paper    116\n",
      "Editorial             2\n",
      "Letter                2\n",
      "Review                5\n",
      "Name: eid, dtype: int64\n",
      "('TIMA', 60003462)\n",
      "Downloading results for query \"AF-ID(60003462) AND PUBYEAR > 2015 AND PUBYEAR < 2021\":\n"
     ]
    },
    {
     "name": "stderr",
     "output_type": "stream",
     "text": [
      "100%|██████████| 17/17 [00:13<00:00,  1.27it/s]\n"
     ]
    },
    {
     "name": "stdout",
     "output_type": "stream",
     "text": [
      "TIMA : Total :  399\n",
      "subtypeDescription\n",
      "Article             112\n",
      "Book                  2\n",
      "Book Chapter          8\n",
      "Conference Paper    267\n",
      "Editorial             7\n",
      "Review                3\n",
      "Name: eid, dtype: int64\n",
      "('TIMC IMAG', 60108275)\n",
      "Downloading results for query \"AF-ID(60108275) AND PUBYEAR > 2015 AND PUBYEAR < 2021\":\n"
     ]
    },
    {
     "name": "stderr",
     "output_type": "stream",
     "text": [
      "100%|██████████| 37/37 [00:36<00:00,  1.03it/s]\n"
     ]
    },
    {
     "name": "stdout",
     "output_type": "stream",
     "text": [
      "TIMC IMAG : Total :  897\n",
      "subtypeDescription\n",
      "Article             677\n",
      "Book                  1\n",
      "Book Chapter         20\n",
      "Conference Paper     69\n",
      "Editorial             8\n",
      "Erratum               2\n",
      "Letter               46\n",
      "Note                  8\n",
      "Review               48\n",
      "Short Survey         18\n",
      "Name: eid, dtype: int64\n",
      "('VERIMAG', 60030409)\n",
      "Downloading results for query \"AF-ID(60030409) AND PUBYEAR > 2015 AND PUBYEAR < 2021\":\n"
     ]
    },
    {
     "name": "stderr",
     "output_type": "stream",
     "text": [
      "100%|██████████| 14/14 [00:11<00:00,  1.26it/s]"
     ]
    },
    {
     "name": "stdout",
     "output_type": "stream",
     "text": [
      "VERIMAG : Total :  324\n",
      "subtypeDescription\n",
      "Article             120\n",
      "Book Chapter         14\n",
      "Conference Paper    181\n",
      "Editorial             5\n",
      "Erratum               1\n",
      "Letter                1\n",
      "Review                2\n",
      "Name: eid, dtype: int64\n",
      "Total labo =  42286\n"
     ]
    },
    {
     "name": "stderr",
     "output_type": "stream",
     "text": [
      "\n"
     ]
    }
   ],
   "source": [
    "#Interrogation par AF-ID\n",
    "total = 0\n",
    "for labo in labID:\n",
    "    print(labo)\n",
    "    query='AF-ID('+str(labo[1])+') AND PUBYEAR > 2015 AND PUBYEAR < 2021'\n",
    "    #print (query)\n",
    "    li = ScopusSearch(query, verbose=True, download=True, subscriber=False)\n",
    "    print(labo[0], \": Total : \", li.get_results_size())\n",
    "    total += li.get_results_size()\n",
    "    #print(li.results)\n",
    "    df = pd.DataFrame(pd.DataFrame(li.results))\n",
    "    df.to_csv(\"Scopus/\"+labo[0]+'.csv')\n",
    "    print(df.groupby('subtypeDescription')['eid'].nunique())\n",
    "print (\"Total labo = \", total)"
   ],
   "metadata": {
    "collapsed": false,
    "pycharm": {
     "name": "#%%\n"
    }
   }
  },
  {
   "cell_type": "code",
   "execution_count": 62,
   "outputs": [],
   "source": [
    "def initStatsLabo ():\n",
    "    npPublisLabo = list()\n",
    "    for labo in labID:\n",
    "        npPublisLabo.append({\"nom\":labo[0]})\n",
    "    #print(npPublisLabo)\n",
    "    global statsLabo\n",
    "    statsLabo = pd.DataFrame(npPublisLabo)\n",
    "    statsLabo.set_index('nom',inplace=True)\n",
    "    statsLabo[\"Total\"]=0\n",
    "    statsLabo[\"Article\"]=0\n",
    "    statsLabo[\"Conference Paper\"]=0\n",
    "    statsLabo[\"Book\"]=0\n",
    "    statsLabo[\"Book Chapter\"]=0\n",
    "    statsLabo[\"Data Paper\"]=0\n",
    "    statsLabo[\"Editorial\"]=0\n",
    "    statsLabo[\"Erratum\"]=0\n",
    "    statsLabo[\"Letter\"]=0\n",
    "    statsLabo[\"Review\"]=0\n",
    "    statsLabo[\"Short Survey\"]=0\n",
    "    statsLabo[\"Note\"]=0\n",
    "    statsLabo[\"Retracted\"]=0"
   ],
   "metadata": {
    "collapsed": false,
    "pycharm": {
     "name": "#%%\n"
    }
   }
  },
  {
   "cell_type": "code",
   "execution_count": 66,
   "outputs": [
    {
     "data": {
      "text/plain": "           Total  Article  Conference Paper  Book  Book Chapter  Data Paper  \\\nnom                                                                           \nCMP           47       35                10     0             1           0   \nCRAN        1303      607               548     2            49           0   \nCREATIS      869      524               273     0             7           0   \nCRIL         322       51               260     1             2           0   \nCRISTAL     1583      630               863     0            41           1   \nDI ENS       242       82               151     0             1           0   \nETIS         432      152               267     0             4           0   \nGIPSA-Lab   1692      764               822     1            64           0   \nGREYC        546      229               297     0             8           0   \nG-SCOP       516      252               245     0             8           0   \nHEUDIASYC    652      251               371     1            13           0   \nI3S          878      292               540     2            12           0   \nICUBE       1357      834               412     1            18           0   \nIDRIS          8        5                 2     0             0           0   \nIRIF         768      356               391     0             9           0   \nIRISA       2533      779              1581     3            63           2   \nIRIT        2458      724              1599     1            49           0   \nL2S         1853      797               996     0            27           2   \nLAAS        2313     1012              1145     3            58           0   \nLABRI       1257      512               658     3            41           0   \nLAB-STICC   1735      665              1008     1            20           3   \nLAMIH       1137      585               462     0            36           0   \nLAMSADE      576      262               272     2            16           0   \nLIG         1239      303               876     0            23           0   \nLIGM         778      312               434     1            18           0   \nLIMOS        576      265               284     1            13           0   \nLIP          111       31                75     0             1           0   \nLIP6        1931      624              1201     0            45           0   \nLIPN         115       53                57     0             1           0   \nLIRIS       1073      377               631     0            19           0   \nLIRMM       1932      811               989     4            52           1   \nLIS         1327      547               722     2            37           0   \nLIMSI        812      347               407     1            22           0   \nLRI          883      336               515     2            11           0   \nLIX          748      324               363     1            38           0   \nLORIA       1488      472               897     3            51           1   \nLS2N        1975      781              1063     1            71           0   \nLSV          378      119               236     0            12           0   \nSTMS         223       94               116     0             4           0   \nTIMA         399      112               267     2             8           0   \nTIMC IMAG    897      677                69     1            20           0   \nVERIMAG      324      120               181     0            14           0   \n\n           Editorial  Erratum  Letter  Review  Short Survey  Note  Retracted  \nnom                                                                           \nCMP                0        0       0       1             0     0          0  \nCRAN              22        6       7      52             6     4          0  \nCREATIS            8        3      14      24            10     3          3  \nCRIL               6        0       0       2             0     0          0  \nCRISTAL           17        3       2      12             9     4          1  \nDI ENS             4        3       0       1             0     0          0  \nETIS               3        1       0       4             0     1          0  \nGIPSA-Lab         13        2       2      18             3     3          0  \nGREYC              8        1       0       1             0     1          0  \nG-SCOP             1        4       0       6             0     0          0  \nHEUDIASYC          6        0       0      10             0     0          0  \nI3S               25        3       0       4             0     0          0  \nICUBE             12        6      10      42            16     6          0  \nIDRIS              0        0       0       1             0     0          0  \nIRIF               6        0       0       5             0     1          0  \nIRISA             78        3       1      19             1     2          0  \nIRIT              50        2       2      28             3     0          0  \nL2S               16        1       0      14             0     0          0  \nLAAS              57        2       0      34             1     0          0  \nLABRI             17        3       3      18             0     1          0  \nLAB-STICC         13        3       2      16             0     3          0  \nLAMIH             21        2       6      20             2     2          0  \nLAMSADE           14        0       0       5             1     4          0  \nLIG               26        1       0      10             0     0          0  \nLIGM               9        0       0       3             0     0          0  \nLIMOS              4        0       0       9             0     0          0  \nLIP                0        0       0       3             1     0          0  \nLIP6              40        4       0      10             1     5          0  \nLIPN               2        0       0       2             0     0          0  \nLIRIS             26        4       0      14             0     0          0  \nLIRMM             46        2       6      17             2     1          0  \nLIS                5        3       2       8             0     0          0  \nLIMSI             16        0       4      13             2     0          0  \nLRI                7        1       0      10             0     0          0  \nLIX               13        2       0       6             0     1          0  \nLORIA             43        2       1      16             1     1          0  \nLS2N              29        2       1      25             1     0          1  \nLSV                7        2       0       1             0     0          0  \nSTMS               2        0       2       5             0     0          0  \nTIMA               7        0       0       3             0     0          0  \nTIMC IMAG          8        2      46      48            18     8          0  \nVERIMAG            5        1       1       2             0     0          0  ",
      "text/html": "<div>\n<style scoped>\n    .dataframe tbody tr th:only-of-type {\n        vertical-align: middle;\n    }\n\n    .dataframe tbody tr th {\n        vertical-align: top;\n    }\n\n    .dataframe thead th {\n        text-align: right;\n    }\n</style>\n<table border=\"1\" class=\"dataframe\">\n  <thead>\n    <tr style=\"text-align: right;\">\n      <th></th>\n      <th>Total</th>\n      <th>Article</th>\n      <th>Conference Paper</th>\n      <th>Book</th>\n      <th>Book Chapter</th>\n      <th>Data Paper</th>\n      <th>Editorial</th>\n      <th>Erratum</th>\n      <th>Letter</th>\n      <th>Review</th>\n      <th>Short Survey</th>\n      <th>Note</th>\n      <th>Retracted</th>\n    </tr>\n    <tr>\n      <th>nom</th>\n      <th></th>\n      <th></th>\n      <th></th>\n      <th></th>\n      <th></th>\n      <th></th>\n      <th></th>\n      <th></th>\n      <th></th>\n      <th></th>\n      <th></th>\n      <th></th>\n      <th></th>\n    </tr>\n  </thead>\n  <tbody>\n    <tr>\n      <th>CMP</th>\n      <td>47</td>\n      <td>35</td>\n      <td>10</td>\n      <td>0</td>\n      <td>1</td>\n      <td>0</td>\n      <td>0</td>\n      <td>0</td>\n      <td>0</td>\n      <td>1</td>\n      <td>0</td>\n      <td>0</td>\n      <td>0</td>\n    </tr>\n    <tr>\n      <th>CRAN</th>\n      <td>1303</td>\n      <td>607</td>\n      <td>548</td>\n      <td>2</td>\n      <td>49</td>\n      <td>0</td>\n      <td>22</td>\n      <td>6</td>\n      <td>7</td>\n      <td>52</td>\n      <td>6</td>\n      <td>4</td>\n      <td>0</td>\n    </tr>\n    <tr>\n      <th>CREATIS</th>\n      <td>869</td>\n      <td>524</td>\n      <td>273</td>\n      <td>0</td>\n      <td>7</td>\n      <td>0</td>\n      <td>8</td>\n      <td>3</td>\n      <td>14</td>\n      <td>24</td>\n      <td>10</td>\n      <td>3</td>\n      <td>3</td>\n    </tr>\n    <tr>\n      <th>CRIL</th>\n      <td>322</td>\n      <td>51</td>\n      <td>260</td>\n      <td>1</td>\n      <td>2</td>\n      <td>0</td>\n      <td>6</td>\n      <td>0</td>\n      <td>0</td>\n      <td>2</td>\n      <td>0</td>\n      <td>0</td>\n      <td>0</td>\n    </tr>\n    <tr>\n      <th>CRISTAL</th>\n      <td>1583</td>\n      <td>630</td>\n      <td>863</td>\n      <td>0</td>\n      <td>41</td>\n      <td>1</td>\n      <td>17</td>\n      <td>3</td>\n      <td>2</td>\n      <td>12</td>\n      <td>9</td>\n      <td>4</td>\n      <td>1</td>\n    </tr>\n    <tr>\n      <th>DI ENS</th>\n      <td>242</td>\n      <td>82</td>\n      <td>151</td>\n      <td>0</td>\n      <td>1</td>\n      <td>0</td>\n      <td>4</td>\n      <td>3</td>\n      <td>0</td>\n      <td>1</td>\n      <td>0</td>\n      <td>0</td>\n      <td>0</td>\n    </tr>\n    <tr>\n      <th>ETIS</th>\n      <td>432</td>\n      <td>152</td>\n      <td>267</td>\n      <td>0</td>\n      <td>4</td>\n      <td>0</td>\n      <td>3</td>\n      <td>1</td>\n      <td>0</td>\n      <td>4</td>\n      <td>0</td>\n      <td>1</td>\n      <td>0</td>\n    </tr>\n    <tr>\n      <th>GIPSA-Lab</th>\n      <td>1692</td>\n      <td>764</td>\n      <td>822</td>\n      <td>1</td>\n      <td>64</td>\n      <td>0</td>\n      <td>13</td>\n      <td>2</td>\n      <td>2</td>\n      <td>18</td>\n      <td>3</td>\n      <td>3</td>\n      <td>0</td>\n    </tr>\n    <tr>\n      <th>GREYC</th>\n      <td>546</td>\n      <td>229</td>\n      <td>297</td>\n      <td>0</td>\n      <td>8</td>\n      <td>0</td>\n      <td>8</td>\n      <td>1</td>\n      <td>0</td>\n      <td>1</td>\n      <td>0</td>\n      <td>1</td>\n      <td>0</td>\n    </tr>\n    <tr>\n      <th>G-SCOP</th>\n      <td>516</td>\n      <td>252</td>\n      <td>245</td>\n      <td>0</td>\n      <td>8</td>\n      <td>0</td>\n      <td>1</td>\n      <td>4</td>\n      <td>0</td>\n      <td>6</td>\n      <td>0</td>\n      <td>0</td>\n      <td>0</td>\n    </tr>\n    <tr>\n      <th>HEUDIASYC</th>\n      <td>652</td>\n      <td>251</td>\n      <td>371</td>\n      <td>1</td>\n      <td>13</td>\n      <td>0</td>\n      <td>6</td>\n      <td>0</td>\n      <td>0</td>\n      <td>10</td>\n      <td>0</td>\n      <td>0</td>\n      <td>0</td>\n    </tr>\n    <tr>\n      <th>I3S</th>\n      <td>878</td>\n      <td>292</td>\n      <td>540</td>\n      <td>2</td>\n      <td>12</td>\n      <td>0</td>\n      <td>25</td>\n      <td>3</td>\n      <td>0</td>\n      <td>4</td>\n      <td>0</td>\n      <td>0</td>\n      <td>0</td>\n    </tr>\n    <tr>\n      <th>ICUBE</th>\n      <td>1357</td>\n      <td>834</td>\n      <td>412</td>\n      <td>1</td>\n      <td>18</td>\n      <td>0</td>\n      <td>12</td>\n      <td>6</td>\n      <td>10</td>\n      <td>42</td>\n      <td>16</td>\n      <td>6</td>\n      <td>0</td>\n    </tr>\n    <tr>\n      <th>IDRIS</th>\n      <td>8</td>\n      <td>5</td>\n      <td>2</td>\n      <td>0</td>\n      <td>0</td>\n      <td>0</td>\n      <td>0</td>\n      <td>0</td>\n      <td>0</td>\n      <td>1</td>\n      <td>0</td>\n      <td>0</td>\n      <td>0</td>\n    </tr>\n    <tr>\n      <th>IRIF</th>\n      <td>768</td>\n      <td>356</td>\n      <td>391</td>\n      <td>0</td>\n      <td>9</td>\n      <td>0</td>\n      <td>6</td>\n      <td>0</td>\n      <td>0</td>\n      <td>5</td>\n      <td>0</td>\n      <td>1</td>\n      <td>0</td>\n    </tr>\n    <tr>\n      <th>IRISA</th>\n      <td>2533</td>\n      <td>779</td>\n      <td>1581</td>\n      <td>3</td>\n      <td>63</td>\n      <td>2</td>\n      <td>78</td>\n      <td>3</td>\n      <td>1</td>\n      <td>19</td>\n      <td>1</td>\n      <td>2</td>\n      <td>0</td>\n    </tr>\n    <tr>\n      <th>IRIT</th>\n      <td>2458</td>\n      <td>724</td>\n      <td>1599</td>\n      <td>1</td>\n      <td>49</td>\n      <td>0</td>\n      <td>50</td>\n      <td>2</td>\n      <td>2</td>\n      <td>28</td>\n      <td>3</td>\n      <td>0</td>\n      <td>0</td>\n    </tr>\n    <tr>\n      <th>L2S</th>\n      <td>1853</td>\n      <td>797</td>\n      <td>996</td>\n      <td>0</td>\n      <td>27</td>\n      <td>2</td>\n      <td>16</td>\n      <td>1</td>\n      <td>0</td>\n      <td>14</td>\n      <td>0</td>\n      <td>0</td>\n      <td>0</td>\n    </tr>\n    <tr>\n      <th>LAAS</th>\n      <td>2313</td>\n      <td>1012</td>\n      <td>1145</td>\n      <td>3</td>\n      <td>58</td>\n      <td>0</td>\n      <td>57</td>\n      <td>2</td>\n      <td>0</td>\n      <td>34</td>\n      <td>1</td>\n      <td>0</td>\n      <td>0</td>\n    </tr>\n    <tr>\n      <th>LABRI</th>\n      <td>1257</td>\n      <td>512</td>\n      <td>658</td>\n      <td>3</td>\n      <td>41</td>\n      <td>0</td>\n      <td>17</td>\n      <td>3</td>\n      <td>3</td>\n      <td>18</td>\n      <td>0</td>\n      <td>1</td>\n      <td>0</td>\n    </tr>\n    <tr>\n      <th>LAB-STICC</th>\n      <td>1735</td>\n      <td>665</td>\n      <td>1008</td>\n      <td>1</td>\n      <td>20</td>\n      <td>3</td>\n      <td>13</td>\n      <td>3</td>\n      <td>2</td>\n      <td>16</td>\n      <td>0</td>\n      <td>3</td>\n      <td>0</td>\n    </tr>\n    <tr>\n      <th>LAMIH</th>\n      <td>1137</td>\n      <td>585</td>\n      <td>462</td>\n      <td>0</td>\n      <td>36</td>\n      <td>0</td>\n      <td>21</td>\n      <td>2</td>\n      <td>6</td>\n      <td>20</td>\n      <td>2</td>\n      <td>2</td>\n      <td>0</td>\n    </tr>\n    <tr>\n      <th>LAMSADE</th>\n      <td>576</td>\n      <td>262</td>\n      <td>272</td>\n      <td>2</td>\n      <td>16</td>\n      <td>0</td>\n      <td>14</td>\n      <td>0</td>\n      <td>0</td>\n      <td>5</td>\n      <td>1</td>\n      <td>4</td>\n      <td>0</td>\n    </tr>\n    <tr>\n      <th>LIG</th>\n      <td>1239</td>\n      <td>303</td>\n      <td>876</td>\n      <td>0</td>\n      <td>23</td>\n      <td>0</td>\n      <td>26</td>\n      <td>1</td>\n      <td>0</td>\n      <td>10</td>\n      <td>0</td>\n      <td>0</td>\n      <td>0</td>\n    </tr>\n    <tr>\n      <th>LIGM</th>\n      <td>778</td>\n      <td>312</td>\n      <td>434</td>\n      <td>1</td>\n      <td>18</td>\n      <td>0</td>\n      <td>9</td>\n      <td>0</td>\n      <td>0</td>\n      <td>3</td>\n      <td>0</td>\n      <td>0</td>\n      <td>0</td>\n    </tr>\n    <tr>\n      <th>LIMOS</th>\n      <td>576</td>\n      <td>265</td>\n      <td>284</td>\n      <td>1</td>\n      <td>13</td>\n      <td>0</td>\n      <td>4</td>\n      <td>0</td>\n      <td>0</td>\n      <td>9</td>\n      <td>0</td>\n      <td>0</td>\n      <td>0</td>\n    </tr>\n    <tr>\n      <th>LIP</th>\n      <td>111</td>\n      <td>31</td>\n      <td>75</td>\n      <td>0</td>\n      <td>1</td>\n      <td>0</td>\n      <td>0</td>\n      <td>0</td>\n      <td>0</td>\n      <td>3</td>\n      <td>1</td>\n      <td>0</td>\n      <td>0</td>\n    </tr>\n    <tr>\n      <th>LIP6</th>\n      <td>1931</td>\n      <td>624</td>\n      <td>1201</td>\n      <td>0</td>\n      <td>45</td>\n      <td>0</td>\n      <td>40</td>\n      <td>4</td>\n      <td>0</td>\n      <td>10</td>\n      <td>1</td>\n      <td>5</td>\n      <td>0</td>\n    </tr>\n    <tr>\n      <th>LIPN</th>\n      <td>115</td>\n      <td>53</td>\n      <td>57</td>\n      <td>0</td>\n      <td>1</td>\n      <td>0</td>\n      <td>2</td>\n      <td>0</td>\n      <td>0</td>\n      <td>2</td>\n      <td>0</td>\n      <td>0</td>\n      <td>0</td>\n    </tr>\n    <tr>\n      <th>LIRIS</th>\n      <td>1073</td>\n      <td>377</td>\n      <td>631</td>\n      <td>0</td>\n      <td>19</td>\n      <td>0</td>\n      <td>26</td>\n      <td>4</td>\n      <td>0</td>\n      <td>14</td>\n      <td>0</td>\n      <td>0</td>\n      <td>0</td>\n    </tr>\n    <tr>\n      <th>LIRMM</th>\n      <td>1932</td>\n      <td>811</td>\n      <td>989</td>\n      <td>4</td>\n      <td>52</td>\n      <td>1</td>\n      <td>46</td>\n      <td>2</td>\n      <td>6</td>\n      <td>17</td>\n      <td>2</td>\n      <td>1</td>\n      <td>0</td>\n    </tr>\n    <tr>\n      <th>LIS</th>\n      <td>1327</td>\n      <td>547</td>\n      <td>722</td>\n      <td>2</td>\n      <td>37</td>\n      <td>0</td>\n      <td>5</td>\n      <td>3</td>\n      <td>2</td>\n      <td>8</td>\n      <td>0</td>\n      <td>0</td>\n      <td>0</td>\n    </tr>\n    <tr>\n      <th>LIMSI</th>\n      <td>812</td>\n      <td>347</td>\n      <td>407</td>\n      <td>1</td>\n      <td>22</td>\n      <td>0</td>\n      <td>16</td>\n      <td>0</td>\n      <td>4</td>\n      <td>13</td>\n      <td>2</td>\n      <td>0</td>\n      <td>0</td>\n    </tr>\n    <tr>\n      <th>LRI</th>\n      <td>883</td>\n      <td>336</td>\n      <td>515</td>\n      <td>2</td>\n      <td>11</td>\n      <td>0</td>\n      <td>7</td>\n      <td>1</td>\n      <td>0</td>\n      <td>10</td>\n      <td>0</td>\n      <td>0</td>\n      <td>0</td>\n    </tr>\n    <tr>\n      <th>LIX</th>\n      <td>748</td>\n      <td>324</td>\n      <td>363</td>\n      <td>1</td>\n      <td>38</td>\n      <td>0</td>\n      <td>13</td>\n      <td>2</td>\n      <td>0</td>\n      <td>6</td>\n      <td>0</td>\n      <td>1</td>\n      <td>0</td>\n    </tr>\n    <tr>\n      <th>LORIA</th>\n      <td>1488</td>\n      <td>472</td>\n      <td>897</td>\n      <td>3</td>\n      <td>51</td>\n      <td>1</td>\n      <td>43</td>\n      <td>2</td>\n      <td>1</td>\n      <td>16</td>\n      <td>1</td>\n      <td>1</td>\n      <td>0</td>\n    </tr>\n    <tr>\n      <th>LS2N</th>\n      <td>1975</td>\n      <td>781</td>\n      <td>1063</td>\n      <td>1</td>\n      <td>71</td>\n      <td>0</td>\n      <td>29</td>\n      <td>2</td>\n      <td>1</td>\n      <td>25</td>\n      <td>1</td>\n      <td>0</td>\n      <td>1</td>\n    </tr>\n    <tr>\n      <th>LSV</th>\n      <td>378</td>\n      <td>119</td>\n      <td>236</td>\n      <td>0</td>\n      <td>12</td>\n      <td>0</td>\n      <td>7</td>\n      <td>2</td>\n      <td>0</td>\n      <td>1</td>\n      <td>0</td>\n      <td>0</td>\n      <td>0</td>\n    </tr>\n    <tr>\n      <th>STMS</th>\n      <td>223</td>\n      <td>94</td>\n      <td>116</td>\n      <td>0</td>\n      <td>4</td>\n      <td>0</td>\n      <td>2</td>\n      <td>0</td>\n      <td>2</td>\n      <td>5</td>\n      <td>0</td>\n      <td>0</td>\n      <td>0</td>\n    </tr>\n    <tr>\n      <th>TIMA</th>\n      <td>399</td>\n      <td>112</td>\n      <td>267</td>\n      <td>2</td>\n      <td>8</td>\n      <td>0</td>\n      <td>7</td>\n      <td>0</td>\n      <td>0</td>\n      <td>3</td>\n      <td>0</td>\n      <td>0</td>\n      <td>0</td>\n    </tr>\n    <tr>\n      <th>TIMC IMAG</th>\n      <td>897</td>\n      <td>677</td>\n      <td>69</td>\n      <td>1</td>\n      <td>20</td>\n      <td>0</td>\n      <td>8</td>\n      <td>2</td>\n      <td>46</td>\n      <td>48</td>\n      <td>18</td>\n      <td>8</td>\n      <td>0</td>\n    </tr>\n    <tr>\n      <th>VERIMAG</th>\n      <td>324</td>\n      <td>120</td>\n      <td>181</td>\n      <td>0</td>\n      <td>14</td>\n      <td>0</td>\n      <td>5</td>\n      <td>1</td>\n      <td>1</td>\n      <td>2</td>\n      <td>0</td>\n      <td>0</td>\n      <td>0</td>\n    </tr>\n  </tbody>\n</table>\n</div>"
     },
     "execution_count": 66,
     "metadata": {},
     "output_type": "execute_result"
    }
   ],
   "source": [
    "initStatsLabo()\n",
    "for labo in labID:\n",
    "    df = pd.read_csv(\"Scopus/\"+labo[0]+\".csv\")\n",
    "    statsLabo.loc[labo[0],'Total'] = len(df)\n",
    "    dataLabo = df.groupby('subtypeDescription')['eid'].count()\n",
    "    for type in dataLabo.index:\n",
    "        statsLabo.loc[labo[0],type]=dataLabo[type]\n",
    "statsLabo"
   ],
   "metadata": {
    "collapsed": false,
    "pycharm": {
     "name": "#%%\n"
    }
   }
  },
  {
   "cell_type": "code",
   "execution_count": 91,
   "outputs": [],
   "source": [
    "statsParAnneeLabo = pd.DataFrame()\n",
    "for labo in labID:\n",
    "    df = pd.read_csv(\"Scopus/\"+labo[0]+\".csv\")\n",
    "    df.coverDate = pd.to_datetime(df.coverDate).dt.year\n",
    "    anneeDebut = 2016\n",
    "    anneeFin = 2020\n",
    "    evolutionLabo = pd.DataFrame()\n",
    "    for x in range(anneeDebut,anneeFin+1):\n",
    "        data = {\n",
    "            \"Année\" : [x],\n",
    "            \"Nom\":labo[0],\n",
    "            \"Total\" : [0],\n",
    "            \"Article\" : [0],\n",
    "            \"Conference Paper\" : [0],\n",
    "            \"Data Paper\" : [0],\n",
    "            \"Book\" : [0],\n",
    "            \"Book Chapter\" : [0],\n",
    "            \"Editorial\" : [0],\n",
    "            \"Erratum\" : [0],\n",
    "            \"Letter\" : [0],\n",
    "            \"Review\" : [0],\n",
    "            \"Short Survey\" : [0],\n",
    "            \"Note\" : [0],\n",
    "            \"Retracted\" : [0]\n",
    "        }\n",
    "        evolutionLabo = pd.concat([evolutionLabo, pd.DataFrame(data)], ignore_index=True)\n",
    "    evolutionLabo.set_index(['Année'], inplace=True)\n",
    "    dataLabo = df.groupby(['coverDate','subtypeDescription'])['coverDate'].count()\n",
    "    for index, valeur in dataLabo.iteritems():\n",
    "        evolutionLabo.loc[index[0],index[1]]=valeur\n",
    "        evolutionLabo.loc[index[0],\"Total\"]+=valeur\n",
    "\n"
   ],
   "metadata": {
    "collapsed": false,
    "pycharm": {
     "name": "#%%\n"
    }
   }
  },
  {
   "cell_type": "code",
   "execution_count": 7,
   "outputs": [
    {
     "ename": "Scopus401Error",
     "evalue": "The requestor is not authorized to access the requested view or fields of the resource",
     "output_type": "error",
     "traceback": [
      "\u001B[0;31m---------------------------------------------------------------------------\u001B[0m",
      "\u001B[0;31mScopus401Error\u001B[0m                            Traceback (most recent call last)",
      "Input \u001B[0;32mIn [7]\u001B[0m, in \u001B[0;36m<module>\u001B[0;34m\u001B[0m\n\u001B[1;32m      1\u001B[0m \u001B[38;5;28;01mfrom\u001B[39;00m \u001B[38;5;21;01mpybliometrics\u001B[39;00m\u001B[38;5;21;01m.\u001B[39;00m\u001B[38;5;21;01mscopus\u001B[39;00m \u001B[38;5;28;01mimport\u001B[39;00m AuthorRetrieval\n\u001B[0;32m----> 2\u001B[0m ab \u001B[38;5;241m=\u001B[39m au2 \u001B[38;5;241m=\u001B[39m \u001B[43mAuthorRetrieval\u001B[49m\u001B[43m(\u001B[49m\u001B[38;5;124;43m\"\u001B[39;49m\u001B[38;5;124;43mBellot\u001B[39;49m\u001B[38;5;124;43m\"\u001B[39;49m\u001B[43m)\u001B[49m\n\u001B[1;32m      3\u001B[0m ab\u001B[38;5;241m.\u001B[39mh_index\n",
      "File \u001B[0;32m~/PycharmProjects/biblioScopus/venv/lib/python3.8/site-packages/pybliometrics/scopus/author_retrieval.py:246\u001B[0m, in \u001B[0;36mAuthorRetrieval.__init__\u001B[0;34m(self, author_id, refresh, view)\u001B[0m\n\u001B[1;32m    244\u001B[0m \u001B[38;5;28mself\u001B[39m\u001B[38;5;241m.\u001B[39m_view \u001B[38;5;241m=\u001B[39m view\n\u001B[1;32m    245\u001B[0m \u001B[38;5;28mself\u001B[39m\u001B[38;5;241m.\u001B[39m_refresh \u001B[38;5;241m=\u001B[39m refresh\n\u001B[0;32m--> 246\u001B[0m \u001B[43mRetrieval\u001B[49m\u001B[38;5;241;43m.\u001B[39;49m\u001B[38;5;21;43m__init__\u001B[39;49m\u001B[43m(\u001B[49m\u001B[38;5;28;43mself\u001B[39;49m\u001B[43m,\u001B[49m\u001B[43m \u001B[49m\u001B[43midentifier\u001B[49m\u001B[38;5;241;43m=\u001B[39;49m\u001B[38;5;28;43mself\u001B[39;49m\u001B[38;5;241;43m.\u001B[39;49m\u001B[43m_id\u001B[49m\u001B[43m,\u001B[49m\u001B[43m \u001B[49m\u001B[43mapi\u001B[49m\u001B[38;5;241;43m=\u001B[39;49m\u001B[38;5;124;43m'\u001B[39;49m\u001B[38;5;124;43mAuthorRetrieval\u001B[39;49m\u001B[38;5;124;43m'\u001B[39;49m\u001B[43m)\u001B[49m\n\u001B[1;32m    248\u001B[0m \u001B[38;5;66;03m# Parse json\u001B[39;00m\n\u001B[1;32m    249\u001B[0m \u001B[38;5;28mself\u001B[39m\u001B[38;5;241m.\u001B[39m_json \u001B[38;5;241m=\u001B[39m \u001B[38;5;28mself\u001B[39m\u001B[38;5;241m.\u001B[39m_json[\u001B[38;5;124m'\u001B[39m\u001B[38;5;124mauthor-retrieval-response\u001B[39m\u001B[38;5;124m'\u001B[39m]\n",
      "File \u001B[0;32m~/PycharmProjects/biblioScopus/venv/lib/python3.8/site-packages/pybliometrics/scopus/superclasses/retrieval.py:48\u001B[0m, in \u001B[0;36mRetrieval.__init__\u001B[0;34m(self, identifier, api, id_type, **kwds)\u001B[0m\n\u001B[1;32m     46\u001B[0m \u001B[38;5;66;03m# Parse file contents\u001B[39;00m\n\u001B[1;32m     47\u001B[0m params \u001B[38;5;241m=\u001B[39m {\u001B[38;5;124m'\u001B[39m\u001B[38;5;124mview\u001B[39m\u001B[38;5;124m'\u001B[39m: \u001B[38;5;28mself\u001B[39m\u001B[38;5;241m.\u001B[39m_view, \u001B[38;5;241m*\u001B[39m\u001B[38;5;241m*\u001B[39mkwds}\n\u001B[0;32m---> 48\u001B[0m \u001B[43mBase\u001B[49m\u001B[38;5;241;43m.\u001B[39;49m\u001B[38;5;21;43m__init__\u001B[39;49m\u001B[43m(\u001B[49m\u001B[38;5;28;43mself\u001B[39;49m\u001B[43m,\u001B[49m\u001B[43m \u001B[49m\u001B[43mparams\u001B[49m\u001B[38;5;241;43m=\u001B[39;49m\u001B[43mparams\u001B[49m\u001B[43m,\u001B[49m\u001B[43m \u001B[49m\u001B[43murl\u001B[49m\u001B[38;5;241;43m=\u001B[39;49m\u001B[43murl\u001B[49m\u001B[43m,\u001B[49m\u001B[43m \u001B[49m\u001B[43mapi\u001B[49m\u001B[38;5;241;43m=\u001B[39;49m\u001B[43mapi\u001B[49m\u001B[43m)\u001B[49m\n",
      "File \u001B[0;32m~/PycharmProjects/biblioScopus/venv/lib/python3.8/site-packages/pybliometrics/scopus/superclasses/base.py:59\u001B[0m, in \u001B[0;36mBase.__init__\u001B[0;34m(self, params, url, api, download, verbose, *args, **kwds)\u001B[0m\n\u001B[1;32m     57\u001B[0m         \u001B[38;5;28mself\u001B[39m\u001B[38;5;241m.\u001B[39m_json \u001B[38;5;241m=\u001B[39m loads(fname\u001B[38;5;241m.\u001B[39mread_text())\n\u001B[1;32m     58\u001B[0m \u001B[38;5;28;01melse\u001B[39;00m:\n\u001B[0;32m---> 59\u001B[0m     resp \u001B[38;5;241m=\u001B[39m \u001B[43mget_content\u001B[49m\u001B[43m(\u001B[49m\u001B[43murl\u001B[49m\u001B[43m,\u001B[49m\u001B[43m \u001B[49m\u001B[43mapi\u001B[49m\u001B[43m,\u001B[49m\u001B[43m \u001B[49m\u001B[43mparams\u001B[49m\u001B[43m,\u001B[49m\u001B[43m \u001B[49m\u001B[38;5;241;43m*\u001B[39;49m\u001B[43margs\u001B[49m\u001B[43m,\u001B[49m\u001B[43m \u001B[49m\u001B[38;5;241;43m*\u001B[39;49m\u001B[38;5;241;43m*\u001B[39;49m\u001B[43mkwds\u001B[49m\u001B[43m)\u001B[49m\n\u001B[1;32m     60\u001B[0m     header \u001B[38;5;241m=\u001B[39m resp\u001B[38;5;241m.\u001B[39mheaders\n\u001B[1;32m     61\u001B[0m     \u001B[38;5;28;01mif\u001B[39;00m search_request:\n\u001B[1;32m     62\u001B[0m         \u001B[38;5;66;03m# Get number of results\u001B[39;00m\n",
      "File \u001B[0;32m~/PycharmProjects/biblioScopus/venv/lib/python3.8/site-packages/pybliometrics/scopus/utils/get_content.py:97\u001B[0m, in \u001B[0;36mget_content\u001B[0;34m(url, api, params, **kwds)\u001B[0m\n\u001B[1;32m     95\u001B[0m         \u001B[38;5;28;01mexcept\u001B[39;00m:\n\u001B[1;32m     96\u001B[0m             reason \u001B[38;5;241m=\u001B[39m \u001B[38;5;124m\"\u001B[39m\u001B[38;5;124m\"\u001B[39m\n\u001B[0;32m---> 97\u001B[0m     \u001B[38;5;28;01mraise\u001B[39;00m errors[resp\u001B[38;5;241m.\u001B[39mstatus_code](reason)\n\u001B[1;32m     98\u001B[0m \u001B[38;5;28;01mexcept\u001B[39;00m \u001B[38;5;167;01mKeyError\u001B[39;00m:\n\u001B[1;32m     99\u001B[0m     resp\u001B[38;5;241m.\u001B[39mraise_for_status()\n",
      "\u001B[0;31mScopus401Error\u001B[0m: The requestor is not authorized to access the requested view or fields of the resource"
     ]
    }
   ],
   "source": [
    "from pybliometrics.scopus import AuthorRetrieval\n",
    "ab = au2 = AuthorRetrieval(\"Bellot\")\n",
    "ab.h_index"
   ],
   "metadata": {
    "collapsed": false,
    "pycharm": {
     "name": "#%%\n"
    }
   }
  },
  {
   "cell_type": "code",
   "execution_count": 10,
   "outputs": [
    {
     "ename": "Scopus401Error",
     "evalue": "The requestor is not authorized to access the requested view or fields of the resource",
     "output_type": "error",
     "traceback": [
      "\u001B[0;31m---------------------------------------------------------------------------\u001B[0m",
      "\u001B[0;31mScopus401Error\u001B[0m                            Traceback (most recent call last)",
      "Input \u001B[0;32mIn [10]\u001B[0m, in \u001B[0;36m<module>\u001B[0;34m\u001B[0m\n\u001B[0;32m----> 1\u001B[0m s \u001B[38;5;241m=\u001B[39m \u001B[43mScopusSearch\u001B[49m\u001B[43m(\u001B[49m\u001B[38;5;124;43m'\u001B[39;49m\u001B[38;5;124;43mISSN(1532-849X) AND PUBYEAR IS 2010\u001B[39;49m\u001B[38;5;124;43m'\u001B[39;49m\u001B[43m)\u001B[49m\n\u001B[1;32m      2\u001B[0m \u001B[38;5;28mprint\u001B[39m(s\u001B[38;5;241m.\u001B[39mresults)\n",
      "File \u001B[0;32m~/PycharmProjects/biblioScopus/venv/lib/python3.8/site-packages/pybliometrics/scopus/scopus_search.py:202\u001B[0m, in \u001B[0;36mScopusSearch.__init__\u001B[0;34m(self, query, refresh, view, verbose, download, integrity_fields, integrity_action, subscriber, **kwds)\u001B[0m\n\u001B[1;32m    200\u001B[0m \u001B[38;5;28mself\u001B[39m\u001B[38;5;241m.\u001B[39m_query \u001B[38;5;241m=\u001B[39m query\n\u001B[1;32m    201\u001B[0m \u001B[38;5;28mself\u001B[39m\u001B[38;5;241m.\u001B[39m_view \u001B[38;5;241m=\u001B[39m view\n\u001B[0;32m--> 202\u001B[0m \u001B[43mSearch\u001B[49m\u001B[38;5;241;43m.\u001B[39;49m\u001B[38;5;21;43m__init__\u001B[39;49m\u001B[43m(\u001B[49m\u001B[38;5;28;43mself\u001B[39;49m\u001B[43m,\u001B[49m\u001B[43m \u001B[49m\u001B[43mquery\u001B[49m\u001B[38;5;241;43m=\u001B[39;49m\u001B[43mquery\u001B[49m\u001B[43m,\u001B[49m\u001B[43m \u001B[49m\u001B[43mapi\u001B[49m\u001B[38;5;241;43m=\u001B[39;49m\u001B[38;5;124;43m'\u001B[39;49m\u001B[38;5;124;43mScopusSearch\u001B[39;49m\u001B[38;5;124;43m'\u001B[39;49m\u001B[43m,\u001B[49m\u001B[43m \u001B[49m\u001B[43mcount\u001B[49m\u001B[38;5;241;43m=\u001B[39;49m\u001B[43mcount\u001B[49m\u001B[43m,\u001B[49m\n\u001B[1;32m    203\u001B[0m \u001B[43m                \u001B[49m\u001B[43mcursor\u001B[49m\u001B[38;5;241;43m=\u001B[39;49m\u001B[43msubscriber\u001B[49m\u001B[43m,\u001B[49m\u001B[43m \u001B[49m\u001B[43mdownload\u001B[49m\u001B[38;5;241;43m=\u001B[39;49m\u001B[43mdownload\u001B[49m\u001B[43m,\u001B[49m\n\u001B[1;32m    204\u001B[0m \u001B[43m                \u001B[49m\u001B[43mverbose\u001B[49m\u001B[38;5;241;43m=\u001B[39;49m\u001B[43mverbose\u001B[49m\u001B[43m,\u001B[49m\u001B[43m \u001B[49m\u001B[38;5;241;43m*\u001B[39;49m\u001B[38;5;241;43m*\u001B[39;49m\u001B[43mkwds\u001B[49m\u001B[43m)\u001B[49m\n",
      "File \u001B[0;32m~/PycharmProjects/biblioScopus/venv/lib/python3.8/site-packages/pybliometrics/scopus/superclasses/search.py:61\u001B[0m, in \u001B[0;36mSearch.__init__\u001B[0;34m(self, query, api, count, cursor, download, verbose, **kwds)\u001B[0m\n\u001B[1;32m     58\u001B[0m \u001B[38;5;28mself\u001B[39m\u001B[38;5;241m.\u001B[39m_cache_file_path \u001B[38;5;241m=\u001B[39m get_folder(api, \u001B[38;5;28mself\u001B[39m\u001B[38;5;241m.\u001B[39m_view)\u001B[38;5;241m/\u001B[39mstem\n\u001B[1;32m     60\u001B[0m \u001B[38;5;66;03m# Init\u001B[39;00m\n\u001B[0;32m---> 61\u001B[0m \u001B[43mBase\u001B[49m\u001B[38;5;241;43m.\u001B[39;49m\u001B[38;5;21;43m__init__\u001B[39;49m\u001B[43m(\u001B[49m\u001B[38;5;28;43mself\u001B[39;49m\u001B[43m,\u001B[49m\u001B[43m \u001B[49m\u001B[43mparams\u001B[49m\u001B[38;5;241;43m=\u001B[39;49m\u001B[43mparams\u001B[49m\u001B[43m,\u001B[49m\u001B[43m \u001B[49m\u001B[43murl\u001B[49m\u001B[38;5;241;43m=\u001B[39;49m\u001B[43mURLS\u001B[49m\u001B[43m[\u001B[49m\u001B[43mapi\u001B[49m\u001B[43m]\u001B[49m\u001B[43m,\u001B[49m\u001B[43m \u001B[49m\u001B[43mdownload\u001B[49m\u001B[38;5;241;43m=\u001B[39;49m\u001B[43mdownload\u001B[49m\u001B[43m,\u001B[49m\n\u001B[1;32m     62\u001B[0m \u001B[43m              \u001B[49m\u001B[43mapi\u001B[49m\u001B[38;5;241;43m=\u001B[39;49m\u001B[43mapi\u001B[49m\u001B[43m,\u001B[49m\u001B[43m \u001B[49m\u001B[43mverbose\u001B[49m\u001B[38;5;241;43m=\u001B[39;49m\u001B[43mverbose\u001B[49m\u001B[43m)\u001B[49m\n",
      "File \u001B[0;32m~/PycharmProjects/biblioScopus/venv/lib/python3.8/site-packages/pybliometrics/scopus/superclasses/base.py:59\u001B[0m, in \u001B[0;36mBase.__init__\u001B[0;34m(self, params, url, api, download, verbose, *args, **kwds)\u001B[0m\n\u001B[1;32m     57\u001B[0m         \u001B[38;5;28mself\u001B[39m\u001B[38;5;241m.\u001B[39m_json \u001B[38;5;241m=\u001B[39m loads(fname\u001B[38;5;241m.\u001B[39mread_text())\n\u001B[1;32m     58\u001B[0m \u001B[38;5;28;01melse\u001B[39;00m:\n\u001B[0;32m---> 59\u001B[0m     resp \u001B[38;5;241m=\u001B[39m \u001B[43mget_content\u001B[49m\u001B[43m(\u001B[49m\u001B[43murl\u001B[49m\u001B[43m,\u001B[49m\u001B[43m \u001B[49m\u001B[43mapi\u001B[49m\u001B[43m,\u001B[49m\u001B[43m \u001B[49m\u001B[43mparams\u001B[49m\u001B[43m,\u001B[49m\u001B[43m \u001B[49m\u001B[38;5;241;43m*\u001B[39;49m\u001B[43margs\u001B[49m\u001B[43m,\u001B[49m\u001B[43m \u001B[49m\u001B[38;5;241;43m*\u001B[39;49m\u001B[38;5;241;43m*\u001B[39;49m\u001B[43mkwds\u001B[49m\u001B[43m)\u001B[49m\n\u001B[1;32m     60\u001B[0m     header \u001B[38;5;241m=\u001B[39m resp\u001B[38;5;241m.\u001B[39mheaders\n\u001B[1;32m     61\u001B[0m     \u001B[38;5;28;01mif\u001B[39;00m search_request:\n\u001B[1;32m     62\u001B[0m         \u001B[38;5;66;03m# Get number of results\u001B[39;00m\n",
      "File \u001B[0;32m~/PycharmProjects/biblioScopus/venv/lib/python3.8/site-packages/pybliometrics/scopus/utils/get_content.py:97\u001B[0m, in \u001B[0;36mget_content\u001B[0;34m(url, api, params, **kwds)\u001B[0m\n\u001B[1;32m     95\u001B[0m         \u001B[38;5;28;01mexcept\u001B[39;00m:\n\u001B[1;32m     96\u001B[0m             reason \u001B[38;5;241m=\u001B[39m \u001B[38;5;124m\"\u001B[39m\u001B[38;5;124m\"\u001B[39m\n\u001B[0;32m---> 97\u001B[0m     \u001B[38;5;28;01mraise\u001B[39;00m errors[resp\u001B[38;5;241m.\u001B[39mstatus_code](reason)\n\u001B[1;32m     98\u001B[0m \u001B[38;5;28;01mexcept\u001B[39;00m \u001B[38;5;167;01mKeyError\u001B[39;00m:\n\u001B[1;32m     99\u001B[0m     resp\u001B[38;5;241m.\u001B[39mraise_for_status()\n",
      "\u001B[0;31mScopus401Error\u001B[0m: The requestor is not authorized to access the requested view or fields of the resource"
     ]
    }
   ],
   "source": [
    "s = ScopusSearch('ISSN(1532-849X) AND PUBYEAR IS 2010',subscriber=False)\n",
    "print(s.results)"
   ],
   "metadata": {
    "collapsed": false,
    "pycharm": {
     "name": "#%%\n"
    }
   }
  }
 ],
 "metadata": {
  "kernelspec": {
   "name": "pycharm-f674b163",
   "language": "python",
   "display_name": "PyCharm (biblioScopus)"
  },
  "language_info": {
   "codemirror_mode": {
    "name": "ipython",
    "version": 2
   },
   "file_extension": ".py",
   "mimetype": "text/x-python",
   "name": "python",
   "nbconvert_exporter": "python",
   "pygments_lexer": "ipython2",
   "version": "2.7.6"
  }
 },
 "nbformat": 4,
 "nbformat_minor": 0
}