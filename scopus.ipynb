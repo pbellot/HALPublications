{
 "cells": [
  {
   "cell_type": "code",
   "execution_count": 3,
   "metadata": {
    "collapsed": true,
    "pycharm": {
     "name": "#%%\n"
    }
   },
   "outputs": [],
   "source": [
    "from pybliometrics.scopus import ScopusSearch\n",
    "import pandas as pd"
   ]
  },
  {
   "cell_type": "code",
   "execution_count": 4,
   "outputs": [
    {
     "name": "stdout",
     "output_type": "stream",
     "text": [
      "Creating config file at /Users/Patrice/.pybliometrics/config.ini with default paths...\n",
      "Configuration file successfully created at /Users/Patrice/.pybliometrics/config.ini\n",
      "For details see https://pybliometrics.rtfd.io/en/stable/configuration.html.\n"
     ]
    },
    {
     "data": {
      "text/plain": "<configparser.ConfigParser at 0x7fe4b9638a30>"
     },
     "execution_count": 4,
     "metadata": {},
     "output_type": "execute_result"
    }
   ],
   "source": [
    "import pybliometrics\n",
    "pybliometrics.scopus.utils.create_config()"
   ],
   "metadata": {
    "collapsed": false,
    "pycharm": {
     "name": "#%%\n"
    }
   }
  },
  {
   "cell_type": "code",
   "execution_count": 5,
   "outputs": [
    {
     "name": "stdout",
     "output_type": "stream",
     "text": [
      "keys :  1e634063406e6b444b503e8eedf16350, 5a6abf59175949d8c948473454822a57\n"
     ]
    }
   ],
   "source": [
    "from pybliometrics.scopus.utils import config\n",
    "\n",
    "print(\"keys : \", config['Authentication']['APIKey'])  # Show keys"
   ],
   "metadata": {
    "collapsed": false,
    "pycharm": {
     "name": "#%%\n"
    }
   }
  },
  {
   "cell_type": "code",
   "execution_count": 36,
   "outputs": [
    {
     "name": "stdout",
     "output_type": "stream",
     "text": [
      "38\n"
     ]
    }
   ],
   "source": [
    "# liste laboratoires INS2I\n",
    "lab = (\"CMP\", \"CRAN\", \"CREATIS\", \"CRIL\",\"CRISTAL\",\"DI ENS\",\"ETIS\",\"GIPSA-Lab\",\"GREYC\",\"G-SCOP\",\"HEUDIASYC\",\"I3S\",\"ICUBE\",\"IDRIS\",\"IRIF\",\"IRISA\",\"IRIT\",\"L2S\",\"LAAS\",\"LABRI\",\"LAB-STICC\",\"LAMIH\",\"LAMSADE\",\"LIG\",\"LIGM\",\"LIMOS\",\"LIP\",\"LIP6\",\"LIPN\",\"LIRIS\",\"LIRMM\",\"LIS\",\"LISN\",\"LIX\",\"LORIA\",\"LS2N\",\"LSV\",\"STMS\",\"TIMA\",\"TIMC IMAG\",\"VERIMAG\")\n",
    "print(len(lab))"
   ],
   "metadata": {
    "collapsed": false,
    "pycharm": {
     "name": "#%%\n"
    }
   }
  },
  {
   "cell_type": "code",
   "execution_count": 13,
   "outputs": [
    {
     "name": "stdout",
     "output_type": "stream",
     "text": [
      "3\n"
     ]
    }
   ],
   "source": [
    "# liste laboratoires INS2I\n",
    "lab = (\"LIS\",\"LIF\",\"LSIS\")\n",
    "print(len(lab))"
   ],
   "metadata": {
    "collapsed": false,
    "pycharm": {
     "name": "#%%\n"
    }
   }
  },
  {
   "cell_type": "code",
   "execution_count": 37,
   "outputs": [
    {
     "name": "stdout",
     "output_type": "stream",
     "text": [
      "42\n"
     ]
    },
    {
     "data": {
      "text/plain": "(('CMP', 60202650),\n ('CRAN', 60073336),\n ('CREATIS', 60062760),\n ('CRIL', 60122762),\n ('CRISTAL', 60122064),\n ('DI ENS', 60105786),\n ('ETIS', 60126116),\n ('GIPSA-Lab', 60104170),\n ('GREYC', 60122535),\n ('G-SCOP', 60108255),\n ('HEUDIASYC', 60160765),\n ('I3S', 60110719),\n ('ICUBE', 60208831),\n ('IDRIS', 60106146),\n ('IRIF', 60123660),\n ('IRISA', 60027031),\n ('IRIT', 60030491),\n ('L2S', 60007136),\n ('LAAS', 60005830),\n ('LABRI', 60106845),\n ('LAB-STICC', 60105670),\n ('LAMIH', 60193405),\n ('LAMSADE', 60105740),\n ('LIG', 60108044),\n ('LIGM', 60105097),\n ('LIMOS', 60121963),\n ('LIP', 60111070),\n ('LIP6', 60112307),\n ('LIPN', 60101355),\n ('LIRIS', 60108341),\n ('LIRMM', 60007853),\n ('LIS', 60210090),\n ('LIMSI', 60032709),\n ('LRI', 60106208),\n ('LIX', 60028952),\n ('LORIA', 60028850),\n ('LS2N', 60110511),\n ('LSV', 60105997),\n ('STMS', 60158039),\n ('TIMA', 60003462),\n ('TIMC IMAG', 60108275),\n ('VERIMAG', 60030409))"
     },
     "execution_count": 37,
     "metadata": {},
     "output_type": "execute_result"
    }
   ],
   "source": [
    "# liste laboratoires INS2I avec affiliation ID\n",
    "labID = ((\"CMP\",60202650),(\"CRAN\", 60073336),(\"CREATIS\", 60062760),(\"CRIL\", 60122762),(\"CRISTAL\",60122064),(\"DI ENS\", 60105786),(\"ETIS\",60126116),(\"GIPSA-Lab\",60104170),(\"GREYC\",60122535),(\"G-SCOP\",60108255),(\"HEUDIASYC\",60160765),(\"I3S\",60110719),(\"ICUBE\",60208831),(\"IDRIS\",60106146),(\"IRIF\",60123660),(\"IRISA\",60027031),(\"IRIT\",60030491),(\"L2S\",60007136),(\"LAAS\",60005830),(\"LABRI\",60106845),(\"LAB-STICC\",60105670),(\"LAMIH\",60193405),(\"LAMSADE\",60105740),(\"LIG\",60108044),(\"LIGM\",60105097),(\"LIMOS\",60121963),(\"LIP\",60111070),(\"LIP6\",60112307),(\"LIPN\",60101355),(\"LIRIS\",60108341),(\"LIRMM\",60007853),(\"LIS\",60210090),(\"LIMSI\",60032709),(\"LRI\",60106208),(\"LIX\",60028952),(\"LORIA\",60028850),(\"LS2N\",60110511),(\"LSV\",60105997),(\"STMS\",60158039),(\"TIMA\",60003462),(\"TIMC IMAG\",60108275),(\"VERIMAG\",60030409))\n",
    "print(len(labID))\n",
    "labID"
   ],
   "metadata": {
    "collapsed": false,
    "pycharm": {
     "name": "#%%\n"
    }
   }
  },
  {
   "cell_type": "code",
   "execution_count": 14,
   "outputs": [
    {
     "name": "stdout",
     "output_type": "stream",
     "text": [
      "Downloading results for query \"AFFILORG(\"LIS\") AND PUBYEAR > 2015 AND PUBYEAR < 2021\":\n"
     ]
    },
    {
     "name": "stderr",
     "output_type": "stream",
     "text": [
      "\n",
      "  0%|          | 0/44 [00:00<?, ?it/s]\u001B[A\n",
      "  5%|▍         | 2/44 [00:00<00:19,  2.20it/s]\u001B[A\n",
      "  7%|▋         | 3/44 [00:01<00:25,  1.61it/s]\u001B[A\n",
      "  9%|▉         | 4/44 [00:02<00:29,  1.35it/s]\u001B[A\n",
      " 11%|█▏        | 5/44 [00:03<00:30,  1.27it/s]\u001B[A\n",
      " 14%|█▎        | 6/44 [00:04<00:32,  1.16it/s]\u001B[A\n",
      " 16%|█▌        | 7/44 [00:05<00:33,  1.11it/s]\u001B[A\n",
      " 18%|█▊        | 8/44 [00:06<00:32,  1.12it/s]\u001B[A\n",
      " 20%|██        | 9/44 [00:07<00:30,  1.16it/s]\u001B[A\n",
      " 23%|██▎       | 10/44 [00:08<00:30,  1.11it/s]\u001B[A\n",
      " 25%|██▌       | 11/44 [00:09<00:29,  1.10it/s]\u001B[A\n",
      " 27%|██▋       | 12/44 [00:10<00:29,  1.09it/s]\u001B[A\n",
      " 30%|██▉       | 13/44 [00:11<00:30,  1.03it/s]\u001B[A\n",
      " 32%|███▏      | 14/44 [00:12<00:28,  1.05it/s]\u001B[A\n",
      " 34%|███▍      | 15/44 [00:13<00:30,  1.04s/it]\u001B[A\n",
      " 36%|███▋      | 16/44 [00:14<00:28,  1.01s/it]\u001B[A\n",
      " 39%|███▊      | 17/44 [00:15<00:26,  1.02it/s]\u001B[A\n",
      " 41%|████      | 18/44 [00:16<00:28,  1.09s/it]\u001B[A\n",
      " 43%|████▎     | 19/44 [00:17<00:28,  1.12s/it]\u001B[A\n",
      " 45%|████▌     | 20/44 [00:18<00:26,  1.09s/it]\u001B[A\n",
      " 48%|████▊     | 21/44 [00:19<00:24,  1.07s/it]\u001B[A\n",
      " 50%|█████     | 22/44 [00:20<00:22,  1.00s/it]\u001B[A\n",
      " 52%|█████▏    | 23/44 [00:21<00:19,  1.07it/s]\u001B[A\n",
      " 55%|█████▍    | 24/44 [00:22<00:18,  1.07it/s]\u001B[A\n",
      " 57%|█████▋    | 25/44 [00:23<00:17,  1.06it/s]\u001B[A\n",
      " 59%|█████▉    | 26/44 [00:24<00:17,  1.04it/s]\u001B[A\n",
      " 61%|██████▏   | 27/44 [00:25<00:16,  1.04it/s]\u001B[A\n",
      " 64%|██████▎   | 28/44 [00:26<00:16,  1.01s/it]\u001B[A\n",
      " 66%|██████▌   | 29/44 [00:27<00:14,  1.02it/s]\u001B[A\n",
      " 68%|██████▊   | 30/44 [00:28<00:13,  1.00it/s]\u001B[A\n",
      " 70%|███████   | 31/44 [00:30<00:15,  1.21s/it]\u001B[A\n",
      " 73%|███████▎  | 32/44 [00:31<00:14,  1.20s/it]\u001B[A\n",
      " 75%|███████▌  | 33/44 [00:32<00:12,  1.09s/it]\u001B[A\n",
      " 77%|███████▋  | 34/44 [00:32<00:10,  1.04s/it]\u001B[A\n",
      " 80%|███████▉  | 35/44 [00:33<00:09,  1.01s/it]\u001B[A\n",
      " 82%|████████▏ | 36/44 [00:34<00:07,  1.04it/s]\u001B[A\n",
      " 84%|████████▍ | 37/44 [00:35<00:06,  1.08it/s]\u001B[A\n",
      " 86%|████████▋ | 38/44 [00:36<00:05,  1.08it/s]\u001B[A\n",
      " 89%|████████▊ | 39/44 [00:37<00:04,  1.05it/s]\u001B[A\n",
      " 91%|█████████ | 40/44 [00:38<00:03,  1.04it/s]\u001B[A\n",
      " 93%|█████████▎| 41/44 [00:39<00:02,  1.08it/s]\u001B[A\n",
      " 95%|█████████▌| 42/44 [00:40<00:01,  1.11it/s]\u001B[A\n",
      " 98%|█████████▊| 43/44 [00:41<00:00,  1.10it/s]\u001B[A\n",
      "100%|██████████| 44/44 [00:41<00:00,  1.06it/s]\u001B[A\n"
     ]
    },
    {
     "name": "stdout",
     "output_type": "stream",
     "text": [
      "LIS : Total :  1052\n",
      "subtypeDescription\n",
      "Article             584\n",
      "Book                  3\n",
      "Book Chapter         38\n",
      "Conference Paper    380\n",
      "Editorial            17\n",
      "Erratum               3\n",
      "Letter                6\n",
      "Note                  7\n",
      "Review               14\n",
      "Name: eid, dtype: int64\n",
      "Downloading results for query \"AFFILORG(\"LIF\") AND PUBYEAR > 2015 AND PUBYEAR < 2021\":\n"
     ]
    },
    {
     "name": "stderr",
     "output_type": "stream",
     "text": [
      "\n",
      "  0%|          | 0/10 [00:00<?, ?it/s]\u001B[A\n",
      " 20%|██        | 2/10 [00:00<00:03,  2.34it/s]\u001B[A\n",
      " 30%|███       | 3/10 [00:01<00:04,  1.72it/s]\u001B[A\n",
      " 40%|████      | 4/10 [00:02<00:04,  1.44it/s]\u001B[A\n",
      " 50%|█████     | 5/10 [00:03<00:03,  1.36it/s]\u001B[A\n",
      " 60%|██████    | 6/10 [00:04<00:03,  1.06it/s]\u001B[A\n",
      " 70%|███████   | 7/10 [00:05<00:02,  1.05it/s]\u001B[A\n",
      " 80%|████████  | 8/10 [00:06<00:02,  1.03s/it]\u001B[A\n",
      " 90%|█████████ | 9/10 [00:07<00:00,  1.02it/s]\u001B[A\n",
      "100%|██████████| 10/10 [00:08<00:00,  1.21it/s]\u001B[A\n"
     ]
    },
    {
     "name": "stdout",
     "output_type": "stream",
     "text": [
      "LIF : Total :  214\n",
      "subtypeDescription\n",
      "Article             103\n",
      "Book                  1\n",
      "Book Chapter          7\n",
      "Conference Paper     98\n",
      "Editorial             1\n",
      "Letter                2\n",
      "Review                2\n",
      "Name: eid, dtype: int64\n",
      "Downloading results for query \"AFFILORG(\"LSIS\") AND PUBYEAR > 2015 AND PUBYEAR < 2021\":\n"
     ]
    },
    {
     "name": "stderr",
     "output_type": "stream",
     "text": [
      "\n",
      "  0%|          | 0/26 [00:00<?, ?it/s]\u001B[A\n",
      "  8%|▊         | 2/26 [00:00<00:11,  2.12it/s]\u001B[A\n",
      " 12%|█▏        | 3/26 [00:01<00:15,  1.44it/s]\u001B[A\n",
      " 15%|█▌        | 4/26 [00:02<00:16,  1.30it/s]\u001B[A\n",
      " 19%|█▉        | 5/26 [00:04<00:22,  1.08s/it]\u001B[A\n",
      " 23%|██▎       | 6/26 [00:05<00:21,  1.07s/it]\u001B[A\n",
      " 27%|██▋       | 7/26 [00:06<00:19,  1.03s/it]\u001B[A\n",
      " 31%|███       | 8/26 [00:07<00:18,  1.05s/it]\u001B[A\n",
      " 35%|███▍      | 9/26 [00:08<00:18,  1.09s/it]\u001B[A\n",
      " 38%|███▊      | 10/26 [00:09<00:17,  1.09s/it]\u001B[A\n",
      " 42%|████▏     | 11/26 [00:10<00:15,  1.06s/it]\u001B[A\n",
      " 46%|████▌     | 12/26 [00:12<00:15,  1.10s/it]\u001B[A\n",
      " 50%|█████     | 13/26 [00:13<00:13,  1.06s/it]\u001B[A\n",
      " 54%|█████▍    | 14/26 [00:14<00:13,  1.09s/it]\u001B[A\n",
      " 58%|█████▊    | 15/26 [00:15<00:11,  1.02s/it]\u001B[A\n",
      " 62%|██████▏   | 16/26 [00:15<00:09,  1.05it/s]\u001B[A\n",
      " 65%|██████▌   | 17/26 [00:17<00:09,  1.07s/it]\u001B[A\n",
      " 69%|██████▉   | 18/26 [00:18<00:08,  1.04s/it]\u001B[A\n",
      " 73%|███████▎  | 19/26 [00:19<00:07,  1.10s/it]\u001B[A\n",
      " 77%|███████▋  | 20/26 [00:20<00:06,  1.06s/it]\u001B[A\n",
      " 81%|████████  | 21/26 [00:21<00:05,  1.02s/it]\u001B[A\n",
      " 85%|████████▍ | 22/26 [00:22<00:03,  1.03it/s]\u001B[A\n",
      " 88%|████████▊ | 23/26 [00:23<00:03,  1.07s/it]\u001B[A\n",
      " 92%|█████████▏| 24/26 [00:24<00:02,  1.04s/it]\u001B[A\n",
      " 96%|█████████▌| 25/26 [00:25<00:00,  1.01it/s]\u001B[A\n",
      "100%|██████████| 26/26 [00:27<00:00,  1.05s/it]\u001B[A"
     ]
    },
    {
     "name": "stdout",
     "output_type": "stream",
     "text": [
      "LSIS : Total :  608\n",
      "subtypeDescription\n",
      "Article             233\n",
      "Book                  1\n",
      "Book Chapter         17\n",
      "Conference Paper    344\n",
      "Editorial             4\n",
      "Erratum               2\n",
      "Review                6\n",
      "Name: eid, dtype: int64\n",
      "Total labo =  1874\n"
     ]
    },
    {
     "name": "stderr",
     "output_type": "stream",
     "text": [
      "\n"
     ]
    }
   ],
   "source": [
    "#Interrogation par AFFILORG\n",
    "total = 0\n",
    "for i in range(len(lab)):\n",
    "    query='AFFILORG(\"'+lab[i]+'\") AND PUBYEAR > 2015 AND PUBYEAR < 2021'\n",
    "    li = ScopusSearch(query, verbose=True, download=True, subscriber=False)\n",
    "    print(lab[i], \": Total : \", li.get_results_size())\n",
    "    total += li.get_results_size()\n",
    "    #print(li.results)\n",
    "    df = pd.DataFrame(pd.DataFrame(li.results))\n",
    "    print(df.groupby('subtypeDescription')['eid'].nunique())\n",
    "print (\"Total labo = \", total)"
   ],
   "metadata": {
    "collapsed": false,
    "pycharm": {
     "name": "#%%\n"
    }
   }
  },
  {
   "cell_type": "code",
   "execution_count": 34,
   "outputs": [
    {
     "name": "stdout",
     "output_type": "stream",
     "text": [
      "('CRAN', 60073336)\n",
      "AF-ID(60073336) AND PUBYEAR > 2015 AND PUBYEAR < 2021\n",
      "Downloading results for query \"AF-ID(60073336) AND PUBYEAR > 2015 AND PUBYEAR < 2021\":\n"
     ]
    },
    {
     "name": "stderr",
     "output_type": "stream",
     "text": [
      "100%|██████████| 54/54 [00:53<00:00,  1.00it/s]\n"
     ]
    },
    {
     "name": "stdout",
     "output_type": "stream",
     "text": [
      "CRAN : Total :  1303\n",
      "subtypeDescription\n",
      "Article             607\n",
      "Book                  2\n",
      "Book Chapter         49\n",
      "Conference Paper    548\n",
      "Editorial            22\n",
      "Erratum               6\n",
      "Letter                7\n",
      "Note                  4\n",
      "Review               52\n",
      "Short Survey          6\n",
      "Name: eid, dtype: int64\n",
      "('CRAN', 600)\n",
      "AF-ID(600) AND PUBYEAR > 2015 AND PUBYEAR < 2021\n",
      "CRAN : Total :  0\n"
     ]
    },
    {
     "ename": "KeyError",
     "evalue": "'subtypeDescription'",
     "output_type": "error",
     "traceback": [
      "\u001B[0;31m---------------------------------------------------------------------------\u001B[0m",
      "\u001B[0;31mKeyError\u001B[0m                                  Traceback (most recent call last)",
      "Input \u001B[0;32mIn [34]\u001B[0m, in \u001B[0;36m<module>\u001B[0;34m\u001B[0m\n\u001B[1;32m     10\u001B[0m     \u001B[38;5;66;03m#print(li.results)\u001B[39;00m\n\u001B[1;32m     11\u001B[0m     df \u001B[38;5;241m=\u001B[39m pd\u001B[38;5;241m.\u001B[39mDataFrame(pd\u001B[38;5;241m.\u001B[39mDataFrame(li\u001B[38;5;241m.\u001B[39mresults))\n\u001B[0;32m---> 12\u001B[0m     \u001B[38;5;28mprint\u001B[39m(\u001B[43mdf\u001B[49m\u001B[38;5;241;43m.\u001B[39;49m\u001B[43mgroupby\u001B[49m\u001B[43m(\u001B[49m\u001B[38;5;124;43m'\u001B[39;49m\u001B[38;5;124;43msubtypeDescription\u001B[39;49m\u001B[38;5;124;43m'\u001B[39;49m\u001B[43m)\u001B[49m[\u001B[38;5;124m'\u001B[39m\u001B[38;5;124meid\u001B[39m\u001B[38;5;124m'\u001B[39m]\u001B[38;5;241m.\u001B[39mnunique())\n\u001B[1;32m     13\u001B[0m \u001B[38;5;28mprint\u001B[39m (\u001B[38;5;124m\"\u001B[39m\u001B[38;5;124mTotal labo = \u001B[39m\u001B[38;5;124m\"\u001B[39m, total)\n",
      "File \u001B[0;32m~/PycharmProjects/biblioScopus/venv/lib/python3.8/site-packages/pandas/core/frame.py:7706\u001B[0m, in \u001B[0;36mDataFrame.groupby\u001B[0;34m(self, by, axis, level, as_index, sort, group_keys, squeeze, observed, dropna)\u001B[0m\n\u001B[1;32m   7701\u001B[0m axis \u001B[38;5;241m=\u001B[39m \u001B[38;5;28mself\u001B[39m\u001B[38;5;241m.\u001B[39m_get_axis_number(axis)\n\u001B[1;32m   7703\u001B[0m \u001B[38;5;66;03m# https://github.com/python/mypy/issues/7642\u001B[39;00m\n\u001B[1;32m   7704\u001B[0m \u001B[38;5;66;03m# error: Argument \"squeeze\" to \"DataFrameGroupBy\" has incompatible type\u001B[39;00m\n\u001B[1;32m   7705\u001B[0m \u001B[38;5;66;03m# \"Union[bool, NoDefault]\"; expected \"bool\"\u001B[39;00m\n\u001B[0;32m-> 7706\u001B[0m \u001B[38;5;28;01mreturn\u001B[39;00m \u001B[43mDataFrameGroupBy\u001B[49m\u001B[43m(\u001B[49m\n\u001B[1;32m   7707\u001B[0m \u001B[43m    \u001B[49m\u001B[43mobj\u001B[49m\u001B[38;5;241;43m=\u001B[39;49m\u001B[38;5;28;43mself\u001B[39;49m\u001B[43m,\u001B[49m\n\u001B[1;32m   7708\u001B[0m \u001B[43m    \u001B[49m\u001B[43mkeys\u001B[49m\u001B[38;5;241;43m=\u001B[39;49m\u001B[43mby\u001B[49m\u001B[43m,\u001B[49m\n\u001B[1;32m   7709\u001B[0m \u001B[43m    \u001B[49m\u001B[43maxis\u001B[49m\u001B[38;5;241;43m=\u001B[39;49m\u001B[43maxis\u001B[49m\u001B[43m,\u001B[49m\n\u001B[1;32m   7710\u001B[0m \u001B[43m    \u001B[49m\u001B[43mlevel\u001B[49m\u001B[38;5;241;43m=\u001B[39;49m\u001B[43mlevel\u001B[49m\u001B[43m,\u001B[49m\n\u001B[1;32m   7711\u001B[0m \u001B[43m    \u001B[49m\u001B[43mas_index\u001B[49m\u001B[38;5;241;43m=\u001B[39;49m\u001B[43mas_index\u001B[49m\u001B[43m,\u001B[49m\n\u001B[1;32m   7712\u001B[0m \u001B[43m    \u001B[49m\u001B[43msort\u001B[49m\u001B[38;5;241;43m=\u001B[39;49m\u001B[43msort\u001B[49m\u001B[43m,\u001B[49m\n\u001B[1;32m   7713\u001B[0m \u001B[43m    \u001B[49m\u001B[43mgroup_keys\u001B[49m\u001B[38;5;241;43m=\u001B[39;49m\u001B[43mgroup_keys\u001B[49m\u001B[43m,\u001B[49m\n\u001B[1;32m   7714\u001B[0m \u001B[43m    \u001B[49m\u001B[43msqueeze\u001B[49m\u001B[38;5;241;43m=\u001B[39;49m\u001B[43msqueeze\u001B[49m\u001B[43m,\u001B[49m\u001B[43m  \u001B[49m\u001B[38;5;66;43;03m# type: ignore[arg-type]\u001B[39;49;00m\n\u001B[1;32m   7715\u001B[0m \u001B[43m    \u001B[49m\u001B[43mobserved\u001B[49m\u001B[38;5;241;43m=\u001B[39;49m\u001B[43mobserved\u001B[49m\u001B[43m,\u001B[49m\n\u001B[1;32m   7716\u001B[0m \u001B[43m    \u001B[49m\u001B[43mdropna\u001B[49m\u001B[38;5;241;43m=\u001B[39;49m\u001B[43mdropna\u001B[49m\u001B[43m,\u001B[49m\n\u001B[1;32m   7717\u001B[0m \u001B[43m\u001B[49m\u001B[43m)\u001B[49m\n",
      "File \u001B[0;32m~/PycharmProjects/biblioScopus/venv/lib/python3.8/site-packages/pandas/core/groupby/groupby.py:882\u001B[0m, in \u001B[0;36mGroupBy.__init__\u001B[0;34m(self, obj, keys, axis, level, grouper, exclusions, selection, as_index, sort, group_keys, squeeze, observed, mutated, dropna)\u001B[0m\n\u001B[1;32m    879\u001B[0m \u001B[38;5;28;01mif\u001B[39;00m grouper \u001B[38;5;129;01mis\u001B[39;00m \u001B[38;5;28;01mNone\u001B[39;00m:\n\u001B[1;32m    880\u001B[0m     \u001B[38;5;28;01mfrom\u001B[39;00m \u001B[38;5;21;01mpandas\u001B[39;00m\u001B[38;5;21;01m.\u001B[39;00m\u001B[38;5;21;01mcore\u001B[39;00m\u001B[38;5;21;01m.\u001B[39;00m\u001B[38;5;21;01mgroupby\u001B[39;00m\u001B[38;5;21;01m.\u001B[39;00m\u001B[38;5;21;01mgrouper\u001B[39;00m \u001B[38;5;28;01mimport\u001B[39;00m get_grouper\n\u001B[0;32m--> 882\u001B[0m     grouper, exclusions, obj \u001B[38;5;241m=\u001B[39m \u001B[43mget_grouper\u001B[49m\u001B[43m(\u001B[49m\n\u001B[1;32m    883\u001B[0m \u001B[43m        \u001B[49m\u001B[43mobj\u001B[49m\u001B[43m,\u001B[49m\n\u001B[1;32m    884\u001B[0m \u001B[43m        \u001B[49m\u001B[43mkeys\u001B[49m\u001B[43m,\u001B[49m\n\u001B[1;32m    885\u001B[0m \u001B[43m        \u001B[49m\u001B[43maxis\u001B[49m\u001B[38;5;241;43m=\u001B[39;49m\u001B[43maxis\u001B[49m\u001B[43m,\u001B[49m\n\u001B[1;32m    886\u001B[0m \u001B[43m        \u001B[49m\u001B[43mlevel\u001B[49m\u001B[38;5;241;43m=\u001B[39;49m\u001B[43mlevel\u001B[49m\u001B[43m,\u001B[49m\n\u001B[1;32m    887\u001B[0m \u001B[43m        \u001B[49m\u001B[43msort\u001B[49m\u001B[38;5;241;43m=\u001B[39;49m\u001B[43msort\u001B[49m\u001B[43m,\u001B[49m\n\u001B[1;32m    888\u001B[0m \u001B[43m        \u001B[49m\u001B[43mobserved\u001B[49m\u001B[38;5;241;43m=\u001B[39;49m\u001B[43mobserved\u001B[49m\u001B[43m,\u001B[49m\n\u001B[1;32m    889\u001B[0m \u001B[43m        \u001B[49m\u001B[43mmutated\u001B[49m\u001B[38;5;241;43m=\u001B[39;49m\u001B[38;5;28;43mself\u001B[39;49m\u001B[38;5;241;43m.\u001B[39;49m\u001B[43mmutated\u001B[49m\u001B[43m,\u001B[49m\n\u001B[1;32m    890\u001B[0m \u001B[43m        \u001B[49m\u001B[43mdropna\u001B[49m\u001B[38;5;241;43m=\u001B[39;49m\u001B[38;5;28;43mself\u001B[39;49m\u001B[38;5;241;43m.\u001B[39;49m\u001B[43mdropna\u001B[49m\u001B[43m,\u001B[49m\n\u001B[1;32m    891\u001B[0m \u001B[43m    \u001B[49m\u001B[43m)\u001B[49m\n\u001B[1;32m    893\u001B[0m \u001B[38;5;28mself\u001B[39m\u001B[38;5;241m.\u001B[39mobj \u001B[38;5;241m=\u001B[39m obj\n\u001B[1;32m    894\u001B[0m \u001B[38;5;28mself\u001B[39m\u001B[38;5;241m.\u001B[39maxis \u001B[38;5;241m=\u001B[39m obj\u001B[38;5;241m.\u001B[39m_get_axis_number(axis)\n",
      "File \u001B[0;32m~/PycharmProjects/biblioScopus/venv/lib/python3.8/site-packages/pandas/core/groupby/grouper.py:882\u001B[0m, in \u001B[0;36mget_grouper\u001B[0;34m(obj, key, axis, level, sort, observed, mutated, validate, dropna)\u001B[0m\n\u001B[1;32m    880\u001B[0m         in_axis, level, gpr \u001B[38;5;241m=\u001B[39m \u001B[38;5;28;01mFalse\u001B[39;00m, gpr, \u001B[38;5;28;01mNone\u001B[39;00m\n\u001B[1;32m    881\u001B[0m     \u001B[38;5;28;01melse\u001B[39;00m:\n\u001B[0;32m--> 882\u001B[0m         \u001B[38;5;28;01mraise\u001B[39;00m \u001B[38;5;167;01mKeyError\u001B[39;00m(gpr)\n\u001B[1;32m    883\u001B[0m \u001B[38;5;28;01melif\u001B[39;00m \u001B[38;5;28misinstance\u001B[39m(gpr, Grouper) \u001B[38;5;129;01mand\u001B[39;00m gpr\u001B[38;5;241m.\u001B[39mkey \u001B[38;5;129;01mis\u001B[39;00m \u001B[38;5;129;01mnot\u001B[39;00m \u001B[38;5;28;01mNone\u001B[39;00m:\n\u001B[1;32m    884\u001B[0m     \u001B[38;5;66;03m# Add key to exclusions\u001B[39;00m\n\u001B[1;32m    885\u001B[0m     exclusions\u001B[38;5;241m.\u001B[39madd(gpr\u001B[38;5;241m.\u001B[39mkey)\n",
      "\u001B[0;31mKeyError\u001B[0m: 'subtypeDescription'"
     ]
    }
   ],
   "source": [
    "#Interrogation par AFFILORG\n",
    "total = 0\n",
    "for labo in labID:\n",
    "    print(labo)\n",
    "    query='AF-ID('+str(labo[1])+') AND PUBYEAR > 2015 AND PUBYEAR < 2021'\n",
    "    #print (query)\n",
    "    li = ScopusSearch(query, verbose=True, download=True, subscriber=False)\n",
    "    print(labo[0], \": Total : \", li.get_results_size())\n",
    "    total += li.get_results_size()\n",
    "    #print(li.results)\n",
    "    df = pd.DataFrame(pd.DataFrame(li.results))\n",
    "    print(df.groupby('subtypeDescription')['eid'].nunique())\n",
    "print (\"Total labo = \", total)"
   ],
   "metadata": {
    "collapsed": false,
    "pycharm": {
     "name": "#%%\n"
    }
   }
  },
  {
   "cell_type": "code",
   "execution_count": 7,
   "outputs": [
    {
     "ename": "Scopus401Error",
     "evalue": "The requestor is not authorized to access the requested view or fields of the resource",
     "output_type": "error",
     "traceback": [
      "\u001B[0;31m---------------------------------------------------------------------------\u001B[0m",
      "\u001B[0;31mScopus401Error\u001B[0m                            Traceback (most recent call last)",
      "Input \u001B[0;32mIn [7]\u001B[0m, in \u001B[0;36m<module>\u001B[0;34m\u001B[0m\n\u001B[1;32m      1\u001B[0m \u001B[38;5;28;01mfrom\u001B[39;00m \u001B[38;5;21;01mpybliometrics\u001B[39;00m\u001B[38;5;21;01m.\u001B[39;00m\u001B[38;5;21;01mscopus\u001B[39;00m \u001B[38;5;28;01mimport\u001B[39;00m AuthorRetrieval\n\u001B[0;32m----> 2\u001B[0m ab \u001B[38;5;241m=\u001B[39m au2 \u001B[38;5;241m=\u001B[39m \u001B[43mAuthorRetrieval\u001B[49m\u001B[43m(\u001B[49m\u001B[38;5;124;43m\"\u001B[39;49m\u001B[38;5;124;43mBellot\u001B[39;49m\u001B[38;5;124;43m\"\u001B[39;49m\u001B[43m)\u001B[49m\n\u001B[1;32m      3\u001B[0m ab\u001B[38;5;241m.\u001B[39mh_index\n",
      "File \u001B[0;32m~/PycharmProjects/biblioScopus/venv/lib/python3.8/site-packages/pybliometrics/scopus/author_retrieval.py:246\u001B[0m, in \u001B[0;36mAuthorRetrieval.__init__\u001B[0;34m(self, author_id, refresh, view)\u001B[0m\n\u001B[1;32m    244\u001B[0m \u001B[38;5;28mself\u001B[39m\u001B[38;5;241m.\u001B[39m_view \u001B[38;5;241m=\u001B[39m view\n\u001B[1;32m    245\u001B[0m \u001B[38;5;28mself\u001B[39m\u001B[38;5;241m.\u001B[39m_refresh \u001B[38;5;241m=\u001B[39m refresh\n\u001B[0;32m--> 246\u001B[0m \u001B[43mRetrieval\u001B[49m\u001B[38;5;241;43m.\u001B[39;49m\u001B[38;5;21;43m__init__\u001B[39;49m\u001B[43m(\u001B[49m\u001B[38;5;28;43mself\u001B[39;49m\u001B[43m,\u001B[49m\u001B[43m \u001B[49m\u001B[43midentifier\u001B[49m\u001B[38;5;241;43m=\u001B[39;49m\u001B[38;5;28;43mself\u001B[39;49m\u001B[38;5;241;43m.\u001B[39;49m\u001B[43m_id\u001B[49m\u001B[43m,\u001B[49m\u001B[43m \u001B[49m\u001B[43mapi\u001B[49m\u001B[38;5;241;43m=\u001B[39;49m\u001B[38;5;124;43m'\u001B[39;49m\u001B[38;5;124;43mAuthorRetrieval\u001B[39;49m\u001B[38;5;124;43m'\u001B[39;49m\u001B[43m)\u001B[49m\n\u001B[1;32m    248\u001B[0m \u001B[38;5;66;03m# Parse json\u001B[39;00m\n\u001B[1;32m    249\u001B[0m \u001B[38;5;28mself\u001B[39m\u001B[38;5;241m.\u001B[39m_json \u001B[38;5;241m=\u001B[39m \u001B[38;5;28mself\u001B[39m\u001B[38;5;241m.\u001B[39m_json[\u001B[38;5;124m'\u001B[39m\u001B[38;5;124mauthor-retrieval-response\u001B[39m\u001B[38;5;124m'\u001B[39m]\n",
      "File \u001B[0;32m~/PycharmProjects/biblioScopus/venv/lib/python3.8/site-packages/pybliometrics/scopus/superclasses/retrieval.py:48\u001B[0m, in \u001B[0;36mRetrieval.__init__\u001B[0;34m(self, identifier, api, id_type, **kwds)\u001B[0m\n\u001B[1;32m     46\u001B[0m \u001B[38;5;66;03m# Parse file contents\u001B[39;00m\n\u001B[1;32m     47\u001B[0m params \u001B[38;5;241m=\u001B[39m {\u001B[38;5;124m'\u001B[39m\u001B[38;5;124mview\u001B[39m\u001B[38;5;124m'\u001B[39m: \u001B[38;5;28mself\u001B[39m\u001B[38;5;241m.\u001B[39m_view, \u001B[38;5;241m*\u001B[39m\u001B[38;5;241m*\u001B[39mkwds}\n\u001B[0;32m---> 48\u001B[0m \u001B[43mBase\u001B[49m\u001B[38;5;241;43m.\u001B[39;49m\u001B[38;5;21;43m__init__\u001B[39;49m\u001B[43m(\u001B[49m\u001B[38;5;28;43mself\u001B[39;49m\u001B[43m,\u001B[49m\u001B[43m \u001B[49m\u001B[43mparams\u001B[49m\u001B[38;5;241;43m=\u001B[39;49m\u001B[43mparams\u001B[49m\u001B[43m,\u001B[49m\u001B[43m \u001B[49m\u001B[43murl\u001B[49m\u001B[38;5;241;43m=\u001B[39;49m\u001B[43murl\u001B[49m\u001B[43m,\u001B[49m\u001B[43m \u001B[49m\u001B[43mapi\u001B[49m\u001B[38;5;241;43m=\u001B[39;49m\u001B[43mapi\u001B[49m\u001B[43m)\u001B[49m\n",
      "File \u001B[0;32m~/PycharmProjects/biblioScopus/venv/lib/python3.8/site-packages/pybliometrics/scopus/superclasses/base.py:59\u001B[0m, in \u001B[0;36mBase.__init__\u001B[0;34m(self, params, url, api, download, verbose, *args, **kwds)\u001B[0m\n\u001B[1;32m     57\u001B[0m         \u001B[38;5;28mself\u001B[39m\u001B[38;5;241m.\u001B[39m_json \u001B[38;5;241m=\u001B[39m loads(fname\u001B[38;5;241m.\u001B[39mread_text())\n\u001B[1;32m     58\u001B[0m \u001B[38;5;28;01melse\u001B[39;00m:\n\u001B[0;32m---> 59\u001B[0m     resp \u001B[38;5;241m=\u001B[39m \u001B[43mget_content\u001B[49m\u001B[43m(\u001B[49m\u001B[43murl\u001B[49m\u001B[43m,\u001B[49m\u001B[43m \u001B[49m\u001B[43mapi\u001B[49m\u001B[43m,\u001B[49m\u001B[43m \u001B[49m\u001B[43mparams\u001B[49m\u001B[43m,\u001B[49m\u001B[43m \u001B[49m\u001B[38;5;241;43m*\u001B[39;49m\u001B[43margs\u001B[49m\u001B[43m,\u001B[49m\u001B[43m \u001B[49m\u001B[38;5;241;43m*\u001B[39;49m\u001B[38;5;241;43m*\u001B[39;49m\u001B[43mkwds\u001B[49m\u001B[43m)\u001B[49m\n\u001B[1;32m     60\u001B[0m     header \u001B[38;5;241m=\u001B[39m resp\u001B[38;5;241m.\u001B[39mheaders\n\u001B[1;32m     61\u001B[0m     \u001B[38;5;28;01mif\u001B[39;00m search_request:\n\u001B[1;32m     62\u001B[0m         \u001B[38;5;66;03m# Get number of results\u001B[39;00m\n",
      "File \u001B[0;32m~/PycharmProjects/biblioScopus/venv/lib/python3.8/site-packages/pybliometrics/scopus/utils/get_content.py:97\u001B[0m, in \u001B[0;36mget_content\u001B[0;34m(url, api, params, **kwds)\u001B[0m\n\u001B[1;32m     95\u001B[0m         \u001B[38;5;28;01mexcept\u001B[39;00m:\n\u001B[1;32m     96\u001B[0m             reason \u001B[38;5;241m=\u001B[39m \u001B[38;5;124m\"\u001B[39m\u001B[38;5;124m\"\u001B[39m\n\u001B[0;32m---> 97\u001B[0m     \u001B[38;5;28;01mraise\u001B[39;00m errors[resp\u001B[38;5;241m.\u001B[39mstatus_code](reason)\n\u001B[1;32m     98\u001B[0m \u001B[38;5;28;01mexcept\u001B[39;00m \u001B[38;5;167;01mKeyError\u001B[39;00m:\n\u001B[1;32m     99\u001B[0m     resp\u001B[38;5;241m.\u001B[39mraise_for_status()\n",
      "\u001B[0;31mScopus401Error\u001B[0m: The requestor is not authorized to access the requested view or fields of the resource"
     ]
    }
   ],
   "source": [
    "from pybliometrics.scopus import AuthorRetrieval\n",
    "ab = au2 = AuthorRetrieval(\"Bellot\")\n",
    "ab.h_index"
   ],
   "metadata": {
    "collapsed": false,
    "pycharm": {
     "name": "#%%\n"
    }
   }
  },
  {
   "cell_type": "code",
   "execution_count": 10,
   "outputs": [
    {
     "ename": "Scopus401Error",
     "evalue": "The requestor is not authorized to access the requested view or fields of the resource",
     "output_type": "error",
     "traceback": [
      "\u001B[0;31m---------------------------------------------------------------------------\u001B[0m",
      "\u001B[0;31mScopus401Error\u001B[0m                            Traceback (most recent call last)",
      "Input \u001B[0;32mIn [10]\u001B[0m, in \u001B[0;36m<module>\u001B[0;34m\u001B[0m\n\u001B[0;32m----> 1\u001B[0m s \u001B[38;5;241m=\u001B[39m \u001B[43mScopusSearch\u001B[49m\u001B[43m(\u001B[49m\u001B[38;5;124;43m'\u001B[39;49m\u001B[38;5;124;43mISSN(1532-849X) AND PUBYEAR IS 2010\u001B[39;49m\u001B[38;5;124;43m'\u001B[39;49m\u001B[43m)\u001B[49m\n\u001B[1;32m      2\u001B[0m \u001B[38;5;28mprint\u001B[39m(s\u001B[38;5;241m.\u001B[39mresults)\n",
      "File \u001B[0;32m~/PycharmProjects/biblioScopus/venv/lib/python3.8/site-packages/pybliometrics/scopus/scopus_search.py:202\u001B[0m, in \u001B[0;36mScopusSearch.__init__\u001B[0;34m(self, query, refresh, view, verbose, download, integrity_fields, integrity_action, subscriber, **kwds)\u001B[0m\n\u001B[1;32m    200\u001B[0m \u001B[38;5;28mself\u001B[39m\u001B[38;5;241m.\u001B[39m_query \u001B[38;5;241m=\u001B[39m query\n\u001B[1;32m    201\u001B[0m \u001B[38;5;28mself\u001B[39m\u001B[38;5;241m.\u001B[39m_view \u001B[38;5;241m=\u001B[39m view\n\u001B[0;32m--> 202\u001B[0m \u001B[43mSearch\u001B[49m\u001B[38;5;241;43m.\u001B[39;49m\u001B[38;5;21;43m__init__\u001B[39;49m\u001B[43m(\u001B[49m\u001B[38;5;28;43mself\u001B[39;49m\u001B[43m,\u001B[49m\u001B[43m \u001B[49m\u001B[43mquery\u001B[49m\u001B[38;5;241;43m=\u001B[39;49m\u001B[43mquery\u001B[49m\u001B[43m,\u001B[49m\u001B[43m \u001B[49m\u001B[43mapi\u001B[49m\u001B[38;5;241;43m=\u001B[39;49m\u001B[38;5;124;43m'\u001B[39;49m\u001B[38;5;124;43mScopusSearch\u001B[39;49m\u001B[38;5;124;43m'\u001B[39;49m\u001B[43m,\u001B[49m\u001B[43m \u001B[49m\u001B[43mcount\u001B[49m\u001B[38;5;241;43m=\u001B[39;49m\u001B[43mcount\u001B[49m\u001B[43m,\u001B[49m\n\u001B[1;32m    203\u001B[0m \u001B[43m                \u001B[49m\u001B[43mcursor\u001B[49m\u001B[38;5;241;43m=\u001B[39;49m\u001B[43msubscriber\u001B[49m\u001B[43m,\u001B[49m\u001B[43m \u001B[49m\u001B[43mdownload\u001B[49m\u001B[38;5;241;43m=\u001B[39;49m\u001B[43mdownload\u001B[49m\u001B[43m,\u001B[49m\n\u001B[1;32m    204\u001B[0m \u001B[43m                \u001B[49m\u001B[43mverbose\u001B[49m\u001B[38;5;241;43m=\u001B[39;49m\u001B[43mverbose\u001B[49m\u001B[43m,\u001B[49m\u001B[43m \u001B[49m\u001B[38;5;241;43m*\u001B[39;49m\u001B[38;5;241;43m*\u001B[39;49m\u001B[43mkwds\u001B[49m\u001B[43m)\u001B[49m\n",
      "File \u001B[0;32m~/PycharmProjects/biblioScopus/venv/lib/python3.8/site-packages/pybliometrics/scopus/superclasses/search.py:61\u001B[0m, in \u001B[0;36mSearch.__init__\u001B[0;34m(self, query, api, count, cursor, download, verbose, **kwds)\u001B[0m\n\u001B[1;32m     58\u001B[0m \u001B[38;5;28mself\u001B[39m\u001B[38;5;241m.\u001B[39m_cache_file_path \u001B[38;5;241m=\u001B[39m get_folder(api, \u001B[38;5;28mself\u001B[39m\u001B[38;5;241m.\u001B[39m_view)\u001B[38;5;241m/\u001B[39mstem\n\u001B[1;32m     60\u001B[0m \u001B[38;5;66;03m# Init\u001B[39;00m\n\u001B[0;32m---> 61\u001B[0m \u001B[43mBase\u001B[49m\u001B[38;5;241;43m.\u001B[39;49m\u001B[38;5;21;43m__init__\u001B[39;49m\u001B[43m(\u001B[49m\u001B[38;5;28;43mself\u001B[39;49m\u001B[43m,\u001B[49m\u001B[43m \u001B[49m\u001B[43mparams\u001B[49m\u001B[38;5;241;43m=\u001B[39;49m\u001B[43mparams\u001B[49m\u001B[43m,\u001B[49m\u001B[43m \u001B[49m\u001B[43murl\u001B[49m\u001B[38;5;241;43m=\u001B[39;49m\u001B[43mURLS\u001B[49m\u001B[43m[\u001B[49m\u001B[43mapi\u001B[49m\u001B[43m]\u001B[49m\u001B[43m,\u001B[49m\u001B[43m \u001B[49m\u001B[43mdownload\u001B[49m\u001B[38;5;241;43m=\u001B[39;49m\u001B[43mdownload\u001B[49m\u001B[43m,\u001B[49m\n\u001B[1;32m     62\u001B[0m \u001B[43m              \u001B[49m\u001B[43mapi\u001B[49m\u001B[38;5;241;43m=\u001B[39;49m\u001B[43mapi\u001B[49m\u001B[43m,\u001B[49m\u001B[43m \u001B[49m\u001B[43mverbose\u001B[49m\u001B[38;5;241;43m=\u001B[39;49m\u001B[43mverbose\u001B[49m\u001B[43m)\u001B[49m\n",
      "File \u001B[0;32m~/PycharmProjects/biblioScopus/venv/lib/python3.8/site-packages/pybliometrics/scopus/superclasses/base.py:59\u001B[0m, in \u001B[0;36mBase.__init__\u001B[0;34m(self, params, url, api, download, verbose, *args, **kwds)\u001B[0m\n\u001B[1;32m     57\u001B[0m         \u001B[38;5;28mself\u001B[39m\u001B[38;5;241m.\u001B[39m_json \u001B[38;5;241m=\u001B[39m loads(fname\u001B[38;5;241m.\u001B[39mread_text())\n\u001B[1;32m     58\u001B[0m \u001B[38;5;28;01melse\u001B[39;00m:\n\u001B[0;32m---> 59\u001B[0m     resp \u001B[38;5;241m=\u001B[39m \u001B[43mget_content\u001B[49m\u001B[43m(\u001B[49m\u001B[43murl\u001B[49m\u001B[43m,\u001B[49m\u001B[43m \u001B[49m\u001B[43mapi\u001B[49m\u001B[43m,\u001B[49m\u001B[43m \u001B[49m\u001B[43mparams\u001B[49m\u001B[43m,\u001B[49m\u001B[43m \u001B[49m\u001B[38;5;241;43m*\u001B[39;49m\u001B[43margs\u001B[49m\u001B[43m,\u001B[49m\u001B[43m \u001B[49m\u001B[38;5;241;43m*\u001B[39;49m\u001B[38;5;241;43m*\u001B[39;49m\u001B[43mkwds\u001B[49m\u001B[43m)\u001B[49m\n\u001B[1;32m     60\u001B[0m     header \u001B[38;5;241m=\u001B[39m resp\u001B[38;5;241m.\u001B[39mheaders\n\u001B[1;32m     61\u001B[0m     \u001B[38;5;28;01mif\u001B[39;00m search_request:\n\u001B[1;32m     62\u001B[0m         \u001B[38;5;66;03m# Get number of results\u001B[39;00m\n",
      "File \u001B[0;32m~/PycharmProjects/biblioScopus/venv/lib/python3.8/site-packages/pybliometrics/scopus/utils/get_content.py:97\u001B[0m, in \u001B[0;36mget_content\u001B[0;34m(url, api, params, **kwds)\u001B[0m\n\u001B[1;32m     95\u001B[0m         \u001B[38;5;28;01mexcept\u001B[39;00m:\n\u001B[1;32m     96\u001B[0m             reason \u001B[38;5;241m=\u001B[39m \u001B[38;5;124m\"\u001B[39m\u001B[38;5;124m\"\u001B[39m\n\u001B[0;32m---> 97\u001B[0m     \u001B[38;5;28;01mraise\u001B[39;00m errors[resp\u001B[38;5;241m.\u001B[39mstatus_code](reason)\n\u001B[1;32m     98\u001B[0m \u001B[38;5;28;01mexcept\u001B[39;00m \u001B[38;5;167;01mKeyError\u001B[39;00m:\n\u001B[1;32m     99\u001B[0m     resp\u001B[38;5;241m.\u001B[39mraise_for_status()\n",
      "\u001B[0;31mScopus401Error\u001B[0m: The requestor is not authorized to access the requested view or fields of the resource"
     ]
    }
   ],
   "source": [
    "s = ScopusSearch('ISSN(1532-849X) AND PUBYEAR IS 2010',subscriber=False)\n",
    "print(s.results)"
   ],
   "metadata": {
    "collapsed": false,
    "pycharm": {
     "name": "#%%\n"
    }
   }
  }
 ],
 "metadata": {
  "kernelspec": {
   "name": "pycharm-f674b163",
   "language": "python",
   "display_name": "PyCharm (biblioScopus)"
  },
  "language_info": {
   "codemirror_mode": {
    "name": "ipython",
    "version": 2
   },
   "file_extension": ".py",
   "mimetype": "text/x-python",
   "name": "python",
   "nbconvert_exporter": "python",
   "pygments_lexer": "ipython2",
   "version": "2.7.6"
  }
 },
 "nbformat": 4,
 "nbformat_minor": 0
}